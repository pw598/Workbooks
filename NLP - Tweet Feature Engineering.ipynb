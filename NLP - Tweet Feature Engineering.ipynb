{
 "cells": [
  {
   "cell_type": "markdown",
   "id": "310a3509-db34-4bfe-adba-723938f122b7",
   "metadata": {},
   "source": [
    "# Import Libraries and Data"
   ]
  },
  {
   "cell_type": "code",
   "execution_count": 1,
   "id": "affb0216-9e5d-4dbd-9bac-3bf7995f2805",
   "metadata": {},
   "outputs": [],
   "source": [
    "import pandas as pd\n",
    "import re\n",
    "\n",
    "import spacy\n",
    "from spacy.lang.en.stop_words import STOP_WORDS\n",
    "nlp = spacy.load('en_core_web_sm')"
   ]
  },
  {
   "cell_type": "code",
   "execution_count": 2,
   "id": "0d6d472f-ee1b-45a6-87dd-c6b017cf4ccf",
   "metadata": {
    "tags": []
   },
   "outputs": [
    {
     "name": "stdout",
     "output_type": "stream",
     "text": [
      "(5157, 14)\n"
     ]
    },
    {
     "data": {
      "text/html": [
       "<div>\n",
       "<style scoped>\n",
       "    .dataframe tbody tr th:only-of-type {\n",
       "        vertical-align: middle;\n",
       "    }\n",
       "\n",
       "    .dataframe tbody tr th {\n",
       "        vertical-align: top;\n",
       "    }\n",
       "\n",
       "    .dataframe thead th {\n",
       "        text-align: right;\n",
       "    }\n",
       "</style>\n",
       "<table border=\"1\" class=\"dataframe\">\n",
       "  <thead>\n",
       "    <tr style=\"text-align: right;\">\n",
       "      <th></th>\n",
       "      <th>text</th>\n",
       "      <th>favorited</th>\n",
       "      <th>favoriteCount</th>\n",
       "      <th>replyToSN</th>\n",
       "      <th>created</th>\n",
       "      <th>truncated</th>\n",
       "      <th>replyToSID</th>\n",
       "      <th>id</th>\n",
       "      <th>replyToUID</th>\n",
       "      <th>statusSource</th>\n",
       "      <th>screenName</th>\n",
       "      <th>retweetCount</th>\n",
       "      <th>isRetweet</th>\n",
       "      <th>retweeted</th>\n",
       "    </tr>\n",
       "  </thead>\n",
       "  <tbody>\n",
       "    <tr>\n",
       "      <th>0</th>\n",
       "      <td>RT @rssurjewala: Critical question: Was PayTM ...</td>\n",
       "      <td>False</td>\n",
       "      <td>0.0</td>\n",
       "      <td>NaN</td>\n",
       "      <td>2016-11-23 18:40:30</td>\n",
       "      <td>False</td>\n",
       "      <td>NaN</td>\n",
       "      <td>8.014957e+17</td>\n",
       "      <td>NaN</td>\n",
       "      <td>&lt;a href=\"http://twitter.com/download/android\" ...</td>\n",
       "      <td>HASHTAGFARZIWAL</td>\n",
       "      <td>331.0</td>\n",
       "      <td>True</td>\n",
       "      <td>False</td>\n",
       "    </tr>\n",
       "    <tr>\n",
       "      <th>1</th>\n",
       "      <td>RT @Hemant_80: Did you vote on #Demonetization...</td>\n",
       "      <td>False</td>\n",
       "      <td>0.0</td>\n",
       "      <td>NaN</td>\n",
       "      <td>2016-11-23 18:40:29</td>\n",
       "      <td>False</td>\n",
       "      <td>NaN</td>\n",
       "      <td>8.014957e+17</td>\n",
       "      <td>NaN</td>\n",
       "      <td>&lt;a href=\"http://twitter.com/download/android\" ...</td>\n",
       "      <td>PRAMODKAUSHIK9</td>\n",
       "      <td>66.0</td>\n",
       "      <td>True</td>\n",
       "      <td>False</td>\n",
       "    </tr>\n",
       "  </tbody>\n",
       "</table>\n",
       "</div>"
      ],
      "text/plain": [
       "                                                text favorited  favoriteCount  \\\n",
       "0  RT @rssurjewala: Critical question: Was PayTM ...     False            0.0   \n",
       "1  RT @Hemant_80: Did you vote on #Demonetization...     False            0.0   \n",
       "\n",
       "  replyToSN              created truncated  replyToSID            id  \\\n",
       "0       NaN  2016-11-23 18:40:30     False         NaN  8.014957e+17   \n",
       "1       NaN  2016-11-23 18:40:29     False         NaN  8.014957e+17   \n",
       "\n",
       "   replyToUID                                       statusSource  \\\n",
       "0         NaN  <a href=\"http://twitter.com/download/android\" ...   \n",
       "1         NaN  <a href=\"http://twitter.com/download/android\" ...   \n",
       "\n",
       "        screenName  retweetCount isRetweet retweeted  \n",
       "0  HASHTAGFARZIWAL         331.0      True     False  \n",
       "1   PRAMODKAUSHIK9          66.0      True     False  "
      ]
     },
     "execution_count": 2,
     "metadata": {},
     "output_type": "execute_result"
    }
   ],
   "source": [
    "df = pd.read_csv('tweets.csv')\n",
    "print(df.shape)\n",
    "df.head(2)"
   ]
  },
  {
   "cell_type": "code",
   "execution_count": 3,
   "id": "69da3226-f8d7-4642-91bb-4ab230c7a703",
   "metadata": {
    "tags": []
   },
   "outputs": [],
   "source": [
    "# reduce to text column\n",
    "df.drop(df.columns[1:], axis=1, inplace=True)"
   ]
  },
  {
   "cell_type": "code",
   "execution_count": 4,
   "id": "4f27c073-ba49-4dd0-b7f1-9325a96b8100",
   "metadata": {
    "tags": []
   },
   "outputs": [
    {
     "data": {
      "text/plain": [
       "'RT @smita_muk: BREAKING NEWS\\r\\nPMapps result amnounced!\\r\\n90% Indians support #demonetization\\r\\n<ed><U+00A0><U+00BD><ed><U+00B1><U+008F><ed><U+00A0><U+00BD><ed><U+00B1><U+008F><ed><U+00A0><U+00BD><ed><U+00B1><U+008F><ed><U+00A0><U+00BD><ed><U+00B1><U+008F><ed><U+00A0><U+00BD><ed><U+00B1><U+008F><ed><U+00A0><U+00BD><ed><U+00B1><U+008F><U+270C><U+270C><U+270C><U+270C><U+270C><U+270C><ed><U+00A0><U+00BD><ed><U+00B1><U+0086><ed><U+00A0><U+00BD><ed><U+00B1><U+0086><ed><U+00A0><U+00BD><ed><U+00B1><U+0086><ed><U+00A0><U+00BD><ed><U+00B1><U+0086><ed><U+00A0><U+00BD><ed><U+00B1><U+0086><ed><U+00A0><U+00BD><ed><U+00B1><U+0086>\\r\\n@narendramodi Zindabad!'"
      ]
     },
     "execution_count": 4,
     "metadata": {},
     "output_type": "execute_result"
    }
   ],
   "source": [
    "df.loc[512,'text']"
   ]
  },
  {
   "cell_type": "code",
   "execution_count": 5,
   "id": "1e77f28c-4cf4-4db6-aa41-4369710d0be2",
   "metadata": {
    "tags": []
   },
   "outputs": [],
   "source": [
    "def preprocess(text):\n",
    "\n",
    "    # Remove unicode characters\n",
    "    text = re.sub(r\"<U\\+[A-Z0-9]+>|<ed>\", \"\", text)\n",
    "    # Remove newline and rawstring characters\n",
    "    text = re.sub(r\"\\n|\\r\", \" \", text)\n",
    "    text = re.sub(r\"  \", \" \", text)\n",
    "    text = re.sub(r\"   \", \" \", text)\n",
    "    text = re.sub(r\"    \", \" \", text)\n",
    "\n",
    "    return text"
   ]
  },
  {
   "cell_type": "code",
   "execution_count": 6,
   "id": "f27a6883-6b21-4b53-95fd-7feb11a85b4a",
   "metadata": {
    "tags": []
   },
   "outputs": [],
   "source": [
    "df['text'] = df['text'].apply(preprocess)"
   ]
  },
  {
   "cell_type": "code",
   "execution_count": 7,
   "id": "e1f27489-b16e-47a3-b19a-5e92372b0839",
   "metadata": {
    "tags": []
   },
   "outputs": [
    {
     "data": {
      "text/plain": [
       "'RT @smita_muk: BREAKING NEWS PMapps result amnounced! 90% Indians support #demonetization  @narendramodi Zindabad!'"
      ]
     },
     "execution_count": 7,
     "metadata": {},
     "output_type": "execute_result"
    }
   ],
   "source": [
    "df.loc[512,'text']"
   ]
  },
  {
   "cell_type": "markdown",
   "id": "fdd233ee-5637-4afe-bb92-c298539f15c4",
   "metadata": {},
   "source": [
    "# Number of Mentions"
   ]
  },
  {
   "cell_type": "code",
   "execution_count": 9,
   "id": "052fb934-d237-4dc3-9a66-74e13aa08bec",
   "metadata": {
    "tags": []
   },
   "outputs": [],
   "source": [
    "def mentions(text):\n",
    "    mentions = re.findall('@\\w+', text)\n",
    "    return len(mentions)"
   ]
  },
  {
   "cell_type": "code",
   "execution_count": 10,
   "id": "ad742ed8-f114-464a-894d-a9a00beefd5c",
   "metadata": {
    "tags": []
   },
   "outputs": [
    {
     "data": {
      "text/html": [
       "<div>\n",
       "<style scoped>\n",
       "    .dataframe tbody tr th:only-of-type {\n",
       "        vertical-align: middle;\n",
       "    }\n",
       "\n",
       "    .dataframe tbody tr th {\n",
       "        vertical-align: top;\n",
       "    }\n",
       "\n",
       "    .dataframe thead th {\n",
       "        text-align: right;\n",
       "    }\n",
       "</style>\n",
       "<table border=\"1\" class=\"dataframe\">\n",
       "  <thead>\n",
       "    <tr style=\"text-align: right;\">\n",
       "      <th></th>\n",
       "      <th>text</th>\n",
       "      <th>mentions_count</th>\n",
       "    </tr>\n",
       "  </thead>\n",
       "  <tbody>\n",
       "    <tr>\n",
       "      <th>0</th>\n",
       "      <td>RT @rssurjewala: Critical question: Was PayTM ...</td>\n",
       "      <td>1</td>\n",
       "    </tr>\n",
       "    <tr>\n",
       "      <th>1</th>\n",
       "      <td>RT @Hemant_80: Did you vote on #Demonetization...</td>\n",
       "      <td>1</td>\n",
       "    </tr>\n",
       "    <tr>\n",
       "      <th>2</th>\n",
       "      <td>RT @roshankar: Former FinSec, RBI Dy Governor,...</td>\n",
       "      <td>1</td>\n",
       "    </tr>\n",
       "    <tr>\n",
       "      <th>3</th>\n",
       "      <td>RT @ANI_news: Gurugram (Haryana): Post office ...</td>\n",
       "      <td>1</td>\n",
       "    </tr>\n",
       "    <tr>\n",
       "      <th>4</th>\n",
       "      <td>RT @satishacharya: Reddy Wedding! @mail_today ...</td>\n",
       "      <td>2</td>\n",
       "    </tr>\n",
       "  </tbody>\n",
       "</table>\n",
       "</div>"
      ],
      "text/plain": [
       "                                                text  mentions_count\n",
       "0  RT @rssurjewala: Critical question: Was PayTM ...               1\n",
       "1  RT @Hemant_80: Did you vote on #Demonetization...               1\n",
       "2  RT @roshankar: Former FinSec, RBI Dy Governor,...               1\n",
       "3  RT @ANI_news: Gurugram (Haryana): Post office ...               1\n",
       "4  RT @satishacharya: Reddy Wedding! @mail_today ...               2"
      ]
     },
     "execution_count": 10,
     "metadata": {},
     "output_type": "execute_result"
    }
   ],
   "source": [
    "df['mentions_count'] = df['text'].apply(mentions)\n",
    "df.head()"
   ]
  },
  {
   "cell_type": "code",
   "execution_count": 11,
   "id": "e32b0aa9-86db-43d7-b978-b721d8350986",
   "metadata": {
    "tags": []
   },
   "outputs": [
    {
     "data": {
      "text/plain": [
       "count    5157.000000\n",
       "mean        0.946481\n",
       "std         1.195027\n",
       "min         0.000000\n",
       "25%         0.000000\n",
       "50%         1.000000\n",
       "75%         1.000000\n",
       "max        13.000000\n",
       "Name: mentions_count, dtype: float64"
      ]
     },
     "execution_count": 11,
     "metadata": {},
     "output_type": "execute_result"
    }
   ],
   "source": [
    "df['mentions_count'].describe()"
   ]
  },
  {
   "cell_type": "markdown",
   "id": "116a4001-99ad-4365-8a5a-ecd1c16b053c",
   "metadata": {},
   "source": [
    "# Number of Hashtags"
   ]
  },
  {
   "cell_type": "code",
   "execution_count": 12,
   "id": "a2e51dea-fa7b-45b3-b61a-dc724af10141",
   "metadata": {
    "tags": []
   },
   "outputs": [],
   "source": [
    "def hashtags(text):\n",
    "    hashtags = re.findall('#\\w+', text)\n",
    "    return len(hashtags)"
   ]
  },
  {
   "cell_type": "code",
   "execution_count": 16,
   "id": "1b27f718-099f-4370-a514-bb28b25cf67d",
   "metadata": {
    "tags": []
   },
   "outputs": [
    {
     "data": {
      "text/html": [
       "<div>\n",
       "<style scoped>\n",
       "    .dataframe tbody tr th:only-of-type {\n",
       "        vertical-align: middle;\n",
       "    }\n",
       "\n",
       "    .dataframe tbody tr th {\n",
       "        vertical-align: top;\n",
       "    }\n",
       "\n",
       "    .dataframe thead th {\n",
       "        text-align: right;\n",
       "    }\n",
       "</style>\n",
       "<table border=\"1\" class=\"dataframe\">\n",
       "  <thead>\n",
       "    <tr style=\"text-align: right;\">\n",
       "      <th></th>\n",
       "      <th>text</th>\n",
       "      <th>mentions_count</th>\n",
       "      <th>hashtags_count</th>\n",
       "    </tr>\n",
       "  </thead>\n",
       "  <tbody>\n",
       "    <tr>\n",
       "      <th>7</th>\n",
       "      <td>RT @Joydeep_911: Calling all Nationalists to j...</td>\n",
       "      <td>1</td>\n",
       "      <td>2</td>\n",
       "    </tr>\n",
       "    <tr>\n",
       "      <th>8</th>\n",
       "      <td>RT @sumitbhati2002: Many opposition leaders ar...</td>\n",
       "      <td>2</td>\n",
       "      <td>1</td>\n",
       "    </tr>\n",
       "  </tbody>\n",
       "</table>\n",
       "</div>"
      ],
      "text/plain": [
       "                                                text  mentions_count  \\\n",
       "7  RT @Joydeep_911: Calling all Nationalists to j...               1   \n",
       "8  RT @sumitbhati2002: Many opposition leaders ar...               2   \n",
       "\n",
       "   hashtags_count  \n",
       "7               2  \n",
       "8               1  "
      ]
     },
     "execution_count": 16,
     "metadata": {},
     "output_type": "execute_result"
    }
   ],
   "source": [
    "df['hashtags_count'] = df['text'].apply(hashtags)\n",
    "df[df['mentions_count'] != df['hashtags_count']].head(2)"
   ]
  },
  {
   "cell_type": "code",
   "execution_count": 17,
   "id": "4472444b-7257-4ba5-ac85-f52322d4f51c",
   "metadata": {
    "tags": []
   },
   "outputs": [
    {
     "data": {
      "text/plain": [
       "count    5157.000000\n",
       "mean        1.125461\n",
       "std         1.362941\n",
       "min         0.000000\n",
       "25%         0.000000\n",
       "50%         1.000000\n",
       "75%         1.000000\n",
       "max        10.000000\n",
       "Name: hashtags_count, dtype: float64"
      ]
     },
     "execution_count": 17,
     "metadata": {},
     "output_type": "execute_result"
    }
   ],
   "source": [
    "df['hashtags_count'].describe()"
   ]
  },
  {
   "cell_type": "markdown",
   "id": "57d3779c-3de3-4b5b-948d-424b7a2c78b5",
   "metadata": {},
   "source": [
    "# Number of Name Titles"
   ]
  },
  {
   "cell_type": "code",
   "execution_count": 18,
   "id": "19d4af21-d78e-4653-a2d8-7486168d873c",
   "metadata": {
    "tags": []
   },
   "outputs": [],
   "source": [
    "def title(text):\n",
    "    count = re.findall('Mr\\.|Mrs\\.|Dr\\.|Miss\\s*', text)\n",
    "    return len(count)"
   ]
  },
  {
   "cell_type": "code",
   "execution_count": 25,
   "id": "de0638b8-b4a9-4863-bdfc-b237998549ee",
   "metadata": {
    "tags": []
   },
   "outputs": [
    {
     "data": {
      "text/plain": [
       "0       0\n",
       "1       0\n",
       "2       0\n",
       "3       0\n",
       "4       0\n",
       "       ..\n",
       "5152    0\n",
       "5153    0\n",
       "5154    0\n",
       "5155    0\n",
       "5156    0\n",
       "Name: text, Length: 5157, dtype: int64"
      ]
     },
     "execution_count": 25,
     "metadata": {},
     "output_type": "execute_result"
    }
   ],
   "source": [
    "df['text'].apply(title)"
   ]
  },
  {
   "cell_type": "markdown",
   "id": "ae412216-fe41-4264-92bb-08330eb203bf",
   "metadata": {},
   "source": [
    "# Word Count"
   ]
  },
  {
   "cell_type": "code",
   "execution_count": 26,
   "id": "cf389ee6-3f23-407c-8bfc-3f7ec363f568",
   "metadata": {
    "tags": []
   },
   "outputs": [
    {
     "data": {
      "text/html": [
       "<div>\n",
       "<style scoped>\n",
       "    .dataframe tbody tr th:only-of-type {\n",
       "        vertical-align: middle;\n",
       "    }\n",
       "\n",
       "    .dataframe tbody tr th {\n",
       "        vertical-align: top;\n",
       "    }\n",
       "\n",
       "    .dataframe thead th {\n",
       "        text-align: right;\n",
       "    }\n",
       "</style>\n",
       "<table border=\"1\" class=\"dataframe\">\n",
       "  <thead>\n",
       "    <tr style=\"text-align: right;\">\n",
       "      <th></th>\n",
       "      <th>text</th>\n",
       "      <th>mentions_count</th>\n",
       "      <th>hashtags_count</th>\n",
       "      <th>word_count</th>\n",
       "    </tr>\n",
       "  </thead>\n",
       "  <tbody>\n",
       "    <tr>\n",
       "      <th>0</th>\n",
       "      <td>RT @rssurjewala: Critical question: Was PayTM ...</td>\n",
       "      <td>1</td>\n",
       "      <td>1</td>\n",
       "      <td>20</td>\n",
       "    </tr>\n",
       "    <tr>\n",
       "      <th>1</th>\n",
       "      <td>RT @Hemant_80: Did you vote on #Demonetization...</td>\n",
       "      <td>1</td>\n",
       "      <td>1</td>\n",
       "      <td>11</td>\n",
       "    </tr>\n",
       "  </tbody>\n",
       "</table>\n",
       "</div>"
      ],
      "text/plain": [
       "                                                text  mentions_count  \\\n",
       "0  RT @rssurjewala: Critical question: Was PayTM ...               1   \n",
       "1  RT @Hemant_80: Did you vote on #Demonetization...               1   \n",
       "\n",
       "   hashtags_count  word_count  \n",
       "0               1          20  \n",
       "1               1          11  "
      ]
     },
     "execution_count": 26,
     "metadata": {},
     "output_type": "execute_result"
    }
   ],
   "source": [
    "df['word_count'] = [len(i.split()) for i in df['text']]\n",
    "df.head(2)"
   ]
  },
  {
   "cell_type": "code",
   "execution_count": 27,
   "id": "beb0bdb3-76cc-4667-9417-b39170278045",
   "metadata": {
    "tags": []
   },
   "outputs": [
    {
     "data": {
      "text/plain": [
       "count    5157.000000\n",
       "mean       16.461703\n",
       "std         4.752193\n",
       "min         1.000000\n",
       "25%        13.000000\n",
       "50%        17.000000\n",
       "75%        20.000000\n",
       "max        29.000000\n",
       "Name: word_count, dtype: float64"
      ]
     },
     "execution_count": 27,
     "metadata": {},
     "output_type": "execute_result"
    }
   ],
   "source": [
    "df['word_count'].describe()"
   ]
  },
  {
   "cell_type": "markdown",
   "id": "354cffa3-2fdd-4dba-972e-8572068e1c63",
   "metadata": {},
   "source": [
    "# Number of Characters"
   ]
  },
  {
   "cell_type": "code",
   "execution_count": 28,
   "id": "8d58f9c5-3000-47c4-90e3-ec7a1af7fe48",
   "metadata": {
    "tags": []
   },
   "outputs": [
    {
     "data": {
      "text/html": [
       "<div>\n",
       "<style scoped>\n",
       "    .dataframe tbody tr th:only-of-type {\n",
       "        vertical-align: middle;\n",
       "    }\n",
       "\n",
       "    .dataframe tbody tr th {\n",
       "        vertical-align: top;\n",
       "    }\n",
       "\n",
       "    .dataframe thead th {\n",
       "        text-align: right;\n",
       "    }\n",
       "</style>\n",
       "<table border=\"1\" class=\"dataframe\">\n",
       "  <thead>\n",
       "    <tr style=\"text-align: right;\">\n",
       "      <th></th>\n",
       "      <th>text</th>\n",
       "      <th>mentions_count</th>\n",
       "      <th>hashtags_count</th>\n",
       "      <th>word_count</th>\n",
       "      <th>character_count</th>\n",
       "    </tr>\n",
       "  </thead>\n",
       "  <tbody>\n",
       "    <tr>\n",
       "      <th>0</th>\n",
       "      <td>RT @rssurjewala: Critical question: Was PayTM ...</td>\n",
       "      <td>1</td>\n",
       "      <td>1</td>\n",
       "      <td>20</td>\n",
       "      <td>144</td>\n",
       "    </tr>\n",
       "    <tr>\n",
       "      <th>1</th>\n",
       "      <td>RT @Hemant_80: Did you vote on #Demonetization...</td>\n",
       "      <td>1</td>\n",
       "      <td>1</td>\n",
       "      <td>11</td>\n",
       "      <td>66</td>\n",
       "    </tr>\n",
       "  </tbody>\n",
       "</table>\n",
       "</div>"
      ],
      "text/plain": [
       "                                                text  mentions_count  \\\n",
       "0  RT @rssurjewala: Critical question: Was PayTM ...               1   \n",
       "1  RT @Hemant_80: Did you vote on #Demonetization...               1   \n",
       "\n",
       "   hashtags_count  word_count  character_count  \n",
       "0               1          20              144  \n",
       "1               1          11               66  "
      ]
     },
     "execution_count": 28,
     "metadata": {},
     "output_type": "execute_result"
    }
   ],
   "source": [
    "df['character_count'] = [len(i) for i in df['text']]\n",
    "df.head(2)"
   ]
  },
  {
   "cell_type": "code",
   "execution_count": 40,
   "id": "a5a8618c-93f2-4c2f-bb28-97b71e706852",
   "metadata": {
    "tags": []
   },
   "outputs": [
    {
     "data": {
      "text/plain": [
       "count    5157.000000\n",
       "mean      122.200310\n",
       "std        24.099436\n",
       "min         9.000000\n",
       "25%       110.000000\n",
       "50%       134.000000\n",
       "75%       140.000000\n",
       "max       149.000000\n",
       "Name: character_count, dtype: float64"
      ]
     },
     "execution_count": 40,
     "metadata": {},
     "output_type": "execute_result"
    }
   ],
   "source": [
    "df['character_count'].describe()"
   ]
  },
  {
   "cell_type": "markdown",
   "id": "0f77e9d2-0616-4cc4-b92b-d8b97df0022b",
   "metadata": {},
   "source": [
    "# Number of Characters Without Spaces"
   ]
  },
  {
   "cell_type": "code",
   "execution_count": 34,
   "id": "233a0c8d-eade-427d-a56f-c3592dcaf9aa",
   "metadata": {
    "tags": []
   },
   "outputs": [],
   "source": [
    "def remove_spaces(text):\n",
    "    text = re.sub(r\" \", \"\", text)\n",
    "    return text"
   ]
  },
  {
   "cell_type": "code",
   "execution_count": 35,
   "id": "3020a8bc-2602-4297-893a-1194a73fb870",
   "metadata": {
    "tags": []
   },
   "outputs": [],
   "source": [
    "nospace_df = pd.DataFrame()\n",
    "nospace_df['text'] = df['text'].apply(remove_spaces)"
   ]
  },
  {
   "cell_type": "code",
   "execution_count": 36,
   "id": "8b1929a4-caf1-4fad-a6d4-a9cd50be13a1",
   "metadata": {
    "tags": []
   },
   "outputs": [
    {
     "data": {
      "text/html": [
       "<div>\n",
       "<style scoped>\n",
       "    .dataframe tbody tr th:only-of-type {\n",
       "        vertical-align: middle;\n",
       "    }\n",
       "\n",
       "    .dataframe tbody tr th {\n",
       "        vertical-align: top;\n",
       "    }\n",
       "\n",
       "    .dataframe thead th {\n",
       "        text-align: right;\n",
       "    }\n",
       "</style>\n",
       "<table border=\"1\" class=\"dataframe\">\n",
       "  <thead>\n",
       "    <tr style=\"text-align: right;\">\n",
       "      <th></th>\n",
       "      <th>text</th>\n",
       "      <th>character_count</th>\n",
       "    </tr>\n",
       "  </thead>\n",
       "  <tbody>\n",
       "    <tr>\n",
       "      <th>0</th>\n",
       "      <td>RT@rssurjewala:Criticalquestion:WasPayTMinform...</td>\n",
       "      <td>125</td>\n",
       "    </tr>\n",
       "    <tr>\n",
       "      <th>1</th>\n",
       "      <td>RT@Hemant_80:Didyouvoteon#DemonetizationonModi...</td>\n",
       "      <td>56</td>\n",
       "    </tr>\n",
       "  </tbody>\n",
       "</table>\n",
       "</div>"
      ],
      "text/plain": [
       "                                                text  character_count\n",
       "0  RT@rssurjewala:Criticalquestion:WasPayTMinform...              125\n",
       "1  RT@Hemant_80:Didyouvoteon#DemonetizationonModi...               56"
      ]
     },
     "execution_count": 36,
     "metadata": {},
     "output_type": "execute_result"
    }
   ],
   "source": [
    "nospace_df['character_count'] = [len(i) for i in nospace_df['text']]\n",
    "nospace_df.head(2)"
   ]
  },
  {
   "cell_type": "markdown",
   "id": "08e76df5-f21b-4c94-8809-6225e76399c6",
   "metadata": {},
   "source": [
    "# Average Word Length"
   ]
  },
  {
   "cell_type": "code",
   "execution_count": 37,
   "id": "fa82fd01-3fb7-416f-b234-f39c8be5dce4",
   "metadata": {
    "tags": []
   },
   "outputs": [],
   "source": [
    "def avg_word_len(text):\n",
    "    word_lens = 0\n",
    "    for token in text.split():\n",
    "        word_lens += len(token)\n",
    "    word_count = text.split()\n",
    "    return word_lens/len(word_count)"
   ]
  },
  {
   "cell_type": "code",
   "execution_count": 39,
   "id": "258262bf-92c5-44ac-826d-3ceb1d1d0f3e",
   "metadata": {
    "tags": []
   },
   "outputs": [
    {
     "data": {
      "text/html": [
       "<div>\n",
       "<style scoped>\n",
       "    .dataframe tbody tr th:only-of-type {\n",
       "        vertical-align: middle;\n",
       "    }\n",
       "\n",
       "    .dataframe tbody tr th {\n",
       "        vertical-align: top;\n",
       "    }\n",
       "\n",
       "    .dataframe thead th {\n",
       "        text-align: right;\n",
       "    }\n",
       "</style>\n",
       "<table border=\"1\" class=\"dataframe\">\n",
       "  <thead>\n",
       "    <tr style=\"text-align: right;\">\n",
       "      <th></th>\n",
       "      <th>text</th>\n",
       "      <th>mentions_count</th>\n",
       "      <th>hashtags_count</th>\n",
       "      <th>word_count</th>\n",
       "      <th>character_count</th>\n",
       "      <th>avg_word_len</th>\n",
       "    </tr>\n",
       "  </thead>\n",
       "  <tbody>\n",
       "    <tr>\n",
       "      <th>0</th>\n",
       "      <td>RT @rssurjewala: Critical question: Was PayTM ...</td>\n",
       "      <td>1</td>\n",
       "      <td>1</td>\n",
       "      <td>20</td>\n",
       "      <td>144</td>\n",
       "      <td>6.200000</td>\n",
       "    </tr>\n",
       "    <tr>\n",
       "      <th>1</th>\n",
       "      <td>RT @Hemant_80: Did you vote on #Demonetization...</td>\n",
       "      <td>1</td>\n",
       "      <td>1</td>\n",
       "      <td>11</td>\n",
       "      <td>66</td>\n",
       "      <td>5.090909</td>\n",
       "    </tr>\n",
       "  </tbody>\n",
       "</table>\n",
       "</div>"
      ],
      "text/plain": [
       "                                                text  mentions_count  \\\n",
       "0  RT @rssurjewala: Critical question: Was PayTM ...               1   \n",
       "1  RT @Hemant_80: Did you vote on #Demonetization...               1   \n",
       "\n",
       "   hashtags_count  word_count  character_count  avg_word_len  \n",
       "0               1          20              144      6.200000  \n",
       "1               1          11               66      5.090909  "
      ]
     },
     "execution_count": 39,
     "metadata": {},
     "output_type": "execute_result"
    }
   ],
   "source": [
    "df['avg_word_len'] = df['text'].apply(avg_word_len)\n",
    "df.head(2)"
   ]
  },
  {
   "cell_type": "markdown",
   "id": "70f70a99-f1a3-41c1-bc0c-b1f98b19cc7b",
   "metadata": {},
   "source": [
    "# Count of Stopwords"
   ]
  },
  {
   "cell_type": "code",
   "execution_count": 41,
   "id": "55075bf3-5159-48e9-8f97-32220c1830e2",
   "metadata": {
    "tags": []
   },
   "outputs": [],
   "source": [
    "def stopwords(text):\n",
    "    doc = nlp(text)\n",
    "    count = 0\n",
    "    for token in doc:\n",
    "        if token.is_stop == True:\n",
    "            count += 1\n",
    "    return count"
   ]
  },
  {
   "cell_type": "code",
   "execution_count": 42,
   "id": "32f837b5-743c-4dfd-b9cb-efa11f8c4969",
   "metadata": {
    "tags": []
   },
   "outputs": [],
   "source": [
    "df['stopwords'] = df['text'].apply(stopwords)"
   ]
  },
  {
   "cell_type": "code",
   "execution_count": 43,
   "id": "ebb7d67d-2a41-417a-97c3-b3cacb083f86",
   "metadata": {
    "tags": []
   },
   "outputs": [
    {
     "data": {
      "text/html": [
       "<div>\n",
       "<style scoped>\n",
       "    .dataframe tbody tr th:only-of-type {\n",
       "        vertical-align: middle;\n",
       "    }\n",
       "\n",
       "    .dataframe tbody tr th {\n",
       "        vertical-align: top;\n",
       "    }\n",
       "\n",
       "    .dataframe thead th {\n",
       "        text-align: right;\n",
       "    }\n",
       "</style>\n",
       "<table border=\"1\" class=\"dataframe\">\n",
       "  <thead>\n",
       "    <tr style=\"text-align: right;\">\n",
       "      <th></th>\n",
       "      <th>text</th>\n",
       "      <th>mentions_count</th>\n",
       "      <th>hashtags_count</th>\n",
       "      <th>word_count</th>\n",
       "      <th>character_count</th>\n",
       "      <th>avg_word_len</th>\n",
       "      <th>stopwords</th>\n",
       "    </tr>\n",
       "  </thead>\n",
       "  <tbody>\n",
       "    <tr>\n",
       "      <th>0</th>\n",
       "      <td>RT @rssurjewala: Critical question: Was PayTM ...</td>\n",
       "      <td>1</td>\n",
       "      <td>1</td>\n",
       "      <td>20</td>\n",
       "      <td>144</td>\n",
       "      <td>6.200000</td>\n",
       "      <td>7</td>\n",
       "    </tr>\n",
       "    <tr>\n",
       "      <th>1</th>\n",
       "      <td>RT @Hemant_80: Did you vote on #Demonetization...</td>\n",
       "      <td>1</td>\n",
       "      <td>1</td>\n",
       "      <td>11</td>\n",
       "      <td>66</td>\n",
       "      <td>5.090909</td>\n",
       "      <td>4</td>\n",
       "    </tr>\n",
       "  </tbody>\n",
       "</table>\n",
       "</div>"
      ],
      "text/plain": [
       "                                                text  mentions_count  \\\n",
       "0  RT @rssurjewala: Critical question: Was PayTM ...               1   \n",
       "1  RT @Hemant_80: Did you vote on #Demonetization...               1   \n",
       "\n",
       "   hashtags_count  word_count  character_count  avg_word_len  stopwords  \n",
       "0               1          20              144      6.200000          7  \n",
       "1               1          11               66      5.090909          4  "
      ]
     },
     "execution_count": 43,
     "metadata": {},
     "output_type": "execute_result"
    }
   ],
   "source": [
    "df.head(2)"
   ]
  },
  {
   "cell_type": "markdown",
   "id": "e5cf7289-b2cb-466a-9aa2-64927ca592df",
   "metadata": {},
   "source": [
    "# Count of POS Tags"
   ]
  },
  {
   "cell_type": "code",
   "execution_count": 44,
   "id": "778d2f52-f337-46ed-a853-6bf3baddbeea",
   "metadata": {
    "tags": []
   },
   "outputs": [],
   "source": [
    "def pos(text):\n",
    "    doc = nlp(text)\n",
    "    count = 0\n",
    "    for token in doc:\n",
    "        if token.pos_ in [\"NOUN\",\"ADP\",\"ADJ\"]:\n",
    "            count += 1\n",
    "    return count"
   ]
  },
  {
   "cell_type": "code",
   "execution_count": 45,
   "id": "429ffbf1-13e2-4ee1-a28d-c6a00e72b983",
   "metadata": {
    "tags": []
   },
   "outputs": [
    {
     "data": {
      "text/html": [
       "<div>\n",
       "<style scoped>\n",
       "    .dataframe tbody tr th:only-of-type {\n",
       "        vertical-align: middle;\n",
       "    }\n",
       "\n",
       "    .dataframe tbody tr th {\n",
       "        vertical-align: top;\n",
       "    }\n",
       "\n",
       "    .dataframe thead th {\n",
       "        text-align: right;\n",
       "    }\n",
       "</style>\n",
       "<table border=\"1\" class=\"dataframe\">\n",
       "  <thead>\n",
       "    <tr style=\"text-align: right;\">\n",
       "      <th></th>\n",
       "      <th>text</th>\n",
       "      <th>mentions_count</th>\n",
       "      <th>hashtags_count</th>\n",
       "      <th>word_count</th>\n",
       "      <th>character_count</th>\n",
       "      <th>avg_word_len</th>\n",
       "      <th>stopwords</th>\n",
       "      <th>pos</th>\n",
       "    </tr>\n",
       "  </thead>\n",
       "  <tbody>\n",
       "    <tr>\n",
       "      <th>0</th>\n",
       "      <td>RT @rssurjewala: Critical question: Was PayTM ...</td>\n",
       "      <td>1</td>\n",
       "      <td>1</td>\n",
       "      <td>20</td>\n",
       "      <td>144</td>\n",
       "      <td>6.200000</td>\n",
       "      <td>7</td>\n",
       "      <td>9</td>\n",
       "    </tr>\n",
       "    <tr>\n",
       "      <th>1</th>\n",
       "      <td>RT @Hemant_80: Did you vote on #Demonetization...</td>\n",
       "      <td>1</td>\n",
       "      <td>1</td>\n",
       "      <td>11</td>\n",
       "      <td>66</td>\n",
       "      <td>5.090909</td>\n",
       "      <td>4</td>\n",
       "      <td>4</td>\n",
       "    </tr>\n",
       "  </tbody>\n",
       "</table>\n",
       "</div>"
      ],
      "text/plain": [
       "                                                text  mentions_count  \\\n",
       "0  RT @rssurjewala: Critical question: Was PayTM ...               1   \n",
       "1  RT @Hemant_80: Did you vote on #Demonetization...               1   \n",
       "\n",
       "   hashtags_count  word_count  character_count  avg_word_len  stopwords  pos  \n",
       "0               1          20              144      6.200000          7    9  \n",
       "1               1          11               66      5.090909          4    4  "
      ]
     },
     "execution_count": 45,
     "metadata": {},
     "output_type": "execute_result"
    }
   ],
   "source": [
    "df['pos'] = df['text'].apply(pos)\n",
    "df.head(2)"
   ]
  },
  {
   "cell_type": "markdown",
   "id": "108508f0-8090-492d-b9d1-584f3c56d0e8",
   "metadata": {},
   "source": [
    "# Named Entity Recognition"
   ]
  },
  {
   "cell_type": "code",
   "execution_count": 46,
   "id": "3141e264-c874-463b-956c-8454c216711e",
   "metadata": {},
   "outputs": [],
   "source": [
    "def ner(text):\n",
    "    doc = nlp(text)\n",
    "    count = 0\n",
    "    for ent in doc.ents:\n",
    "        if ent.label_:\n",
    "            count += 1\n",
    "    return count"
   ]
  },
  {
   "cell_type": "code",
   "execution_count": 47,
   "id": "4c8b427c-7580-4e91-9c75-7c8162e6fa2b",
   "metadata": {
    "tags": []
   },
   "outputs": [
    {
     "data": {
      "text/html": [
       "<div>\n",
       "<style scoped>\n",
       "    .dataframe tbody tr th:only-of-type {\n",
       "        vertical-align: middle;\n",
       "    }\n",
       "\n",
       "    .dataframe tbody tr th {\n",
       "        vertical-align: top;\n",
       "    }\n",
       "\n",
       "    .dataframe thead th {\n",
       "        text-align: right;\n",
       "    }\n",
       "</style>\n",
       "<table border=\"1\" class=\"dataframe\">\n",
       "  <thead>\n",
       "    <tr style=\"text-align: right;\">\n",
       "      <th></th>\n",
       "      <th>text</th>\n",
       "      <th>mentions_count</th>\n",
       "      <th>hashtags_count</th>\n",
       "      <th>word_count</th>\n",
       "      <th>character_count</th>\n",
       "      <th>avg_word_len</th>\n",
       "      <th>stopwords</th>\n",
       "      <th>pos</th>\n",
       "      <th>ner</th>\n",
       "    </tr>\n",
       "  </thead>\n",
       "  <tbody>\n",
       "    <tr>\n",
       "      <th>0</th>\n",
       "      <td>RT @rssurjewala: Critical question: Was PayTM ...</td>\n",
       "      <td>1</td>\n",
       "      <td>1</td>\n",
       "      <td>20</td>\n",
       "      <td>144</td>\n",
       "      <td>6.200000</td>\n",
       "      <td>7</td>\n",
       "      <td>9</td>\n",
       "      <td>3</td>\n",
       "    </tr>\n",
       "    <tr>\n",
       "      <th>1</th>\n",
       "      <td>RT @Hemant_80: Did you vote on #Demonetization...</td>\n",
       "      <td>1</td>\n",
       "      <td>1</td>\n",
       "      <td>11</td>\n",
       "      <td>66</td>\n",
       "      <td>5.090909</td>\n",
       "      <td>4</td>\n",
       "      <td>4</td>\n",
       "      <td>1</td>\n",
       "    </tr>\n",
       "  </tbody>\n",
       "</table>\n",
       "</div>"
      ],
      "text/plain": [
       "                                                text  mentions_count  \\\n",
       "0  RT @rssurjewala: Critical question: Was PayTM ...               1   \n",
       "1  RT @Hemant_80: Did you vote on #Demonetization...               1   \n",
       "\n",
       "   hashtags_count  word_count  character_count  avg_word_len  stopwords  pos  \\\n",
       "0               1          20              144      6.200000          7    9   \n",
       "1               1          11               66      5.090909          4    4   \n",
       "\n",
       "   ner  \n",
       "0    3  \n",
       "1    1  "
      ]
     },
     "execution_count": 47,
     "metadata": {},
     "output_type": "execute_result"
    }
   ],
   "source": [
    "df['ner'] = df['text'].apply(ner)\n",
    "df.head(2)"
   ]
  },
  {
   "cell_type": "markdown",
   "id": "fc2dd259-d2af-4422-8913-886491711c12",
   "metadata": {},
   "source": [
    "# Assignment Questions"
   ]
  },
  {
   "cell_type": "markdown",
   "id": "51ed991f-89dc-4f83-8d2c-197f4bf69981",
   "metadata": {},
   "source": [
    "1. Get the count of digits in the documents"
   ]
  },
  {
   "cell_type": "code",
   "execution_count": 48,
   "id": "2097a085-20ce-41a5-a8e9-c871ad4db449",
   "metadata": {
    "tags": []
   },
   "outputs": [],
   "source": [
    "def digits(text):\n",
    "    digits = re.findall('\\d', text)\n",
    "    return len(digits)"
   ]
  },
  {
   "cell_type": "code",
   "execution_count": 49,
   "id": "4f2007f2-caa9-41aa-a6a0-528c0cbf3321",
   "metadata": {
    "tags": []
   },
   "outputs": [],
   "source": [
    "df['digits_count'] = df['text'].apply(digits)"
   ]
  },
  {
   "cell_type": "code",
   "execution_count": 50,
   "id": "e10f83f9-2ce2-489c-ac9b-92686336fee7",
   "metadata": {
    "tags": []
   },
   "outputs": [
    {
     "data": {
      "text/html": [
       "<div>\n",
       "<style scoped>\n",
       "    .dataframe tbody tr th:only-of-type {\n",
       "        vertical-align: middle;\n",
       "    }\n",
       "\n",
       "    .dataframe tbody tr th {\n",
       "        vertical-align: top;\n",
       "    }\n",
       "\n",
       "    .dataframe thead th {\n",
       "        text-align: right;\n",
       "    }\n",
       "</style>\n",
       "<table border=\"1\" class=\"dataframe\">\n",
       "  <thead>\n",
       "    <tr style=\"text-align: right;\">\n",
       "      <th></th>\n",
       "      <th>text</th>\n",
       "      <th>mentions_count</th>\n",
       "      <th>hashtags_count</th>\n",
       "      <th>word_count</th>\n",
       "      <th>character_count</th>\n",
       "      <th>avg_word_len</th>\n",
       "      <th>stopwords</th>\n",
       "      <th>pos</th>\n",
       "      <th>ner</th>\n",
       "      <th>digits_count</th>\n",
       "    </tr>\n",
       "  </thead>\n",
       "  <tbody>\n",
       "    <tr>\n",
       "      <th>0</th>\n",
       "      <td>RT @rssurjewala: Critical question: Was PayTM ...</td>\n",
       "      <td>1</td>\n",
       "      <td>1</td>\n",
       "      <td>20</td>\n",
       "      <td>144</td>\n",
       "      <td>6.200000</td>\n",
       "      <td>7</td>\n",
       "      <td>9</td>\n",
       "      <td>3</td>\n",
       "      <td>0</td>\n",
       "    </tr>\n",
       "    <tr>\n",
       "      <th>1</th>\n",
       "      <td>RT @Hemant_80: Did you vote on #Demonetization...</td>\n",
       "      <td>1</td>\n",
       "      <td>1</td>\n",
       "      <td>11</td>\n",
       "      <td>66</td>\n",
       "      <td>5.090909</td>\n",
       "      <td>4</td>\n",
       "      <td>4</td>\n",
       "      <td>1</td>\n",
       "      <td>2</td>\n",
       "    </tr>\n",
       "  </tbody>\n",
       "</table>\n",
       "</div>"
      ],
      "text/plain": [
       "                                                text  mentions_count  \\\n",
       "0  RT @rssurjewala: Critical question: Was PayTM ...               1   \n",
       "1  RT @Hemant_80: Did you vote on #Demonetization...               1   \n",
       "\n",
       "   hashtags_count  word_count  character_count  avg_word_len  stopwords  pos  \\\n",
       "0               1          20              144      6.200000          7    9   \n",
       "1               1          11               66      5.090909          4    4   \n",
       "\n",
       "   ner  digits_count  \n",
       "0    3             0  \n",
       "1    1             2  "
      ]
     },
     "execution_count": 50,
     "metadata": {},
     "output_type": "execute_result"
    }
   ],
   "source": [
    "df.head(2)"
   ]
  },
  {
   "cell_type": "markdown",
   "id": "72b92f8f-9214-418c-aace-989b364d86a5",
   "metadata": {},
   "source": [
    "2. Get the most frequently used NER"
   ]
  },
  {
   "cell_type": "code",
   "execution_count": 69,
   "id": "bb4fee91-2a53-47f2-af87-9eec382d140e",
   "metadata": {
    "tags": []
   },
   "outputs": [],
   "source": [
    "ents_list = []\n",
    "\n",
    "for i in range(len(df['text'])):\n",
    "    text = df['text'][i]\n",
    "    doc = nlp(text)\n",
    "    for ent in doc.ents:\n",
    "        ents_list.append(ent)"
   ]
  },
  {
   "cell_type": "code",
   "execution_count": 88,
   "id": "e3f64944-c207-44ed-8747-a45d20ee91c1",
   "metadata": {
    "tags": []
   },
   "outputs": [
    {
     "data": {
      "text/html": [
       "<div>\n",
       "<style scoped>\n",
       "    .dataframe tbody tr th:only-of-type {\n",
       "        vertical-align: middle;\n",
       "    }\n",
       "\n",
       "    .dataframe tbody tr th {\n",
       "        vertical-align: top;\n",
       "    }\n",
       "\n",
       "    .dataframe thead th {\n",
       "        text-align: right;\n",
       "    }\n",
       "</style>\n",
       "<table border=\"1\" class=\"dataframe\">\n",
       "  <thead>\n",
       "    <tr style=\"text-align: right;\">\n",
       "      <th></th>\n",
       "      <th>entity_text</th>\n",
       "    </tr>\n",
       "  </thead>\n",
       "  <tbody>\n",
       "    <tr>\n",
       "      <th>0</th>\n",
       "      <td>(RT)</td>\n",
       "    </tr>\n",
       "    <tr>\n",
       "      <th>1</th>\n",
       "      <td>(PayTM)</td>\n",
       "    </tr>\n",
       "    <tr>\n",
       "      <th>2</th>\n",
       "      <td>(about, #, Demonetization)</td>\n",
       "    </tr>\n",
       "    <tr>\n",
       "      <th>3</th>\n",
       "      <td>(#, Demonetization)</td>\n",
       "    </tr>\n",
       "    <tr>\n",
       "      <th>4</th>\n",
       "      <td>(FinSec)</td>\n",
       "    </tr>\n",
       "    <tr>\n",
       "      <th>5</th>\n",
       "      <td>(RBI)</td>\n",
       "    </tr>\n",
       "    <tr>\n",
       "      <th>6</th>\n",
       "      <td>(CBDT, Chair, +, Harvard)</td>\n",
       "    </tr>\n",
       "    <tr>\n",
       "      <th>7</th>\n",
       "      <td>(Aam, Aadmi)</td>\n",
       "    </tr>\n",
       "    <tr>\n",
       "      <th>8</th>\n",
       "      <td>(Gurugram)</td>\n",
       "    </tr>\n",
       "    <tr>\n",
       "      <th>9</th>\n",
       "      <td>(@mail_today)</td>\n",
       "    </tr>\n",
       "    <tr>\n",
       "      <th>10</th>\n",
       "      <td>(#)</td>\n",
       "    </tr>\n",
       "    <tr>\n",
       "      <th>11</th>\n",
       "      <td>(#)</td>\n",
       "    </tr>\n",
       "    <tr>\n",
       "      <th>12</th>\n",
       "      <td>(Blackmoney)</td>\n",
       "    </tr>\n",
       "    <tr>\n",
       "      <th>13</th>\n",
       "      <td>(Rs, 40)</td>\n",
       "    </tr>\n",
       "    <tr>\n",
       "      <th>14</th>\n",
       "      <td>(Kishtwar)</td>\n",
       "    </tr>\n",
       "    <tr>\n",
       "      <th>15</th>\n",
       "      <td>(Third)</td>\n",
       "    </tr>\n",
       "    <tr>\n",
       "      <th>16</th>\n",
       "      <td>(RT, @Joydeep_911)</td>\n",
       "    </tr>\n",
       "    <tr>\n",
       "      <th>17</th>\n",
       "      <td>(Nationalists)</td>\n",
       "    </tr>\n",
       "    <tr>\n",
       "      <th>18</th>\n",
       "      <td>(RT, @sumitbhati2002)</td>\n",
       "    </tr>\n",
       "    <tr>\n",
       "      <th>19</th>\n",
       "      <td>(#)</td>\n",
       "    </tr>\n",
       "  </tbody>\n",
       "</table>\n",
       "</div>"
      ],
      "text/plain": [
       "                   entity_text\n",
       "0                         (RT)\n",
       "1                      (PayTM)\n",
       "2   (about, #, Demonetization)\n",
       "3          (#, Demonetization)\n",
       "4                     (FinSec)\n",
       "5                        (RBI)\n",
       "6    (CBDT, Chair, +, Harvard)\n",
       "7                 (Aam, Aadmi)\n",
       "8                   (Gurugram)\n",
       "9                (@mail_today)\n",
       "10                         (#)\n",
       "11                         (#)\n",
       "12                (Blackmoney)\n",
       "13                    (Rs, 40)\n",
       "14                  (Kishtwar)\n",
       "15                     (Third)\n",
       "16          (RT, @Joydeep_911)\n",
       "17              (Nationalists)\n",
       "18       (RT, @sumitbhati2002)\n",
       "19                         (#)"
      ]
     },
     "execution_count": 88,
     "metadata": {},
     "output_type": "execute_result"
    }
   ],
   "source": [
    "ents_df = pd.DataFrame()\n",
    "ents_df['entity_text'] = ents_list\n",
    "ents_df.head(20)"
   ]
  },
  {
   "cell_type": "code",
   "execution_count": 95,
   "id": "1621e0b8-0657-4bd7-9773-98bae96a2123",
   "metadata": {
    "tags": []
   },
   "outputs": [],
   "source": [
    "ents_list_2 = []\n",
    "for i in range(len(df['text'])):\n",
    "    text = df['text'][i]\n",
    "    for j in text.split(sep=\" \"):\n",
    "        ents_list_2.append(j)"
   ]
  },
  {
   "cell_type": "code",
   "execution_count": 97,
   "id": "036b1c5e-2e9d-4068-a8fa-3eb527b602bc",
   "metadata": {
    "tags": []
   },
   "outputs": [
    {
     "data": {
      "text/html": [
       "<div>\n",
       "<style scoped>\n",
       "    .dataframe tbody tr th:only-of-type {\n",
       "        vertical-align: middle;\n",
       "    }\n",
       "\n",
       "    .dataframe tbody tr th {\n",
       "        vertical-align: top;\n",
       "    }\n",
       "\n",
       "    .dataframe thead th {\n",
       "        text-align: right;\n",
       "    }\n",
       "</style>\n",
       "<table border=\"1\" class=\"dataframe\">\n",
       "  <thead>\n",
       "    <tr style=\"text-align: right;\">\n",
       "      <th></th>\n",
       "      <th>entity</th>\n",
       "    </tr>\n",
       "  </thead>\n",
       "  <tbody>\n",
       "    <tr>\n",
       "      <th>0</th>\n",
       "      <td>RT</td>\n",
       "    </tr>\n",
       "    <tr>\n",
       "      <th>1</th>\n",
       "      <td>@rssurjewala:</td>\n",
       "    </tr>\n",
       "  </tbody>\n",
       "</table>\n",
       "</div>"
      ],
      "text/plain": [
       "          entity\n",
       "0             RT\n",
       "1  @rssurjewala:"
      ]
     },
     "execution_count": 97,
     "metadata": {},
     "output_type": "execute_result"
    }
   ],
   "source": [
    "ents_df_2 = pd.DataFrame()\n",
    "ents_df_2['entity'] = ents_list_2\n",
    "ents_df_2.head(2)"
   ]
  },
  {
   "cell_type": "code",
   "execution_count": 98,
   "id": "b8ae4a8b-6774-48bb-83d2-424474c73536",
   "metadata": {
    "tags": []
   },
   "outputs": [
    {
     "data": {
      "text/plain": [
       "entity \n",
       "to         1652\n",
       "the        1583\n",
       "of         1582\n",
       "RT         1367\n",
       "in         1330\n",
       "           ... \n",
       "4)            1\n",
       "4%.           1\n",
       "bu            1\n",
       "bubble.       1\n",
       "bst           1\n",
       "Name: count, Length: 19844, dtype: int64"
      ]
     },
     "execution_count": 98,
     "metadata": {},
     "output_type": "execute_result"
    }
   ],
   "source": [
    "ents_df_2.value_counts()"
   ]
  },
  {
   "cell_type": "markdown",
   "id": "05c7cc47-5b9a-465f-8c0a-d333b8aadad7",
   "metadata": {},
   "source": [
    "3. Get the most frequently used POS tag"
   ]
  },
  {
   "cell_type": "code",
   "execution_count": 99,
   "id": "a562040c-fb9a-4562-810d-9d743b5c1ea9",
   "metadata": {
    "tags": []
   },
   "outputs": [],
   "source": [
    "pos_list = []\n",
    "\n",
    "for i in range(len(df['text'])):\n",
    "    text = df['text'][i]\n",
    "    doc = nlp(text)\n",
    "    for token in doc:\n",
    "        pos_list.append(token.pos_)"
   ]
  },
  {
   "cell_type": "code",
   "execution_count": 100,
   "id": "90632d26-c7f5-4016-927d-dff9d54e2f46",
   "metadata": {
    "tags": []
   },
   "outputs": [
    {
     "data": {
      "text/html": [
       "<div>\n",
       "<style scoped>\n",
       "    .dataframe tbody tr th:only-of-type {\n",
       "        vertical-align: middle;\n",
       "    }\n",
       "\n",
       "    .dataframe tbody tr th {\n",
       "        vertical-align: top;\n",
       "    }\n",
       "\n",
       "    .dataframe thead th {\n",
       "        text-align: right;\n",
       "    }\n",
       "</style>\n",
       "<table border=\"1\" class=\"dataframe\">\n",
       "  <thead>\n",
       "    <tr style=\"text-align: right;\">\n",
       "      <th></th>\n",
       "      <th>pos</th>\n",
       "    </tr>\n",
       "  </thead>\n",
       "  <tbody>\n",
       "    <tr>\n",
       "      <th>0</th>\n",
       "      <td>PROPN</td>\n",
       "    </tr>\n",
       "    <tr>\n",
       "      <th>1</th>\n",
       "      <td>PROPN</td>\n",
       "    </tr>\n",
       "  </tbody>\n",
       "</table>\n",
       "</div>"
      ],
      "text/plain": [
       "     pos\n",
       "0  PROPN\n",
       "1  PROPN"
      ]
     },
     "execution_count": 100,
     "metadata": {},
     "output_type": "execute_result"
    }
   ],
   "source": [
    "pos_df = pd.DataFrame()\n",
    "pos_df['pos'] = pos_list\n",
    "pos_df.head(2)"
   ]
  },
  {
   "cell_type": "code",
   "execution_count": 101,
   "id": "3241e711-6d1e-4cbc-960b-81e77094bfdf",
   "metadata": {
    "tags": []
   },
   "outputs": [
    {
     "data": {
      "text/plain": [
       "pos  \n",
       "NOUN     22680\n",
       "PROPN    17374\n",
       "PUNCT    10553\n",
       "VERB      9566\n",
       "ADP       9254\n",
       "ADJ       5275\n",
       "PRON      4446\n",
       "AUX       4387\n",
       "DET       4166\n",
       "SYM       3689\n",
       "ADV       2890\n",
       "SPACE     2388\n",
       "PART      2307\n",
       "CCONJ     1720\n",
       "NUM       1608\n",
       "SCONJ     1461\n",
       "X         1057\n",
       "INTJ       376\n",
       "Name: count, dtype: int64"
      ]
     },
     "execution_count": 101,
     "metadata": {},
     "output_type": "execute_result"
    }
   ],
   "source": [
    "pos_df.value_counts()"
   ]
  }
 ],
 "metadata": {
  "kernelspec": {
   "display_name": "Python 3 (ipykernel)",
   "language": "python",
   "name": "python3"
  },
  "language_info": {
   "codemirror_mode": {
    "name": "ipython",
    "version": 3
   },
   "file_extension": ".py",
   "mimetype": "text/x-python",
   "name": "python",
   "nbconvert_exporter": "python",
   "pygments_lexer": "ipython3",
   "version": "3.11.5"
  }
 },
 "nbformat": 4,
 "nbformat_minor": 5
}
