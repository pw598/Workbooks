{
 "cells": [
  {
   "cell_type": "markdown",
   "id": "d1e01826",
   "metadata": {},
   "source": [
    "# Import Libraries and Data"
   ]
  },
  {
   "cell_type": "code",
   "execution_count": 1,
   "id": "25e675b9",
   "metadata": {},
   "outputs": [],
   "source": [
    "import pandas as pd\n",
    "import numpy as np\n",
    "import matplotlib.pyplot as plt\n",
    "\n",
    "import re\n",
    "import nltk\n",
    "\n",
    "import warnings\n",
    "warnings.filterwarnings(\"ignore\")\n",
    "\n",
    "from sklearn.feature_extraction.text import CountVectorizer\n",
    "from sklearn.feature_extraction.text import TfidfVectorizer\n",
    "\n",
    "from sklearn.model_selection import train_test_split\n",
    "from sklearn.linear_model import LogisticRegression\n",
    "from sklearn.model_selection import GridSearchCV\n",
    "from sklearn.naive_bayes import GaussianNB\n",
    "from sklearn.naive_bayes import MultinomialNB\n",
    "\n",
    "from sklearn.metrics import f1_score"
   ]
  },
  {
   "cell_type": "code",
   "execution_count": 2,
   "id": "362a8344",
   "metadata": {},
   "outputs": [],
   "source": [
    "train = pd.read_csv(\"train_2kmZucJ.csv\")\n",
    "test = pd.read_csv(\"test_12QyDcx.csv\")"
   ]
  },
  {
   "cell_type": "code",
   "execution_count": 3,
   "id": "d4389ad4",
   "metadata": {},
   "outputs": [],
   "source": [
    "test['label'] = np.nan\n",
    "df = pd.concat((train,test), axis=0)"
   ]
  },
  {
   "cell_type": "markdown",
   "id": "aed4af5e",
   "metadata": {},
   "source": [
    "# Inspect Data"
   ]
  },
  {
   "cell_type": "code",
   "execution_count": 4,
   "id": "d64e6e43",
   "metadata": {},
   "outputs": [
    {
     "data": {
      "text/html": [
       "<div>\n",
       "<style scoped>\n",
       "    .dataframe tbody tr th:only-of-type {\n",
       "        vertical-align: middle;\n",
       "    }\n",
       "\n",
       "    .dataframe tbody tr th {\n",
       "        vertical-align: top;\n",
       "    }\n",
       "\n",
       "    .dataframe thead th {\n",
       "        text-align: right;\n",
       "    }\n",
       "</style>\n",
       "<table border=\"1\" class=\"dataframe\">\n",
       "  <thead>\n",
       "    <tr style=\"text-align: right;\">\n",
       "      <th></th>\n",
       "      <th>id</th>\n",
       "      <th>label</th>\n",
       "      <th>tweet</th>\n",
       "    </tr>\n",
       "  </thead>\n",
       "  <tbody>\n",
       "    <tr>\n",
       "      <th>0</th>\n",
       "      <td>1</td>\n",
       "      <td>0.0</td>\n",
       "      <td>#fingerprint #Pregnancy Test https://goo.gl/h1...</td>\n",
       "    </tr>\n",
       "    <tr>\n",
       "      <th>1</th>\n",
       "      <td>2</td>\n",
       "      <td>0.0</td>\n",
       "      <td>Finally a transparant silicon case ^^ Thanks t...</td>\n",
       "    </tr>\n",
       "    <tr>\n",
       "      <th>2</th>\n",
       "      <td>3</td>\n",
       "      <td>0.0</td>\n",
       "      <td>We love this! Would you go? #talk #makememorie...</td>\n",
       "    </tr>\n",
       "    <tr>\n",
       "      <th>3</th>\n",
       "      <td>4</td>\n",
       "      <td>0.0</td>\n",
       "      <td>I'm wired I know I'm George I was made that wa...</td>\n",
       "    </tr>\n",
       "    <tr>\n",
       "      <th>4</th>\n",
       "      <td>5</td>\n",
       "      <td>1.0</td>\n",
       "      <td>What amazing service! Apple won't even talk to...</td>\n",
       "    </tr>\n",
       "  </tbody>\n",
       "</table>\n",
       "</div>"
      ],
      "text/plain": [
       "   id  label                                              tweet\n",
       "0   1    0.0  #fingerprint #Pregnancy Test https://goo.gl/h1...\n",
       "1   2    0.0  Finally a transparant silicon case ^^ Thanks t...\n",
       "2   3    0.0  We love this! Would you go? #talk #makememorie...\n",
       "3   4    0.0  I'm wired I know I'm George I was made that wa...\n",
       "4   5    1.0  What amazing service! Apple won't even talk to..."
      ]
     },
     "execution_count": 4,
     "metadata": {},
     "output_type": "execute_result"
    }
   ],
   "source": [
    "df.head()"
   ]
  },
  {
   "cell_type": "code",
   "execution_count": 5,
   "id": "b45af7b5",
   "metadata": {},
   "outputs": [
    {
     "data": {
      "text/plain": [
       "id          0\n",
       "label    1953\n",
       "tweet       0\n",
       "dtype: int64"
      ]
     },
     "execution_count": 5,
     "metadata": {},
     "output_type": "execute_result"
    }
   ],
   "source": [
    "df.isnull().sum()"
   ]
  },
  {
   "cell_type": "code",
   "execution_count": 6,
   "id": "be1cd5cd",
   "metadata": {},
   "outputs": [
    {
     "data": {
      "image/png": "[encoded data removed]",
      "text/plain": [
       "<Figure size 640x480 with 1 Axes>"
      ]
     },
     "metadata": {},
     "output_type": "display_data"
    }
   ],
   "source": [
    "train['label'].value_counts().plot(kind='bar');"
   ]
  },
  {
   "cell_type": "code",
   "execution_count": 7,
   "id": "75f156f2",
   "metadata": {},
   "outputs": [
    {
     "name": "stdout",
     "output_type": "stream",
     "text": [
      "0    0.744192\n",
      "1    0.255808\n",
      "Name: label, dtype: float64\n"
     ]
    }
   ],
   "source": [
    "print(train['label'].value_counts(normalize=True))"
   ]
  },
  {
   "cell_type": "markdown",
   "id": "2010b6b9",
   "metadata": {},
   "source": [
    "# Clean Data"
   ]
  },
  {
   "cell_type": "code",
   "execution_count": 8,
   "id": "411b6869",
   "metadata": {},
   "outputs": [],
   "source": [
    "df = df.reset_index()"
   ]
  },
  {
   "cell_type": "markdown",
   "id": "8d9e2f53",
   "metadata": {},
   "source": [
    "### Remove Links"
   ]
  },
  {
   "cell_type": "code",
   "execution_count": 9,
   "id": "45e2b5b0",
   "metadata": {},
   "outputs": [
    {
     "data": {
      "text/plain": [
       "'#fingerprint #Pregnancy Test https://goo.gl/h1MfQV #android #apps #beautiful #cute #health #igers #iphoneonly #iphonesia #iphone'"
      ]
     },
     "execution_count": 9,
     "metadata": {},
     "output_type": "execute_result"
    }
   ],
   "source": [
    "df['tweet'][0]"
   ]
  },
  {
   "cell_type": "code",
   "execution_count": 10,
   "id": "2222f6d0",
   "metadata": {},
   "outputs": [],
   "source": [
    "for i in range(len(df['tweet'])):\n",
    "    df['tweet'][i] = re.sub(r'http\\S+', '', df['tweet'][i])\n",
    "    df['tweet'][i] = re.sub(r'http:\\S+', '', df['tweet'][i])"
   ]
  },
  {
   "cell_type": "code",
   "execution_count": 11,
   "id": "63ff00bf",
   "metadata": {},
   "outputs": [
    {
     "data": {
      "text/plain": [
       "'#fingerprint #Pregnancy Test  #android #apps #beautiful #cute #health #igers #iphoneonly #iphonesia #iphone'"
      ]
     },
     "execution_count": 11,
     "metadata": {},
     "output_type": "execute_result"
    }
   ],
   "source": [
    "df['tweet'][0]"
   ]
  },
  {
   "cell_type": "markdown",
   "id": "c373f79d",
   "metadata": {},
   "source": [
    "### Remove User Mentions"
   ]
  },
  {
   "cell_type": "code",
   "execution_count": 12,
   "id": "4278c157",
   "metadata": {},
   "outputs": [
    {
     "data": {
      "text/plain": [
       "'@shaqlockholmes @sam_louise1991 the battery is so painful! I charge it overnight and by lunchtime battery is dead! #HateOrange.'"
      ]
     },
     "execution_count": 12,
     "metadata": {},
     "output_type": "execute_result"
    }
   ],
   "source": [
    "train[\"tweet\"][14]"
   ]
  },
  {
   "cell_type": "code",
   "execution_count": 13,
   "id": "a73d00b7",
   "metadata": {},
   "outputs": [],
   "source": [
    "for i in range(len(df['tweet'])):\n",
    "    df['tweet'][i] = re.sub(r'@[A-Za-z0-9_]+', '', df['tweet'][i])"
   ]
  },
  {
   "cell_type": "code",
   "execution_count": 14,
   "id": "b098635f",
   "metadata": {},
   "outputs": [
    {
     "data": {
      "text/plain": [
       "'  the battery is so painful! I charge it overnight and by lunchtime battery is dead! #HateOrange.'"
      ]
     },
     "execution_count": 14,
     "metadata": {},
     "output_type": "execute_result"
    }
   ],
   "source": [
    "df[\"tweet\"][14]"
   ]
  },
  {
   "cell_type": "markdown",
   "id": "a10acd73",
   "metadata": {},
   "source": [
    "### Deal with Contractions"
   ]
  },
  {
   "cell_type": "code",
   "execution_count": 15,
   "id": "e77c2b3e",
   "metadata": {},
   "outputs": [
    {
     "data": {
      "text/plain": [
       "\"I'm wired I know I'm George I was made that way ;) #iphone #cute #daventry #home \""
      ]
     },
     "execution_count": 15,
     "metadata": {},
     "output_type": "execute_result"
    }
   ],
   "source": [
    "df['tweet'][3]"
   ]
  },
  {
   "cell_type": "code",
   "execution_count": 16,
   "id": "317a4666",
   "metadata": {},
   "outputs": [],
   "source": [
    "contraction_mapping = {\"ain't\": \"is not\", \"aren't\": \"are not\",\"can't\": \"cannot\", \"'cause\": \"because\", \"could've\": \"could have\", \"couldn't\": \"could not\",\n",
    "                           \"didn't\": \"did not\",  \"doesn't\": \"does not\", \"don't\": \"do not\", \"hadn't\": \"had not\", \"hasn't\": \"has not\", \"haven't\": \"have not\",\n",
    "                           \"he'd\": \"he would\",\"he'll\": \"he will\", \"he's\": \"he is\", \"how'd\": \"how did\", \"how'd'y\": \"how do you\", \"how'll\": \"how will\", \"how's\": \"how is\",\n",
    "                           \"I'd\": \"I would\", \"I'd've\": \"I would have\", \"I'll\": \"I will\", \"I'll've\": \"I will have\",\"I'm\": \"I am\", \"I've\": \"I have\", \"i'd\": \"i would\",\n",
    "                           \"i'd've\": \"i would have\", \"i'll\": \"i will\",  \"i'll've\": \"i will have\",\"i'm\": \"i am\", \"i've\": \"i have\", \"isn't\": \"is not\", \"it'd\": \"it would\",\n",
    "                           \"it'd've\": \"it would have\", \"it'll\": \"it will\", \"it'll've\": \"it will have\",\"it's\": \"it is\", \"let's\": \"let us\", \"ma'am\": \"madam\",\n",
    "                           \"mayn't\": \"may not\", \"might've\": \"might have\",\"mightn't\": \"might not\",\"mightn't've\": \"might not have\", \"must've\": \"must have\",\n",
    "                           \"mustn't\": \"must not\", \"mustn't've\": \"must not have\", \"needn't\": \"need not\", \"needn't've\": \"need not have\",\"o'clock\": \"of the clock\",\n",
    "                           \"oughtn't\": \"ought not\", \"oughtn't've\": \"ought not have\", \"shan't\": \"shall not\", \"sha'n't\": \"shall not\", \"shan't've\": \"shall not have\",\n",
    "                           \"she'd\": \"she would\", \"she'd've\": \"she would have\", \"she'll\": \"she will\", \"she'll've\": \"she will have\", \"she's\": \"she is\",\n",
    "                           \"should've\": \"should have\", \"shouldn't\": \"should not\", \"shouldn't've\": \"should not have\", \"so've\": \"so have\",\"so's\": \"so as\",\n",
    "                           \"this's\": \"this is\",\"that'd\": \"that would\", \"that'd've\": \"that would have\", \"that's\": \"that is\", \"there'd\": \"there would\",\n",
    "                           \"there'd've\": \"there would have\", \"there's\": \"there is\", \"here's\": \"here is\",\"they'd\": \"they would\", \"they'd've\": \"they would have\",\n",
    "                           \"they'll\": \"they will\", \"they'll've\": \"they will have\", \"they're\": \"they are\", \"they've\": \"they have\", \"to've\": \"to have\",\n",
    "                           \"wasn't\": \"was not\", \"we'd\": \"we would\", \"we'd've\": \"we would have\", \"we'll\": \"we will\", \"we'll've\": \"we will have\", \"we're\": \"we are\",\n",
    "                           \"we've\": \"we have\", \"weren't\": \"were not\", \"what'll\": \"what will\", \"what'll've\": \"what will have\", \"what're\": \"what are\",\n",
    "                           \"what's\": \"what is\", \"what've\": \"what have\", \"when's\": \"when is\", \"when've\": \"when have\", \"where'd\": \"where did\", \"where's\": \"where is\",\n",
    "                           \"where've\": \"where have\", \"who'll\": \"who will\", \"who'll've\": \"who will have\", \"who's\": \"who is\", \"who've\": \"who have\",\n",
    "                           \"why's\": \"why is\", \"why've\": \"why have\", \"will've\": \"will have\", \"won't\": \"will not\", \"won't've\": \"will not have\",\n",
    "                           \"would've\": \"would have\", \"wouldn't\": \"would not\", \"wouldn't've\": \"would not have\", \"y'all\": \"you all\",\n",
    "                           \"y'all'd\": \"you all would\",\"y'all'd've\": \"you all would have\",\"y'all're\": \"you all are\",\"y'all've\": \"you all have\",\n",
    "                           \"you'd\": \"you would\", \"you'd've\": \"you would have\", \"you'll\": \"you will\", \"you'll've\": \"you will have\",\n",
    "                           \"you're\": \"you are\", \"you've\": \"you have\"}"
   ]
  },
  {
   "cell_type": "code",
   "execution_count": 17,
   "id": "8bcd0ba8",
   "metadata": {},
   "outputs": [],
   "source": [
    "for i in range(len(df['tweet'])):\n",
    "    df['tweet'][i] = ' '.join([contraction_mapping[t] if t in contraction_mapping else t for t in df['tweet'][i].split(\" \")])\n",
    "    df['tweet'][i] = re.sub(r\"'s\\b\",\"\",df['tweet'][i])"
   ]
  },
  {
   "cell_type": "code",
   "execution_count": 18,
   "id": "b9294e4e",
   "metadata": {},
   "outputs": [
    {
     "data": {
      "text/plain": [
       "'I am wired I know I am George I was made that way ;) #iphone #cute #daventry #home '"
      ]
     },
     "execution_count": 18,
     "metadata": {},
     "output_type": "execute_result"
    }
   ],
   "source": [
    "df['tweet'][3]"
   ]
  },
  {
   "cell_type": "markdown",
   "id": "cba96853",
   "metadata": {},
   "source": [
    "### Convert to Lower Case and Restrict to Letters"
   ]
  },
  {
   "cell_type": "code",
   "execution_count": 19,
   "id": "6b4d5b60",
   "metadata": {},
   "outputs": [],
   "source": [
    "for i in range(len(df['tweet'])):\n",
    "    df['tweet'][i] = re.sub(\"[^a-zA-Z]\", \" \", df['tweet'][i])\n",
    "    df['tweet'][i] = df['tweet'][i].lower()"
   ]
  },
  {
   "cell_type": "code",
   "execution_count": 20,
   "id": "4fe145a9",
   "metadata": {},
   "outputs": [
    {
     "data": {
      "text/plain": [
       "0     fingerprint  pregnancy test   android  apps  ...\n",
       "1    finally a transparant silicon case    thanks t...\n",
       "2    we love this  would you go   talk  makememorie...\n",
       "3    i am wired i know i am george i was made that ...\n",
       "4    what amazing service  apple will not even talk...\n",
       "5    iphone software update fucked up my phone big ...\n",
       "6    happy for us     instapic  instadaily  us  son...\n",
       "7    new type c charger cable  uk     bay  amazon  ...\n",
       "8    bout to go shopping again listening to music  ...\n",
       "9    photo   fun  selfie  pool  water  sony  camera...\n",
       "Name: tweet, dtype: object"
      ]
     },
     "execution_count": 20,
     "metadata": {},
     "output_type": "execute_result"
    }
   ],
   "source": [
    "df['tweet'][0:10]"
   ]
  },
  {
   "cell_type": "markdown",
   "id": "d2074f1b",
   "metadata": {},
   "source": [
    "### Remove Stop Words"
   ]
  },
  {
   "cell_type": "code",
   "execution_count": 21,
   "id": "5b37b3ab",
   "metadata": {},
   "outputs": [
    {
     "data": {
      "text/plain": [
       "'Finally a transparant silicon case ^^ Thanks to my uncle :) #yay #Sony #Xperia #S #sonyexperias… http://instagram.com/p/YGEt5JC6JM/'"
      ]
     },
     "execution_count": 21,
     "metadata": {},
     "output_type": "execute_result"
    }
   ],
   "source": [
    "train['tweet'][1]"
   ]
  },
  {
   "cell_type": "code",
   "execution_count": 22,
   "id": "cb1675c1",
   "metadata": {},
   "outputs": [
    {
     "name": "stderr",
     "output_type": "stream",
     "text": [
      "[nltk_data] Downloading package stopwords to\n",
      "[nltk_data]     C:\\Users\\patwh\\AppData\\Roaming\\nltk_data...\n",
      "[nltk_data]   Package stopwords is already up-to-date!\n"
     ]
    }
   ],
   "source": [
    "from nltk.corpus import stopwords\n",
    "nltk.download('stopwords')\n",
    "stop_words = set(stopwords.words('english'))"
   ]
  },
  {
   "cell_type": "code",
   "execution_count": 23,
   "id": "8aadfe2f",
   "metadata": {},
   "outputs": [],
   "source": [
    "for i in range(len(df['tweet'])):\n",
    "    sentence = df['tweet'][i].split()\n",
    "    sentence = [w for w in sentence if w not in stop_words]\n",
    "    df['tweet'][i] = \" \".join(sentence).strip()"
   ]
  },
  {
   "cell_type": "code",
   "execution_count": 24,
   "id": "a3728f08",
   "metadata": {},
   "outputs": [
    {
     "data": {
      "text/plain": [
       "'finally transparant silicon case thanks uncle yay sony xperia sonyexperias'"
      ]
     },
     "execution_count": 24,
     "metadata": {},
     "output_type": "execute_result"
    }
   ],
   "source": [
    "df['tweet'][1]"
   ]
  },
  {
   "cell_type": "markdown",
   "id": "93e4e821",
   "metadata": {},
   "source": [
    "### Lemmatization"
   ]
  },
  {
   "cell_type": "code",
   "execution_count": 25,
   "id": "f2dc0d19",
   "metadata": {},
   "outputs": [
    {
     "name": "stderr",
     "output_type": "stream",
     "text": [
      "[nltk_data] Downloading package wordnet to\n",
      "[nltk_data]     C:\\Users\\patwh\\AppData\\Roaming\\nltk_data...\n",
      "[nltk_data]   Package wordnet is already up-to-date!\n",
      "[nltk_data] Downloading package omw-1.4 to\n",
      "[nltk_data]     C:\\Users\\patwh\\AppData\\Roaming\\nltk_data...\n",
      "[nltk_data]   Package omw-1.4 is already up-to-date!\n"
     ]
    },
    {
     "data": {
      "text/plain": [
       "True"
      ]
     },
     "execution_count": 25,
     "metadata": {},
     "output_type": "execute_result"
    }
   ],
   "source": [
    "from nltk.stem import WordNetLemmatizer\n",
    "nltk.download('wordnet')\n",
    "nltk.download('omw-1.4')"
   ]
  },
  {
   "cell_type": "code",
   "execution_count": 26,
   "id": "105d5bf2",
   "metadata": {},
   "outputs": [],
   "source": [
    "lemmatizer = WordNetLemmatizer()\n",
    "\n",
    "for i in range(len(df['tweet'])):\n",
    "    sample = df['tweet'][i]\n",
    "    splits = sample.split()\n",
    "    sentence = \" \".join(lemmatizer.lemmatize(w) for w in splits)\n",
    "    df['tweet'][i] = sentence"
   ]
  },
  {
   "cell_type": "markdown",
   "id": "64849ca8",
   "metadata": {},
   "source": [
    "### Multiple Spaces"
   ]
  },
  {
   "cell_type": "code",
   "execution_count": 27,
   "id": "466a2a3b",
   "metadata": {},
   "outputs": [],
   "source": [
    "for i in range(len(df['tweet'])):\n",
    "    words = df['tweet'][i].split()                              \n",
    "    df['tweet'][i] = \" \".join(words).strip()"
   ]
  },
  {
   "cell_type": "code",
   "execution_count": 28,
   "id": "7e526bcc",
   "metadata": {},
   "outputs": [
    {
     "data": {
      "text/plain": [
       "0    fingerprint pregnancy test android apps beauti...\n",
       "1    finally transparant silicon case thanks uncle ...\n",
       "2    love would go talk makememories unplug relax i...\n",
       "3    wired know george made way iphone cute daventr...\n",
       "4    amazing service apple even talk question unles...\n",
       "5    iphone software update fucked phone big time s...\n",
       "6    happy u instapic instadaily u sony xperia xperiaz\n",
       "7    new type c charger cable uk bay amazon etsy ne...\n",
       "8    bout go shopping listening music iphone justme...\n",
       "9    photo fun selfie pool water sony camera picoft...\n",
       "Name: tweet, dtype: object"
      ]
     },
     "execution_count": 28,
     "metadata": {},
     "output_type": "execute_result"
    }
   ],
   "source": [
    "df['tweet'][0:10]"
   ]
  },
  {
   "cell_type": "markdown",
   "id": "bea82206",
   "metadata": {},
   "source": [
    "# Feature Extraction"
   ]
  },
  {
   "cell_type": "markdown",
   "id": "642827e2",
   "metadata": {},
   "source": [
    "### Bag of Words (Count Vectorizer)"
   ]
  },
  {
   "cell_type": "code",
   "execution_count": 29,
   "id": "3e179093",
   "metadata": {},
   "outputs": [],
   "source": [
    "vectorizer = CountVectorizer()\n",
    "bow_features = vectorizer.fit_transform(df['tweet'])"
   ]
  },
  {
   "cell_type": "code",
   "execution_count": 30,
   "id": "51d59c54",
   "metadata": {},
   "outputs": [],
   "source": [
    "df_bow = pd.concat((df,pd.DataFrame(bow_features.toarray())), axis=1)\n",
    "df_bow = df_bow.drop(columns=['index', 'tweet'])"
   ]
  },
  {
   "cell_type": "markdown",
   "id": "8849226c",
   "metadata": {},
   "source": [
    "### TDF-IF"
   ]
  },
  {
   "cell_type": "code",
   "execution_count": 31,
   "id": "d9ce927e",
   "metadata": {},
   "outputs": [],
   "source": [
    "vectorizer = TfidfVectorizer() \n",
    "tfidf_features = vectorizer.fit_transform(df['tweet'])"
   ]
  },
  {
   "cell_type": "code",
   "execution_count": 32,
   "id": "7a16fea2",
   "metadata": {},
   "outputs": [],
   "source": [
    "df_tfidf = pd.concat((df,pd.DataFrame(tfidf_features.toarray())), axis=1)\n",
    "df_tfidf = df_tfidf.drop(columns=['index', 'tweet'])"
   ]
  },
  {
   "cell_type": "markdown",
   "id": "8e7a83d5",
   "metadata": {},
   "source": [
    "# Classification"
   ]
  },
  {
   "cell_type": "code",
   "execution_count": 33,
   "id": "fb7d0427",
   "metadata": {},
   "outputs": [],
   "source": [
    "test_bow = df_bow[df_bow['label'].isnull()]\n",
    "test_tfidf = df_tfidf[df_tfidf['label'].isnull()]\n",
    "\n",
    "df_bow = df_bow[df_bow['label'].notnull()]\n",
    "df_tfidf = df_tfidf[df_tfidf['label'].notnull()]\n",
    "\n",
    "train_bow = df_bow[df_bow['label'].notnull()]\n",
    "train_tfidf = df_tfidf[df_tfidf['label'].notnull()]"
   ]
  },
  {
   "cell_type": "code",
   "execution_count": 34,
   "id": "cbf54267",
   "metadata": {},
   "outputs": [],
   "source": [
    "X_bow = train_bow.drop(columns = ['label', 'id'])\n",
    "y_train = train_bow['label']\n",
    "X_tfidf = train_tfidf.drop(columns = ['label', 'id'])"
   ]
  },
  {
   "cell_type": "markdown",
   "id": "d456430a",
   "metadata": {},
   "source": [
    "### Train/Validation Split"
   ]
  },
  {
   "cell_type": "code",
   "execution_count": 35,
   "id": "9cc98ac9",
   "metadata": {},
   "outputs": [],
   "source": [
    "X_train_bow, X_val_bow, y_train_bow, y_val_bow = train_test_split(X_bow, y_train,test_size=0.3,random_state=123) \n",
    "X_train_tfidf, X_val_tfidf, y_train_tfidf, y_val_tfidf = train_test_split(X_tfidf,y_train,test_size=0.3,random_state=123) "
   ]
  },
  {
   "cell_type": "markdown",
   "id": "8e3fe1a3",
   "metadata": {},
   "source": [
    "### Logistic Regression"
   ]
  },
  {
   "cell_type": "code",
   "execution_count": 36,
   "id": "1ff727ac",
   "metadata": {},
   "outputs": [],
   "source": [
    "# BOW"
   ]
  },
  {
   "cell_type": "code",
   "execution_count": 37,
   "id": "e3fc72f4",
   "metadata": {},
   "outputs": [
    {
     "data": {
      "text/plain": [
       "0.7437011294526499"
      ]
     },
     "execution_count": 37,
     "metadata": {},
     "output_type": "execute_result"
    }
   ],
   "source": [
    "model = LogisticRegression()\n",
    "model_fit = model.fit(X_train_bow, y_train_bow)\n",
    "prediction = model_fit.predict(X_val_bow)\n",
    "f1_score(y_val_bow, prediction)"
   ]
  },
  {
   "cell_type": "code",
   "execution_count": 38,
   "id": "4b7f279b",
   "metadata": {},
   "outputs": [],
   "source": [
    "# TF-IDF"
   ]
  },
  {
   "cell_type": "code",
   "execution_count": 39,
   "id": "6ea584de",
   "metadata": {},
   "outputs": [
    {
     "data": {
      "text/plain": [
       "0.6812749003984064"
      ]
     },
     "execution_count": 39,
     "metadata": {},
     "output_type": "execute_result"
    }
   ],
   "source": [
    "model = LogisticRegression()\n",
    "model_fit = model.fit(X_train_tfidf, y_train_tfidf)\n",
    "prediction = model_fit.predict(X_val_tfidf)\n",
    "f1_score(y_val_tfidf, prediction)"
   ]
  },
  {
   "cell_type": "markdown",
   "id": "c70b3b5d",
   "metadata": {},
   "source": [
    "### Gaussian NB"
   ]
  },
  {
   "cell_type": "code",
   "execution_count": 40,
   "id": "8985ce0b",
   "metadata": {},
   "outputs": [],
   "source": [
    "# BOW"
   ]
  },
  {
   "cell_type": "code",
   "execution_count": 41,
   "id": "32c4978d",
   "metadata": {},
   "outputs": [
    {
     "data": {
      "text/plain": [
       "0.6201438848920864"
      ]
     },
     "execution_count": 41,
     "metadata": {},
     "output_type": "execute_result"
    }
   ],
   "source": [
    "model = GaussianNB()\n",
    "model_fit = model.fit(X_train_bow, y_train_bow)\n",
    "prediction = model_fit.predict(X_val_bow)\n",
    "f1_score(y_val_bow, prediction)"
   ]
  },
  {
   "cell_type": "code",
   "execution_count": 42,
   "id": "f3d75393",
   "metadata": {},
   "outputs": [],
   "source": [
    "# TF-IDF"
   ]
  },
  {
   "cell_type": "code",
   "execution_count": 43,
   "id": "e08885b0",
   "metadata": {},
   "outputs": [
    {
     "data": {
      "text/plain": [
       "0.6051282051282051"
      ]
     },
     "execution_count": 43,
     "metadata": {},
     "output_type": "execute_result"
    }
   ],
   "source": [
    "model = GaussianNB()\n",
    "model_fit = model.fit(X_train_tfidf, y_train_tfidf)\n",
    "prediction = model_fit.predict(X_val_tfidf)\n",
    "f1_score(y_val_tfidf, prediction)"
   ]
  },
  {
   "cell_type": "markdown",
   "id": "a67483f0",
   "metadata": {},
   "source": [
    "### Multinomial NB"
   ]
  },
  {
   "cell_type": "code",
   "execution_count": 44,
   "id": "b14c8691",
   "metadata": {},
   "outputs": [],
   "source": [
    "# BOW"
   ]
  },
  {
   "cell_type": "code",
   "execution_count": 45,
   "id": "a9c6a926",
   "metadata": {},
   "outputs": [
    {
     "data": {
      "text/plain": [
       "0.7916666666666666"
      ]
     },
     "execution_count": 45,
     "metadata": {},
     "output_type": "execute_result"
    }
   ],
   "source": [
    "model = MultinomialNB()\n",
    "model_fit = model.fit(X_train_bow, y_train_bow)\n",
    "prediction = model_fit.predict(X_val_bow)\n",
    "f1_score(y_val_bow, prediction)"
   ]
  },
  {
   "cell_type": "code",
   "execution_count": 46,
   "id": "ff0716f1",
   "metadata": {},
   "outputs": [],
   "source": [
    "# TF-IDF"
   ]
  },
  {
   "cell_type": "code",
   "execution_count": 47,
   "id": "53d9015d",
   "metadata": {},
   "outputs": [
    {
     "data": {
      "text/plain": [
       "0.5361305361305362"
      ]
     },
     "execution_count": 47,
     "metadata": {},
     "output_type": "execute_result"
    }
   ],
   "source": [
    "model = MultinomialNB()\n",
    "model_fit = model.fit(X_train_tfidf, y_train_tfidf)\n",
    "prediction = model_fit.predict(X_val_tfidf)\n",
    "f1_score(y_val_tfidf, prediction)"
   ]
  },
  {
   "cell_type": "markdown",
   "id": "37b19a49",
   "metadata": {},
   "source": [
    "# Model Tuning"
   ]
  },
  {
   "cell_type": "markdown",
   "id": "5c98f1c6",
   "metadata": {},
   "source": [
    "### Logistic Regression on BOW"
   ]
  },
  {
   "cell_type": "code",
   "execution_count": 48,
   "id": "d9a6e371",
   "metadata": {},
   "outputs": [
    {
     "name": "stdout",
     "output_type": "stream",
     "text": [
      "score:  0.781\n",
      "c:  1.0\n",
      "class weight:  balanced\n",
      "penalty:  l2\n",
      "solver:  lbfgs\n"
     ]
    }
   ],
   "source": [
    "Cs = np.array([1,0.1,0.01,0.001])\n",
    "penalty = np.array(['l1', 'l2', 'elasticnet', 'none'])\n",
    "class_weight = np.array(['balanced', None])\n",
    "\n",
    "param_grid = dict(C=Cs, penalty=penalty, class_weight=class_weight) \n",
    "model = LogisticRegression()\n",
    "grid = GridSearchCV(estimator=model, param_grid=param_grid, cv=5, scoring='f1')\n",
    "\n",
    "grid.fit(X_train_bow, y_train_bow)\n",
    "\n",
    "score = round(grid.best_score_,3)\n",
    "print('score: ', score)\n",
    "print('c: ', grid.best_estimator_.C)\n",
    "print('class weight: ', grid.best_estimator_.class_weight)\n",
    "print('penalty: ', grid.best_estimator_.penalty)\n",
    "print('solver: ', grid.best_estimator_.solver)"
   ]
  },
  {
   "cell_type": "markdown",
   "id": "12f6b2a9",
   "metadata": {},
   "source": [
    "### Multinomial Naive Bayes on BOW"
   ]
  },
  {
   "cell_type": "code",
   "execution_count": 49,
   "id": "512f8f55",
   "metadata": {},
   "outputs": [
    {
     "name": "stdout",
     "output_type": "stream",
     "text": [
      "score:  0.786\n",
      "alpha:  1\n",
      "fit_prior:  False\n"
     ]
    }
   ],
   "source": [
    "alpha = np.array([1000,100,10,1])\n",
    "fit_prior = np.array([True, False])\n",
    "\n",
    "param_grid = dict(alpha=alpha, fit_prior=fit_prior) \n",
    "model = MultinomialNB()\n",
    "grid = GridSearchCV(estimator=model, param_grid=param_grid, cv=5, scoring='f1')\n",
    "\n",
    "grid.fit(X_train_bow, y_train_bow)\n",
    "\n",
    "score = round(grid.best_score_,3)\n",
    "print('score: ', score)\n",
    "print('alpha: ', grid.best_estimator_.alpha)\n",
    "print('fit_prior: ', grid.best_estimator_.fit_prior)"
   ]
  },
  {
   "cell_type": "markdown",
   "id": "859dbda8",
   "metadata": {},
   "source": [
    "# Performance Upon Validation Set"
   ]
  },
  {
   "cell_type": "code",
   "execution_count": 50,
   "id": "5b54f320",
   "metadata": {},
   "outputs": [
    {
     "data": {
      "text/plain": [
       "0.7916666666666666"
      ]
     },
     "execution_count": 50,
     "metadata": {},
     "output_type": "execute_result"
    }
   ],
   "source": [
    "model = MultinomialNB(alpha=1, fit_prior=True)\n",
    "model_fit = model.fit(X_train_bow, y_train_bow)\n",
    "prediction = model_fit.predict(X_val_bow)\n",
    "f1_score(y_val_bow, prediction)"
   ]
  },
  {
   "cell_type": "markdown",
   "id": "3d98dc60",
   "metadata": {},
   "source": [
    "# Predictions Upon Test Set"
   ]
  },
  {
   "cell_type": "code",
   "execution_count": 52,
   "id": "11d521e8",
   "metadata": {},
   "outputs": [],
   "source": [
    "test_bow.index = test_bow['id']\n",
    "test_bow = test_bow.drop(columns = 'id')"
   ]
  },
  {
   "cell_type": "code",
   "execution_count": 54,
   "id": "96284cec",
   "metadata": {},
   "outputs": [],
   "source": [
    "test_bow = test_bow.drop(columns = 'label')"
   ]
  },
  {
   "cell_type": "code",
   "execution_count": 57,
   "id": "ff1fb68d",
   "metadata": {
    "scrolled": true
   },
   "outputs": [],
   "source": [
    "prediction = model_fit.predict(test_bow)"
   ]
  },
  {
   "cell_type": "code",
   "execution_count": 60,
   "id": "50b1bc50",
   "metadata": {},
   "outputs": [
    {
     "data": {
      "text/html": [
       "<div>\n",
       "<style scoped>\n",
       "    .dataframe tbody tr th:only-of-type {\n",
       "        vertical-align: middle;\n",
       "    }\n",
       "\n",
       "    .dataframe tbody tr th {\n",
       "        vertical-align: top;\n",
       "    }\n",
       "\n",
       "    .dataframe thead th {\n",
       "        text-align: right;\n",
       "    }\n",
       "</style>\n",
       "<table border=\"1\" class=\"dataframe\">\n",
       "  <thead>\n",
       "    <tr style=\"text-align: right;\">\n",
       "      <th></th>\n",
       "      <th>label</th>\n",
       "    </tr>\n",
       "    <tr>\n",
       "      <th>id</th>\n",
       "      <th></th>\n",
       "    </tr>\n",
       "  </thead>\n",
       "  <tbody>\n",
       "    <tr>\n",
       "      <th>7921</th>\n",
       "      <td>1.0</td>\n",
       "    </tr>\n",
       "    <tr>\n",
       "      <th>7922</th>\n",
       "      <td>1.0</td>\n",
       "    </tr>\n",
       "    <tr>\n",
       "      <th>7923</th>\n",
       "      <td>1.0</td>\n",
       "    </tr>\n",
       "    <tr>\n",
       "      <th>7924</th>\n",
       "      <td>1.0</td>\n",
       "    </tr>\n",
       "    <tr>\n",
       "      <th>7925</th>\n",
       "      <td>1.0</td>\n",
       "    </tr>\n",
       "    <tr>\n",
       "      <th>...</th>\n",
       "      <td>...</td>\n",
       "    </tr>\n",
       "    <tr>\n",
       "      <th>9869</th>\n",
       "      <td>1.0</td>\n",
       "    </tr>\n",
       "    <tr>\n",
       "      <th>9870</th>\n",
       "      <td>0.0</td>\n",
       "    </tr>\n",
       "    <tr>\n",
       "      <th>9871</th>\n",
       "      <td>1.0</td>\n",
       "    </tr>\n",
       "    <tr>\n",
       "      <th>9872</th>\n",
       "      <td>1.0</td>\n",
       "    </tr>\n",
       "    <tr>\n",
       "      <th>9873</th>\n",
       "      <td>0.0</td>\n",
       "    </tr>\n",
       "  </tbody>\n",
       "</table>\n",
       "<p>1953 rows × 1 columns</p>\n",
       "</div>"
      ],
      "text/plain": [
       "      label\n",
       "id         \n",
       "7921    1.0\n",
       "7922    1.0\n",
       "7923    1.0\n",
       "7924    1.0\n",
       "7925    1.0\n",
       "...     ...\n",
       "9869    1.0\n",
       "9870    0.0\n",
       "9871    1.0\n",
       "9872    1.0\n",
       "9873    0.0\n",
       "\n",
       "[1953 rows x 1 columns]"
      ]
     },
     "execution_count": 60,
     "metadata": {},
     "output_type": "execute_result"
    }
   ],
   "source": [
    "test_bow['label'] = prediction\n",
    "submission = test_bow['label']\n",
    "submission_df = pd.DataFrame(submission)\n",
    "submission_df"
   ]
  },
  {
   "cell_type": "markdown",
   "id": "61b7dedb",
   "metadata": {},
   "source": [
    "# Submission of Predictions"
   ]
  },
  {
   "cell_type": "code",
   "execution_count": 62,
   "id": "ad7740e8",
   "metadata": {},
   "outputs": [],
   "source": [
    "submission_df.to_csv('submission.csv')"
   ]
  }
 ],
 "metadata": {
  "kernelspec": {
   "display_name": "Python 3 (ipykernel)",
   "language": "python",
   "name": "python3"
  },
  "language_info": {
   "codemirror_mode": {
    "name": "ipython",
    "version": 3
   },
   "file_extension": ".py",
   "mimetype": "text/x-python",
   "name": "python",
   "nbconvert_exporter": "python",
   "pygments_lexer": "ipython3",
   "version": "3.11.5"
  }
 },
 "nbformat": 4,
 "nbformat_minor": 5
}
