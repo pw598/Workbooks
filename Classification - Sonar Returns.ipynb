{
 "cells": [
  {
   "cell_type": "markdown",
   "id": "7e416f06",
   "metadata": {},
   "source": [
    "# Sonar Returns"
   ]
  },
  {
   "cell_type": "markdown",
   "id": "389c05f8",
   "metadata": {},
   "source": [
    "This dataset was obtained by bouncing sonar off of mines (metal cylinders) and rocks and observing the different responses in order to be able to tell which are which, so that sonar can be used as a reliable predictor. The dataset contains 111 mine observations and 97 rock observations, as well as the signals obtained by each sensor. The dataset has many features, so it is ideal for algorithms which inherently select for features, but perhaps there is also opportunity to use more traditional classification algorithms in the presence of feature selection."
   ]
  },
  {
   "cell_type": "markdown",
   "id": "c3b10ef4",
   "metadata": {},
   "source": [
    "<img src=\"sonar.jpeg\" style=\"height: 400px; width:auto;\"></br></br>"
   ]
  },
  {
   "cell_type": "markdown",
   "id": "b3a52997",
   "metadata": {},
   "source": [
    "# Import Libraries and Data"
   ]
  },
  {
   "cell_type": "code",
   "execution_count": 1,
   "id": "0c81f8d6",
   "metadata": {},
   "outputs": [],
   "source": [
    "import numpy as np\n",
    "import pandas as pd\n",
    "import matplotlib.pyplot as plt\n",
    "import seaborn as sns\n",
    "\n",
    "import warnings\n",
    "warnings.filterwarnings(\"ignore\")"
   ]
  },
  {
   "cell_type": "code",
   "execution_count": 2,
   "id": "92931e55",
   "metadata": {
    "scrolled": true
   },
   "outputs": [
    {
     "data": {
      "text/html": [
       "<div>\n",
       "<style scoped>\n",
       "    .dataframe tbody tr th:only-of-type {\n",
       "        vertical-align: middle;\n",
       "    }\n",
       "\n",
       "    .dataframe tbody tr th {\n",
       "        vertical-align: top;\n",
       "    }\n",
       "\n",
       "    .dataframe thead th {\n",
       "        text-align: right;\n",
       "    }\n",
       "</style>\n",
       "<table border=\"1\" class=\"dataframe\">\n",
       "  <thead>\n",
       "    <tr style=\"text-align: right;\">\n",
       "      <th></th>\n",
       "      <th>0</th>\n",
       "      <th>1</th>\n",
       "      <th>2</th>\n",
       "      <th>3</th>\n",
       "      <th>4</th>\n",
       "    </tr>\n",
       "  </thead>\n",
       "  <tbody>\n",
       "    <tr>\n",
       "      <th>f1</th>\n",
       "      <td>0.02</td>\n",
       "      <td>0.0453</td>\n",
       "      <td>0.0262</td>\n",
       "      <td>0.01</td>\n",
       "      <td>0.0762</td>\n",
       "    </tr>\n",
       "    <tr>\n",
       "      <th>f2</th>\n",
       "      <td>0.0371</td>\n",
       "      <td>0.0523</td>\n",
       "      <td>0.0582</td>\n",
       "      <td>0.0171</td>\n",
       "      <td>0.0666</td>\n",
       "    </tr>\n",
       "    <tr>\n",
       "      <th>f3</th>\n",
       "      <td>0.0428</td>\n",
       "      <td>0.0843</td>\n",
       "      <td>0.1099</td>\n",
       "      <td>0.0623</td>\n",
       "      <td>0.0481</td>\n",
       "    </tr>\n",
       "    <tr>\n",
       "      <th>f4</th>\n",
       "      <td>0.0207</td>\n",
       "      <td>0.0689</td>\n",
       "      <td>0.1083</td>\n",
       "      <td>0.0205</td>\n",
       "      <td>0.0394</td>\n",
       "    </tr>\n",
       "    <tr>\n",
       "      <th>f5</th>\n",
       "      <td>0.0954</td>\n",
       "      <td>0.1183</td>\n",
       "      <td>0.0974</td>\n",
       "      <td>0.0205</td>\n",
       "      <td>0.059</td>\n",
       "    </tr>\n",
       "    <tr>\n",
       "      <th>...</th>\n",
       "      <td>...</td>\n",
       "      <td>...</td>\n",
       "      <td>...</td>\n",
       "      <td>...</td>\n",
       "      <td>...</td>\n",
       "    </tr>\n",
       "    <tr>\n",
       "      <th>f57</th>\n",
       "      <td>0.018</td>\n",
       "      <td>0.014</td>\n",
       "      <td>0.0316</td>\n",
       "      <td>0.005</td>\n",
       "      <td>0.0072</td>\n",
       "    </tr>\n",
       "    <tr>\n",
       "      <th>f58</th>\n",
       "      <td>0.0084</td>\n",
       "      <td>0.0049</td>\n",
       "      <td>0.0164</td>\n",
       "      <td>0.0044</td>\n",
       "      <td>0.0048</td>\n",
       "    </tr>\n",
       "    <tr>\n",
       "      <th>f59</th>\n",
       "      <td>0.009</td>\n",
       "      <td>0.0052</td>\n",
       "      <td>0.0095</td>\n",
       "      <td>0.004</td>\n",
       "      <td>0.0107</td>\n",
       "    </tr>\n",
       "    <tr>\n",
       "      <th>f60</th>\n",
       "      <td>0.0032</td>\n",
       "      <td>0.0044</td>\n",
       "      <td>0.0078</td>\n",
       "      <td>0.0117</td>\n",
       "      <td>0.0094</td>\n",
       "    </tr>\n",
       "    <tr>\n",
       "      <th>class</th>\n",
       "      <td>R</td>\n",
       "      <td>R</td>\n",
       "      <td>R</td>\n",
       "      <td>R</td>\n",
       "      <td>R</td>\n",
       "    </tr>\n",
       "  </tbody>\n",
       "</table>\n",
       "<p>61 rows × 5 columns</p>\n",
       "</div>"
      ],
      "text/plain": [
       "            0       1       2       3       4\n",
       "f1       0.02  0.0453  0.0262    0.01  0.0762\n",
       "f2     0.0371  0.0523  0.0582  0.0171  0.0666\n",
       "f3     0.0428  0.0843  0.1099  0.0623  0.0481\n",
       "f4     0.0207  0.0689  0.1083  0.0205  0.0394\n",
       "f5     0.0954  0.1183  0.0974  0.0205   0.059\n",
       "...       ...     ...     ...     ...     ...\n",
       "f57     0.018   0.014  0.0316   0.005  0.0072\n",
       "f58    0.0084  0.0049  0.0164  0.0044  0.0048\n",
       "f59     0.009  0.0052  0.0095   0.004  0.0107\n",
       "f60    0.0032  0.0044  0.0078  0.0117  0.0094\n",
       "class       R       R       R       R       R\n",
       "\n",
       "[61 rows x 5 columns]"
      ]
     },
     "execution_count": 2,
     "metadata": {},
     "output_type": "execute_result"
    }
   ],
   "source": [
    "df = pd.read_csv(\"sonar.csv\")\n",
    "df.head().transpose()"
   ]
  },
  {
   "cell_type": "markdown",
   "id": "eda4bcf5",
   "metadata": {},
   "source": [
    "# Inspect Data"
   ]
  },
  {
   "cell_type": "code",
   "execution_count": 3,
   "id": "f48ce8ba",
   "metadata": {},
   "outputs": [
    {
     "name": "stdout",
     "output_type": "stream",
     "text": [
      "(208, 61)\n"
     ]
    }
   ],
   "source": [
    "shape = df.shape\n",
    "print(shape)"
   ]
  },
  {
   "cell_type": "code",
   "execution_count": 4,
   "id": "c41f396f",
   "metadata": {},
   "outputs": [
    {
     "name": "stdout",
     "output_type": "stream",
     "text": [
      "class\n",
      "M    111\n",
      "R     97\n",
      "dtype: int64\n"
     ]
    }
   ],
   "source": [
    "class_counts = df.groupby('class').size()\n",
    "print(class_counts)"
   ]
  },
  {
   "cell_type": "code",
   "execution_count": 5,
   "id": "f20c5cd4",
   "metadata": {},
   "outputs": [
    {
     "data": {
      "text/html": [
       "<div>\n",
       "<style scoped>\n",
       "    .dataframe tbody tr th:only-of-type {\n",
       "        vertical-align: middle;\n",
       "    }\n",
       "\n",
       "    .dataframe tbody tr th {\n",
       "        vertical-align: top;\n",
       "    }\n",
       "\n",
       "    .dataframe thead th {\n",
       "        text-align: right;\n",
       "    }\n",
       "</style>\n",
       "<table border=\"1\" class=\"dataframe\">\n",
       "  <thead>\n",
       "    <tr style=\"text-align: right;\">\n",
       "      <th></th>\n",
       "      <th>count</th>\n",
       "      <th>mean</th>\n",
       "      <th>std</th>\n",
       "      <th>min</th>\n",
       "      <th>25%</th>\n",
       "      <th>50%</th>\n",
       "      <th>75%</th>\n",
       "      <th>max</th>\n",
       "    </tr>\n",
       "  </thead>\n",
       "  <tbody>\n",
       "    <tr>\n",
       "      <th>f1</th>\n",
       "      <td>208.0</td>\n",
       "      <td>0.029164</td>\n",
       "      <td>0.022991</td>\n",
       "      <td>0.0015</td>\n",
       "      <td>0.013350</td>\n",
       "      <td>0.02280</td>\n",
       "      <td>0.035550</td>\n",
       "      <td>0.1371</td>\n",
       "    </tr>\n",
       "    <tr>\n",
       "      <th>f2</th>\n",
       "      <td>208.0</td>\n",
       "      <td>0.038437</td>\n",
       "      <td>0.032960</td>\n",
       "      <td>0.0006</td>\n",
       "      <td>0.016450</td>\n",
       "      <td>0.03080</td>\n",
       "      <td>0.047950</td>\n",
       "      <td>0.2339</td>\n",
       "    </tr>\n",
       "    <tr>\n",
       "      <th>f3</th>\n",
       "      <td>208.0</td>\n",
       "      <td>0.043832</td>\n",
       "      <td>0.038428</td>\n",
       "      <td>0.0015</td>\n",
       "      <td>0.018950</td>\n",
       "      <td>0.03430</td>\n",
       "      <td>0.057950</td>\n",
       "      <td>0.3059</td>\n",
       "    </tr>\n",
       "    <tr>\n",
       "      <th>f4</th>\n",
       "      <td>208.0</td>\n",
       "      <td>0.053892</td>\n",
       "      <td>0.046528</td>\n",
       "      <td>0.0058</td>\n",
       "      <td>0.024375</td>\n",
       "      <td>0.04405</td>\n",
       "      <td>0.064500</td>\n",
       "      <td>0.4264</td>\n",
       "    </tr>\n",
       "    <tr>\n",
       "      <th>f5</th>\n",
       "      <td>208.0</td>\n",
       "      <td>0.075202</td>\n",
       "      <td>0.055552</td>\n",
       "      <td>0.0067</td>\n",
       "      <td>0.038050</td>\n",
       "      <td>0.06250</td>\n",
       "      <td>0.100275</td>\n",
       "      <td>0.4010</td>\n",
       "    </tr>\n",
       "  </tbody>\n",
       "</table>\n",
       "</div>"
      ],
      "text/plain": [
       "    count      mean       std     min       25%      50%       75%     max\n",
       "f1  208.0  0.029164  0.022991  0.0015  0.013350  0.02280  0.035550  0.1371\n",
       "f2  208.0  0.038437  0.032960  0.0006  0.016450  0.03080  0.047950  0.2339\n",
       "f3  208.0  0.043832  0.038428  0.0015  0.018950  0.03430  0.057950  0.3059\n",
       "f4  208.0  0.053892  0.046528  0.0058  0.024375  0.04405  0.064500  0.4264\n",
       "f5  208.0  0.075202  0.055552  0.0067  0.038050  0.06250  0.100275  0.4010"
      ]
     },
     "execution_count": 5,
     "metadata": {},
     "output_type": "execute_result"
    }
   ],
   "source": [
    "df.describe().transpose().head()"
   ]
  },
  {
   "cell_type": "markdown",
   "id": "ebeea95a",
   "metadata": {},
   "source": [
    "# Visualization"
   ]
  },
  {
   "cell_type": "code",
   "execution_count": 6,
   "id": "70976b41",
   "metadata": {},
   "outputs": [
    {
     "data": {
      "image/png": "[encoded data removed]",
      "text/plain": [
       "<Figure size 800x600 with 2 Axes>"
      ]
     },
     "metadata": {},
     "output_type": "display_data"
    }
   ],
   "source": [
    "plt.figure(figsize=(8,6))\n",
    "sns.heatmap(df.corr());"
   ]
  },
  {
   "cell_type": "code",
   "execution_count": 7,
   "id": "fde587df",
   "metadata": {},
   "outputs": [
    {
     "data": {
      "image/png": "[encoded data removed]",
      "text/plain": [
       "<Figure size 2000x500 with 1 Axes>"
      ]
     },
     "metadata": {},
     "output_type": "display_data"
    }
   ],
   "source": [
    "plt.figure(figsize=(20,5))\n",
    "plt.boxplot(df.drop(columns=\"class\"))\n",
    "plt.show()"
   ]
  },
  {
   "cell_type": "markdown",
   "id": "0d8c53fd",
   "metadata": {},
   "source": [
    "# Preprocessing"
   ]
  },
  {
   "cell_type": "markdown",
   "id": "6e6a50c2",
   "metadata": {},
   "source": [
    "### Label Encoding Target"
   ]
  },
  {
   "cell_type": "code",
   "execution_count": 8,
   "id": "13290836",
   "metadata": {},
   "outputs": [
    {
     "data": {
      "text/plain": [
       "0      1\n",
       "1      1\n",
       "2      1\n",
       "3      1\n",
       "4      1\n",
       "      ..\n",
       "203    0\n",
       "204    0\n",
       "205    0\n",
       "206    0\n",
       "207    0\n",
       "Name: class, Length: 208, dtype: int32"
      ]
     },
     "execution_count": 8,
     "metadata": {},
     "output_type": "execute_result"
    }
   ],
   "source": [
    "from sklearn import preprocessing\n",
    "le = preprocessing.LabelEncoder()\n",
    "le.fit(df['class'])\n",
    "transform = le.transform(df['class'])\n",
    "df['class'] = transform\n",
    "df['class']"
   ]
  },
  {
   "cell_type": "markdown",
   "id": "6972a834",
   "metadata": {},
   "source": [
    "### Train/Test Split"
   ]
  },
  {
   "cell_type": "code",
   "execution_count": 9,
   "id": "9c1d2bce",
   "metadata": {},
   "outputs": [],
   "source": [
    "array = df.values\n",
    "X = array[:,0:60]\n",
    "y = array[:,60]"
   ]
  },
  {
   "cell_type": "code",
   "execution_count": 10,
   "id": "d6b429c5",
   "metadata": {},
   "outputs": [],
   "source": [
    "from sklearn.model_selection import train_test_split\n",
    "X_train, X_test, y_train, y_test = train_test_split(X, y,test_size=.2, random_state=123)"
   ]
  },
  {
   "cell_type": "markdown",
   "id": "6b675a52",
   "metadata": {},
   "source": [
    "### Standardization"
   ]
  },
  {
   "cell_type": "code",
   "execution_count": 11,
   "id": "94c397d4",
   "metadata": {},
   "outputs": [],
   "source": [
    "from sklearn.preprocessing import StandardScaler\n",
    "sc = StandardScaler()\n",
    "X_train_std = sc.fit_transform(X_train)\n",
    "X_test_std = sc.transform(X_test)"
   ]
  },
  {
   "cell_type": "markdown",
   "id": "cd2cbb22",
   "metadata": {},
   "source": [
    "# Classification Algorithms"
   ]
  },
  {
   "cell_type": "code",
   "execution_count": 12,
   "id": "8596e35f",
   "metadata": {},
   "outputs": [
    {
     "name": "stdout",
     "output_type": "stream",
     "text": [
      "LR: 0.765 (0.125)\n",
      "LDA: 0.751 (0.115)\n",
      "KNN: 0.733 (0.199)\n",
      "CART: 0.717 (0.187)\n",
      "NB: 0.669 (0.130)\n",
      "SVM: 0.655 (0.144)\n"
     ]
    }
   ],
   "source": [
    "from sklearn.model_selection import KFold\n",
    "from sklearn.model_selection import cross_val_score\n",
    "\n",
    "from sklearn.linear_model import LogisticRegression\n",
    "from sklearn.discriminant_analysis import LinearDiscriminantAnalysis\n",
    "from sklearn.neighbors import KNeighborsClassifier\n",
    "from sklearn.tree import DecisionTreeClassifier\n",
    "from sklearn.naive_bayes import GaussianNB\n",
    "from sklearn.svm import SVC\n",
    "\n",
    "models = []\n",
    "models.append(('LR', LogisticRegression()))\n",
    "models.append(('LDA', LinearDiscriminantAnalysis()))\n",
    "models.append(('KNN', KNeighborsClassifier()))\n",
    "models.append(('CART', DecisionTreeClassifier()))\n",
    "models.append(('NB', GaussianNB()))\n",
    "models.append(('SVM', SVC(gamma='auto')))\n",
    "\n",
    "results = []\n",
    "names = []\n",
    "for name, model in models:\n",
    "    kfold = KFold(n_splits=20, shuffle=True)\n",
    "    cv_results = cross_val_score(model, X_train, y_train, cv=kfold, scoring='accuracy')\n",
    "    results.append(cv_results)\n",
    "    names.append(name)\n",
    "    msg = \"%s: %.3f (%.3f)\" % (name, cv_results.mean(), cv_results.std())\n",
    "    print(msg)"
   ]
  },
  {
   "cell_type": "code",
   "execution_count": 13,
   "id": "c72aef87",
   "metadata": {
    "scrolled": true
   },
   "outputs": [
    {
     "data": {
      "image/png": "[encoded data removed]",
      "text/plain": [
       "<Figure size 640x480 with 1 Axes>"
      ]
     },
     "metadata": {},
     "output_type": "display_data"
    }
   ],
   "source": [
    "fig = plt.figure()\n",
    "fig.suptitle('Baseline Classification Performance')\n",
    "ax = fig.add_subplot(111)\n",
    "plt.boxplot(results)\n",
    "ax.set_xticklabels(names)\n",
    "plt.show()"
   ]
  },
  {
   "cell_type": "markdown",
   "id": "13c6c88a",
   "metadata": {},
   "source": [
    "# Feature Selection"
   ]
  },
  {
   "cell_type": "markdown",
   "id": "cb27e6d6",
   "metadata": {},
   "source": [
    "### Variance Thresholding"
   ]
  },
  {
   "cell_type": "code",
   "execution_count": 14,
   "id": "7e2c809b",
   "metadata": {},
   "outputs": [
    {
     "name": "stdout",
     "output_type": "stream",
     "text": [
      "(166, 18)\n"
     ]
    }
   ],
   "source": [
    "from sklearn.feature_selection import VarianceThreshold\n",
    "thresholder = VarianceThreshold(threshold=.05)\n",
    "X_higher_05 = thresholder.fit_transform(X_train)\n",
    "print(X_higher_05.shape)"
   ]
  },
  {
   "cell_type": "code",
   "execution_count": 15,
   "id": "e8de1e37",
   "metadata": {},
   "outputs": [
    {
     "name": "stdout",
     "output_type": "stream",
     "text": [
      "LR: 0.661806 (0.138002)\n",
      "LDA: 0.627083 (0.169779)\n",
      "KNN: 0.663889 (0.180427)\n",
      "CART: 0.705556 (0.145840)\n",
      "NB: 0.643056 (0.176673)\n",
      "SVM: 0.600000 (0.185800)\n"
     ]
    }
   ],
   "source": [
    "results = []\n",
    "names = []\n",
    "for name, model in models:\n",
    "    kfold = KFold(n_splits=20, shuffle=True)\n",
    "    cv_results = cross_val_score(model, X_higher_05, y_train, cv=kfold, scoring='accuracy')\n",
    "    results.append(cv_results)\n",
    "    names.append(name)\n",
    "    msg = \"%s: %f (%f)\" % (name, cv_results.mean(), cv_results.std())\n",
    "    print(msg)"
   ]
  },
  {
   "cell_type": "markdown",
   "id": "a577c339",
   "metadata": {},
   "source": [
    "### F-Stat Based Selection"
   ]
  },
  {
   "cell_type": "code",
   "execution_count": 16,
   "id": "69649847",
   "metadata": {},
   "outputs": [
    {
     "name": "stdout",
     "output_type": "stream",
     "text": [
      "Original number of features: 60\n",
      "Reduced number of features: 20\n"
     ]
    }
   ],
   "source": [
    "from sklearn.feature_selection import SelectKBest\n",
    "from sklearn.feature_selection import f_classif\n",
    "fvalue_selector = SelectKBest(f_classif, k=20)\n",
    "X_kbest = fvalue_selector.fit_transform(X, y)\n",
    "print('Original number of features:', X.shape[1])\n",
    "print('Reduced number of features:', X_kbest.shape[1])"
   ]
  },
  {
   "cell_type": "code",
   "execution_count": 17,
   "id": "3b2ba642",
   "metadata": {},
   "outputs": [],
   "source": [
    "from sklearn.model_selection import train_test_split\n",
    "X_train_kbest, X_test_kbest, y_train_kbest, y_test_kbest = train_test_split(X, y,test_size=.2, shuffle=True)"
   ]
  },
  {
   "cell_type": "code",
   "execution_count": 18,
   "id": "1dc94326",
   "metadata": {},
   "outputs": [
    {
     "name": "stdout",
     "output_type": "stream",
     "text": [
      "LR: 0.760 (0.150)\n",
      "LDA: 0.761 (0.180)\n",
      "KNN: 0.776 (0.158)\n",
      "CART: 0.710 (0.156)\n",
      "NB: 0.683 (0.137)\n",
      "SVM: 0.560 (0.162)\n"
     ]
    }
   ],
   "source": [
    "results = []\n",
    "names = []\n",
    "for name, model in models:\n",
    "    kfold = KFold(n_splits=20, shuffle=True)\n",
    "    cv_results = cross_val_score(model, X_train_kbest, y_train_kbest, cv=kfold, scoring='accuracy')\n",
    "    results.append(cv_results)\n",
    "    names.append(name)\n",
    "    msg = \"%s: %.3f (%.3f)\" % (name, cv_results.mean(), cv_results.std())\n",
    "    print(msg)"
   ]
  },
  {
   "cell_type": "code",
   "execution_count": 19,
   "id": "f4eaf287",
   "metadata": {},
   "outputs": [
    {
     "data": {
      "image/png": "[encoded data removed]",
      "text/plain": [
       "<Figure size 640x480 with 1 Axes>"
      ]
     },
     "metadata": {},
     "output_type": "display_data"
    }
   ],
   "source": [
    "fig = plt.figure()\n",
    "fig.suptitle('With Feature Selection')\n",
    "ax = fig.add_subplot(111)\n",
    "plt.boxplot(results)\n",
    "ax.set_xticklabels(names)\n",
    "plt.show()"
   ]
  },
  {
   "cell_type": "markdown",
   "id": "278f0f0b",
   "metadata": {},
   "source": [
    "### Impact of Standardization"
   ]
  },
  {
   "cell_type": "code",
   "execution_count": 20,
   "id": "40eb67aa",
   "metadata": {},
   "outputs": [
    {
     "name": "stdout",
     "output_type": "stream",
     "text": [
      "LR: 0.785 (0.114)\n",
      "LDA: 0.745 (0.163)\n",
      "KNN: 0.790 (0.181)\n",
      "CART: 0.721 (0.169)\n",
      "NB: 0.647 (0.178)\n",
      "SVM: 0.809 (0.112)\n"
     ]
    }
   ],
   "source": [
    "results = []\n",
    "names = []\n",
    "for name, model in models:\n",
    "    kfold = KFold(n_splits=20, shuffle=True)\n",
    "    cv_results = cross_val_score(model, X_train_std, y_train, cv=kfold, scoring='accuracy')\n",
    "    results.append(cv_results)\n",
    "    names.append(name)\n",
    "    msg = \"%s: %.3f (%.3f)\" % (name, cv_results.mean(), cv_results.std())\n",
    "    print(msg)"
   ]
  },
  {
   "cell_type": "code",
   "execution_count": 21,
   "id": "7da27a2c",
   "metadata": {},
   "outputs": [
    {
     "data": {
      "image/png": "[encoded data removed]",
      "text/plain": [
       "<Figure size 640x480 with 1 Axes>"
      ]
     },
     "metadata": {},
     "output_type": "display_data"
    }
   ],
   "source": [
    "fig = plt.figure()\n",
    "fig.suptitle('With Standardized Data')\n",
    "ax = fig.add_subplot(111)\n",
    "plt.boxplot(results)\n",
    "ax.set_xticklabels(names)\n",
    "plt.show()"
   ]
  },
  {
   "cell_type": "markdown",
   "id": "80d0e97b",
   "metadata": {},
   "source": [
    "# Ensemble Algorithms"
   ]
  },
  {
   "cell_type": "code",
   "execution_count": 22,
   "id": "502dcdcb",
   "metadata": {},
   "outputs": [
    {
     "name": "stdout",
     "output_type": "stream",
     "text": [
      "AB: 0.783 (0.088)\n",
      "GBM: 0.825 (0.057)\n",
      "RF: 0.802 (0.078)\n",
      "ET: 0.851 (0.088)\n",
      "BG: 0.795 (0.084)\n",
      "XGB: 0.820 (0.083)\n"
     ]
    }
   ],
   "source": [
    "from sklearn.ensemble import AdaBoostClassifier\n",
    "from sklearn.ensemble import GradientBoostingClassifier\n",
    "from sklearn.ensemble import RandomForestClassifier\n",
    "from sklearn.ensemble import ExtraTreesClassifier\n",
    "from sklearn.ensemble import BaggingClassifier\n",
    "from xgboost import XGBClassifier\n",
    "\n",
    "num_folds = 10\n",
    "scoring = 'accuracy'\n",
    "\n",
    "ensembles = []\n",
    "ensembles.append(('AB', AdaBoostClassifier()))\n",
    "ensembles.append(('GBM', GradientBoostingClassifier()))\n",
    "ensembles.append(('RF', RandomForestClassifier()))\n",
    "ensembles.append(('ET', ExtraTreesClassifier()))\n",
    "ensembles.append(('BG', BaggingClassifier()))\n",
    "ensembles.append(('XGB', XGBClassifier()))\n",
    "\n",
    "results = []\n",
    "names = []\n",
    "for name, model in ensembles:\n",
    "    kfold = KFold(n_splits=num_folds, shuffle=True)\n",
    "    cv_results = cross_val_score(model, X_train, y_train, cv=kfold, scoring=scoring)\n",
    "    results.append(cv_results)\n",
    "    names.append(name)\n",
    "    msg = \"%s: %.3f (%.3f)\" % (name, cv_results.mean(), cv_results.std())\n",
    "    print(msg)"
   ]
  },
  {
   "cell_type": "code",
   "execution_count": 23,
   "id": "77286d6e",
   "metadata": {},
   "outputs": [
    {
     "data": {
      "image/png": "[encoded data removed]",
      "text/plain": [
       "<Figure size 640x480 with 1 Axes>"
      ]
     },
     "metadata": {},
     "output_type": "display_data"
    }
   ],
   "source": [
    "fig = plt.figure()\n",
    "fig.suptitle('Baseline Ensemble Performance')\n",
    "ax = fig.add_subplot(111)\n",
    "plt.boxplot(results)\n",
    "ax.set_xticklabels(names)\n",
    "plt.show()"
   ]
  },
  {
   "cell_type": "markdown",
   "id": "def31e7b",
   "metadata": {},
   "source": [
    "### Impact of Feature Selection"
   ]
  },
  {
   "cell_type": "code",
   "execution_count": 24,
   "id": "c23eb21f",
   "metadata": {},
   "outputs": [
    {
     "name": "stdout",
     "output_type": "stream",
     "text": [
      "AB: 0.758 (0.077)\n",
      "GBM: 0.821 (0.114)\n",
      "RF: 0.802 (0.095)\n",
      "ET: 0.860 (0.075)\n",
      "BG: 0.795 (0.077)\n",
      "XGB: 0.831 (0.076)\n"
     ]
    },
    {
     "data": {
      "image/png": "[encoded data removed]",
      "text/plain": [
       "<Figure size 640x480 with 1 Axes>"
      ]
     },
     "metadata": {},
     "output_type": "display_data"
    }
   ],
   "source": [
    "results = []\n",
    "names = []\n",
    "for name, model in ensembles:\n",
    "    kfold = KFold(n_splits=num_folds, shuffle=True)\n",
    "    cv_results = cross_val_score(model, X_train_kbest, y_train_kbest, cv=kfold, scoring=scoring)\n",
    "    results.append(cv_results)\n",
    "    names.append(name)\n",
    "    msg = \"%s: %.3f (%.3f)\" % (name, cv_results.mean(), cv_results.std())\n",
    "    print(msg)\n",
    "    \n",
    "fig = plt.figure()\n",
    "fig.suptitle('Baseline Ensemble Performance')\n",
    "ax = fig.add_subplot(111)\n",
    "plt.boxplot(results)\n",
    "ax.set_xticklabels(names)\n",
    "plt.show()"
   ]
  },
  {
   "cell_type": "markdown",
   "id": "87a6bba0",
   "metadata": {},
   "source": [
    "### Impact of Standardization"
   ]
  },
  {
   "cell_type": "code",
   "execution_count": 25,
   "id": "7f9f6359",
   "metadata": {},
   "outputs": [
    {
     "name": "stdout",
     "output_type": "stream",
     "text": [
      "AB: 0.793 (0.110)\n",
      "GBM: 0.825 (0.075)\n",
      "RF: 0.836 (0.092)\n",
      "ET: 0.842 (0.106)\n",
      "BG: 0.742 (0.106)\n",
      "XGB: 0.818 (0.119)\n"
     ]
    }
   ],
   "source": [
    "results = []\n",
    "names = []\n",
    "for name, model in ensembles:\n",
    "    kfold = KFold(n_splits=num_folds, shuffle=True)\n",
    "    cv_results = cross_val_score(model, X_train_std, y_train, cv=kfold, scoring=scoring)\n",
    "    results.append(cv_results)\n",
    "    names.append(name)\n",
    "    msg = \"%s: %.3f (%.3f)\" % (name, cv_results.mean(), cv_results.std())\n",
    "    print(msg)"
   ]
  },
  {
   "cell_type": "code",
   "execution_count": 26,
   "id": "d86e3f14",
   "metadata": {},
   "outputs": [
    {
     "data": {
      "image/png": "[encoded data removed]",
      "text/plain": [
       "<Figure size 640x480 with 1 Axes>"
      ]
     },
     "metadata": {},
     "output_type": "display_data"
    }
   ],
   "source": [
    "fig = plt.figure()\n",
    "fig.suptitle('Baseline Ensemble Performance')\n",
    "ax = fig.add_subplot(111)\n",
    "plt.boxplot(results)\n",
    "ax.set_xticklabels(names)\n",
    "plt.show()"
   ]
  },
  {
   "cell_type": "markdown",
   "id": "716873d2",
   "metadata": {},
   "source": [
    "# Tuning"
   ]
  },
  {
   "cell_type": "code",
   "execution_count": 27,
   "id": "da6e1723",
   "metadata": {},
   "outputs": [],
   "source": [
    "from sklearn.model_selection import GridSearchCV"
   ]
  },
  {
   "cell_type": "code",
   "execution_count": 28,
   "id": "93c29933",
   "metadata": {},
   "outputs": [],
   "source": [
    "tuning_df = pd.DataFrame(columns = ('Model', 'Score', 'Param1', 'Param1_Val', 'Param2', 'Param2_Val', 'Param3', 'Param3_Val',  \n",
    "                                   'Param4', 'Param4_Val', 'Param5', 'Param5_Val'))\n",
    "\n",
    "def append_results_df(model, score, param1, param1_val, param2, param2_val, param3, param3_val, param4, param4_val, param5, param5_val):\n",
    "    new_row = len(tuning_df) + 1\n",
    "    tuning_df.loc[new_row,'Model'] = model\n",
    "    tuning_df.loc[new_row,'Score'] = score\n",
    "    tuning_df.loc[new_row,'Param1'] = param1\n",
    "    tuning_df.loc[new_row,'Param1_Val'] = param1_val\n",
    "    tuning_df.loc[new_row,'Param2'] = param2\n",
    "    tuning_df.loc[new_row,'Param2_Val'] = param2_val\n",
    "    tuning_df.loc[new_row,'Param3'] = param3\n",
    "    tuning_df.loc[new_row,'Param3_Val'] = param3_val\n",
    "    tuning_df.loc[new_row,'Param4'] = param4\n",
    "    tuning_df.loc[new_row,'Param4_Val'] = param4_val\n",
    "    tuning_df.loc[new_row,'Param5'] = param5\n",
    "    tuning_df.loc[new_row,'Param5_Val'] = param5_val"
   ]
  },
  {
   "cell_type": "markdown",
   "id": "024a21ab",
   "metadata": {},
   "source": [
    "### Logistic Regression, Standardized Data"
   ]
  },
  {
   "cell_type": "code",
   "execution_count": 29,
   "id": "40f022d9",
   "metadata": {},
   "outputs": [],
   "source": [
    "Cs = np.array([1,0.1,0.01,0.001])\n",
    "penalty = np.array(['l1', 'l2', 'elasticnet', 'none'])\n",
    "class_weight = np.array(['balanced', None])\n",
    "\n",
    "param_grid = dict(C=Cs, penalty=penalty, class_weight=class_weight) \n",
    "model = LogisticRegression()\n",
    "grid = GridSearchCV(estimator=model, param_grid=param_grid, cv=20)"
   ]
  },
  {
   "cell_type": "code",
   "execution_count": 30,
   "id": "ca436e7d",
   "metadata": {},
   "outputs": [],
   "source": [
    "grid.fit(X_train_std, y_train)\n",
    "\n",
    "model = \"Logistic Regression, Standardized Data\"\n",
    "score = round(grid.best_score_,3)\n",
    "param1 = \"c\"\n",
    "param1_val = grid.best_estimator_.C\n",
    "param2 = \"class_weight\"\n",
    "param2_val = grid.best_estimator_.class_weight\n",
    "param3 = \"penalty\"\n",
    "param3_val = grid.best_estimator_.penalty\n",
    "param4 = \"solver\"\n",
    "param4_val = grid.best_estimator_.solver\n",
    "param5 = \"\"\n",
    "param5_val = \"\"\n",
    "\n",
    "append_results_df(model,score,param1,param1_val,param2,param2_val,param3,param3_val,param4,param4_val,param5,param5_val)"
   ]
  },
  {
   "cell_type": "code",
   "execution_count": 31,
   "id": "b0e74146",
   "metadata": {
    "scrolled": true
   },
   "outputs": [
    {
     "data": {
      "text/html": [
       "<div>\n",
       "<style scoped>\n",
       "    .dataframe tbody tr th:only-of-type {\n",
       "        vertical-align: middle;\n",
       "    }\n",
       "\n",
       "    .dataframe tbody tr th {\n",
       "        vertical-align: top;\n",
       "    }\n",
       "\n",
       "    .dataframe thead th {\n",
       "        text-align: right;\n",
       "    }\n",
       "</style>\n",
       "<table border=\"1\" class=\"dataframe\">\n",
       "  <thead>\n",
       "    <tr style=\"text-align: right;\">\n",
       "      <th></th>\n",
       "      <th>Model</th>\n",
       "      <th>Score</th>\n",
       "      <th>Param1</th>\n",
       "      <th>Param1_Val</th>\n",
       "      <th>Param2</th>\n",
       "      <th>Param2_Val</th>\n",
       "      <th>Param3</th>\n",
       "      <th>Param3_Val</th>\n",
       "      <th>Param4</th>\n",
       "      <th>Param4_Val</th>\n",
       "      <th>Param5</th>\n",
       "      <th>Param5_Val</th>\n",
       "    </tr>\n",
       "  </thead>\n",
       "  <tbody>\n",
       "    <tr>\n",
       "      <th>1</th>\n",
       "      <td>Logistic Regression, Standardized Data</td>\n",
       "      <td>0.792</td>\n",
       "      <td>c</td>\n",
       "      <td>0.1</td>\n",
       "      <td>class_weight</td>\n",
       "      <td>balanced</td>\n",
       "      <td>penalty</td>\n",
       "      <td>l2</td>\n",
       "      <td>solver</td>\n",
       "      <td>lbfgs</td>\n",
       "      <td></td>\n",
       "      <td></td>\n",
       "    </tr>\n",
       "  </tbody>\n",
       "</table>\n",
       "</div>"
      ],
      "text/plain": [
       "                                    Model  Score Param1 Param1_Val  \\\n",
       "1  Logistic Regression, Standardized Data  0.792      c        0.1   \n",
       "\n",
       "         Param2 Param2_Val   Param3 Param3_Val  Param4 Param4_Val Param5  \\\n",
       "1  class_weight   balanced  penalty         l2  solver      lbfgs          \n",
       "\n",
       "  Param5_Val  \n",
       "1             "
      ]
     },
     "execution_count": 31,
     "metadata": {},
     "output_type": "execute_result"
    }
   ],
   "source": [
    "tuning_df"
   ]
  },
  {
   "cell_type": "markdown",
   "id": "9fedffdb",
   "metadata": {},
   "source": [
    "### KNN, Standardized Data"
   ]
  },
  {
   "cell_type": "code",
   "execution_count": 32,
   "id": "46d17bff",
   "metadata": {},
   "outputs": [],
   "source": [
    "neighbors = np.array([2,3,4,5,6,7])\n",
    "p = np.array([1,2])\n",
    "algorithm = np.array(['auto', 'ball_tree', 'kd_tree', 'brute'])\n",
    "param_grid = dict(n_neighbors=neighbors, p=p, algorithm=algorithm)\n",
    "model = KNeighborsClassifier()\n",
    "grid = GridSearchCV(estimator=model, param_grid=param_grid, cv=20)"
   ]
  },
  {
   "cell_type": "code",
   "execution_count": 33,
   "id": "8a9bfd62",
   "metadata": {},
   "outputs": [],
   "source": [
    "grid.fit(X_train_std, y_train)\n",
    "\n",
    "model = \"KNN, Standardized Data\"\n",
    "score = round(grid.best_score_,3)\n",
    "param1 = \"n_neighbors\"\n",
    "param1_val = grid.best_estimator_.n_neighbors\n",
    "param2 = \"p\"\n",
    "param2_val = grid.best_estimator_.p\n",
    "param3 = \"algorithm\"\n",
    "param3_val = grid.best_estimator_.algorithm\n",
    "param4 = \"\"\n",
    "param4_val = \"\"\n",
    "param5 = \"\"\n",
    "param5_val = \"\"\n",
    "\n",
    "append_results_df(model,score,param1,param1_val,param2,param2_val,param3,param3_val,param4,param4_val,param5,param5_val)"
   ]
  },
  {
   "cell_type": "code",
   "execution_count": 34,
   "id": "3d831260",
   "metadata": {
    "scrolled": true
   },
   "outputs": [
    {
     "data": {
      "text/html": [
       "<div>\n",
       "<style scoped>\n",
       "    .dataframe tbody tr th:only-of-type {\n",
       "        vertical-align: middle;\n",
       "    }\n",
       "\n",
       "    .dataframe tbody tr th {\n",
       "        vertical-align: top;\n",
       "    }\n",
       "\n",
       "    .dataframe thead th {\n",
       "        text-align: right;\n",
       "    }\n",
       "</style>\n",
       "<table border=\"1\" class=\"dataframe\">\n",
       "  <thead>\n",
       "    <tr style=\"text-align: right;\">\n",
       "      <th></th>\n",
       "      <th>Model</th>\n",
       "      <th>Score</th>\n",
       "      <th>Param1</th>\n",
       "      <th>Param1_Val</th>\n",
       "      <th>Param2</th>\n",
       "      <th>Param2_Val</th>\n",
       "      <th>Param3</th>\n",
       "      <th>Param3_Val</th>\n",
       "      <th>Param4</th>\n",
       "      <th>Param4_Val</th>\n",
       "      <th>Param5</th>\n",
       "      <th>Param5_Val</th>\n",
       "    </tr>\n",
       "  </thead>\n",
       "  <tbody>\n",
       "    <tr>\n",
       "      <th>1</th>\n",
       "      <td>Logistic Regression, Standardized Data</td>\n",
       "      <td>0.792</td>\n",
       "      <td>c</td>\n",
       "      <td>0.1</td>\n",
       "      <td>class_weight</td>\n",
       "      <td>balanced</td>\n",
       "      <td>penalty</td>\n",
       "      <td>l2</td>\n",
       "      <td>solver</td>\n",
       "      <td>lbfgs</td>\n",
       "      <td></td>\n",
       "      <td></td>\n",
       "    </tr>\n",
       "    <tr>\n",
       "      <th>2</th>\n",
       "      <td>KNN, Standardized Data</td>\n",
       "      <td>0.812</td>\n",
       "      <td>n_neighbors</td>\n",
       "      <td>3</td>\n",
       "      <td>p</td>\n",
       "      <td>1</td>\n",
       "      <td>algorithm</td>\n",
       "      <td>auto</td>\n",
       "      <td></td>\n",
       "      <td></td>\n",
       "      <td></td>\n",
       "      <td></td>\n",
       "    </tr>\n",
       "  </tbody>\n",
       "</table>\n",
       "</div>"
      ],
      "text/plain": [
       "                                    Model  Score       Param1 Param1_Val  \\\n",
       "1  Logistic Regression, Standardized Data  0.792            c        0.1   \n",
       "2                  KNN, Standardized Data  0.812  n_neighbors          3   \n",
       "\n",
       "         Param2 Param2_Val     Param3 Param3_Val  Param4 Param4_Val Param5  \\\n",
       "1  class_weight   balanced    penalty         l2  solver      lbfgs          \n",
       "2             p          1  algorithm       auto                             \n",
       "\n",
       "  Param5_Val  \n",
       "1             \n",
       "2             "
      ]
     },
     "execution_count": 34,
     "metadata": {},
     "output_type": "execute_result"
    }
   ],
   "source": [
    "tuning_df"
   ]
  },
  {
   "cell_type": "markdown",
   "id": "07e7f8ac",
   "metadata": {},
   "source": [
    "### Adaboost, Unscaled Data"
   ]
  },
  {
   "cell_type": "code",
   "execution_count": 35,
   "id": "b19164d1",
   "metadata": {},
   "outputs": [],
   "source": [
    "LRs = np.array([1,0.1,0.01,0.001])\n",
    "n_est = np.array([10,20,30,40,50,60,70,80,90,100])\n",
    "param_grid = dict(learning_rate=LRs, n_estimators=n_est) \n",
    "model = AdaBoostClassifier()\n",
    "grid = GridSearchCV(estimator=model, param_grid=param_grid, cv=5)"
   ]
  },
  {
   "cell_type": "code",
   "execution_count": 36,
   "id": "402bcf8a",
   "metadata": {},
   "outputs": [],
   "source": [
    "grid.fit(X_train, y_train)\n",
    "\n",
    "model = \"Adaboost, Unscaled Data\"\n",
    "score = round(grid.best_score_,3)\n",
    "param1 = \"learning_rate\"\n",
    "param1_val = grid.best_estimator_.learning_rate\n",
    "param2 = \"n_estimators\"\n",
    "param2_val = grid.best_estimator_.n_estimators\n",
    "param3 = \"\"\n",
    "param3_val = \"\"\n",
    "param4 = \"\"\n",
    "param4_val = \"\"\n",
    "param5 = \"\"\n",
    "param5_val = \"\"\n",
    "\n",
    "append_results_df(model,score,param1,param1_val,param2,param2_val,param3,param3_val,param4,param4_val,param5,param5_val)"
   ]
  },
  {
   "cell_type": "code",
   "execution_count": 37,
   "id": "255cad42",
   "metadata": {},
   "outputs": [
    {
     "data": {
      "text/html": [
       "<div>\n",
       "<style scoped>\n",
       "    .dataframe tbody tr th:only-of-type {\n",
       "        vertical-align: middle;\n",
       "    }\n",
       "\n",
       "    .dataframe tbody tr th {\n",
       "        vertical-align: top;\n",
       "    }\n",
       "\n",
       "    .dataframe thead th {\n",
       "        text-align: right;\n",
       "    }\n",
       "</style>\n",
       "<table border=\"1\" class=\"dataframe\">\n",
       "  <thead>\n",
       "    <tr style=\"text-align: right;\">\n",
       "      <th></th>\n",
       "      <th>Model</th>\n",
       "      <th>Score</th>\n",
       "      <th>Param1</th>\n",
       "      <th>Param1_Val</th>\n",
       "      <th>Param2</th>\n",
       "      <th>Param2_Val</th>\n",
       "      <th>Param3</th>\n",
       "      <th>Param3_Val</th>\n",
       "      <th>Param4</th>\n",
       "      <th>Param4_Val</th>\n",
       "      <th>Param5</th>\n",
       "      <th>Param5_Val</th>\n",
       "    </tr>\n",
       "  </thead>\n",
       "  <tbody>\n",
       "    <tr>\n",
       "      <th>1</th>\n",
       "      <td>Logistic Regression, Standardized Data</td>\n",
       "      <td>0.792</td>\n",
       "      <td>c</td>\n",
       "      <td>0.1</td>\n",
       "      <td>class_weight</td>\n",
       "      <td>balanced</td>\n",
       "      <td>penalty</td>\n",
       "      <td>l2</td>\n",
       "      <td>solver</td>\n",
       "      <td>lbfgs</td>\n",
       "      <td></td>\n",
       "      <td></td>\n",
       "    </tr>\n",
       "    <tr>\n",
       "      <th>2</th>\n",
       "      <td>KNN, Standardized Data</td>\n",
       "      <td>0.812</td>\n",
       "      <td>n_neighbors</td>\n",
       "      <td>3</td>\n",
       "      <td>p</td>\n",
       "      <td>1</td>\n",
       "      <td>algorithm</td>\n",
       "      <td>auto</td>\n",
       "      <td></td>\n",
       "      <td></td>\n",
       "      <td></td>\n",
       "      <td></td>\n",
       "    </tr>\n",
       "    <tr>\n",
       "      <th>3</th>\n",
       "      <td>Adaboost, Unscaled Data</td>\n",
       "      <td>0.819</td>\n",
       "      <td>learning_rate</td>\n",
       "      <td>1.0</td>\n",
       "      <td>n_estimators</td>\n",
       "      <td>50</td>\n",
       "      <td></td>\n",
       "      <td></td>\n",
       "      <td></td>\n",
       "      <td></td>\n",
       "      <td></td>\n",
       "      <td></td>\n",
       "    </tr>\n",
       "  </tbody>\n",
       "</table>\n",
       "</div>"
      ],
      "text/plain": [
       "                                    Model  Score         Param1 Param1_Val  \\\n",
       "1  Logistic Regression, Standardized Data  0.792              c        0.1   \n",
       "2                  KNN, Standardized Data  0.812    n_neighbors          3   \n",
       "3                 Adaboost, Unscaled Data  0.819  learning_rate        1.0   \n",
       "\n",
       "         Param2 Param2_Val     Param3 Param3_Val  Param4 Param4_Val Param5  \\\n",
       "1  class_weight   balanced    penalty         l2  solver      lbfgs          \n",
       "2             p          1  algorithm       auto                             \n",
       "3  n_estimators         50                                                   \n",
       "\n",
       "  Param5_Val  \n",
       "1             \n",
       "2             \n",
       "3             "
      ]
     },
     "execution_count": 37,
     "metadata": {},
     "output_type": "execute_result"
    }
   ],
   "source": [
    "tuning_df"
   ]
  },
  {
   "cell_type": "markdown",
   "id": "7f32ebe3",
   "metadata": {},
   "source": [
    "### Extra Trees, Unscaled Data"
   ]
  },
  {
   "cell_type": "code",
   "execution_count": 38,
   "id": "a17193a2",
   "metadata": {},
   "outputs": [],
   "source": [
    "n_est = np.array([25,50,75,100,125,150])\n",
    "max_depth = np.array([2,3,4,5,6,7,8,9])\n",
    "param_grid = dict(n_estimators=n_est, max_depth=max_depth)\n",
    "model = ExtraTreesClassifier()\n",
    "grid = GridSearchCV(estimator=model, param_grid=param_grid, cv=5)"
   ]
  },
  {
   "cell_type": "code",
   "execution_count": 39,
   "id": "44b4a9fd",
   "metadata": {},
   "outputs": [],
   "source": [
    "grid.fit(X_train, y_train)\n",
    "\n",
    "model = \"ExtraTrees, Unscaled Data\"\n",
    "score = round(grid.best_score_,3)\n",
    "param1 = \"n_estimators\"\n",
    "param1_val = grid.best_estimator_.n_estimators\n",
    "param2 = \"max_depth\"\n",
    "param2_val = grid.best_estimator_.max_depth\n",
    "param3 = \"\"\n",
    "param3_val = \"\"\n",
    "param4 = \"\"\n",
    "param4_val = \"\"\n",
    "param5 = \"\"\n",
    "param5_val = \"\"\n",
    "\n",
    "append_results_df(model,score,param1,param1_val,param2,param2_val,param3,param3_val,param4,param4_val,param5,param5_val)"
   ]
  },
  {
   "cell_type": "code",
   "execution_count": 40,
   "id": "5357d666",
   "metadata": {
    "scrolled": true
   },
   "outputs": [
    {
     "data": {
      "text/html": [
       "<div>\n",
       "<style scoped>\n",
       "    .dataframe tbody tr th:only-of-type {\n",
       "        vertical-align: middle;\n",
       "    }\n",
       "\n",
       "    .dataframe tbody tr th {\n",
       "        vertical-align: top;\n",
       "    }\n",
       "\n",
       "    .dataframe thead th {\n",
       "        text-align: right;\n",
       "    }\n",
       "</style>\n",
       "<table border=\"1\" class=\"dataframe\">\n",
       "  <thead>\n",
       "    <tr style=\"text-align: right;\">\n",
       "      <th></th>\n",
       "      <th>Model</th>\n",
       "      <th>Score</th>\n",
       "      <th>Param1</th>\n",
       "      <th>Param1_Val</th>\n",
       "      <th>Param2</th>\n",
       "      <th>Param2_Val</th>\n",
       "      <th>Param3</th>\n",
       "      <th>Param3_Val</th>\n",
       "      <th>Param4</th>\n",
       "      <th>Param4_Val</th>\n",
       "      <th>Param5</th>\n",
       "      <th>Param5_Val</th>\n",
       "    </tr>\n",
       "  </thead>\n",
       "  <tbody>\n",
       "    <tr>\n",
       "      <th>1</th>\n",
       "      <td>Logistic Regression, Standardized Data</td>\n",
       "      <td>0.792</td>\n",
       "      <td>c</td>\n",
       "      <td>0.1</td>\n",
       "      <td>class_weight</td>\n",
       "      <td>balanced</td>\n",
       "      <td>penalty</td>\n",
       "      <td>l2</td>\n",
       "      <td>solver</td>\n",
       "      <td>lbfgs</td>\n",
       "      <td></td>\n",
       "      <td></td>\n",
       "    </tr>\n",
       "    <tr>\n",
       "      <th>2</th>\n",
       "      <td>KNN, Standardized Data</td>\n",
       "      <td>0.812</td>\n",
       "      <td>n_neighbors</td>\n",
       "      <td>3</td>\n",
       "      <td>p</td>\n",
       "      <td>1</td>\n",
       "      <td>algorithm</td>\n",
       "      <td>auto</td>\n",
       "      <td></td>\n",
       "      <td></td>\n",
       "      <td></td>\n",
       "      <td></td>\n",
       "    </tr>\n",
       "    <tr>\n",
       "      <th>3</th>\n",
       "      <td>Adaboost, Unscaled Data</td>\n",
       "      <td>0.819</td>\n",
       "      <td>learning_rate</td>\n",
       "      <td>1.0</td>\n",
       "      <td>n_estimators</td>\n",
       "      <td>50</td>\n",
       "      <td></td>\n",
       "      <td></td>\n",
       "      <td></td>\n",
       "      <td></td>\n",
       "      <td></td>\n",
       "      <td></td>\n",
       "    </tr>\n",
       "    <tr>\n",
       "      <th>4</th>\n",
       "      <td>ExtraTrees, Unscaled Data</td>\n",
       "      <td>0.874</td>\n",
       "      <td>n_estimators</td>\n",
       "      <td>125</td>\n",
       "      <td>max_depth</td>\n",
       "      <td>8</td>\n",
       "      <td></td>\n",
       "      <td></td>\n",
       "      <td></td>\n",
       "      <td></td>\n",
       "      <td></td>\n",
       "      <td></td>\n",
       "    </tr>\n",
       "  </tbody>\n",
       "</table>\n",
       "</div>"
      ],
      "text/plain": [
       "                                    Model  Score         Param1 Param1_Val  \\\n",
       "1  Logistic Regression, Standardized Data  0.792              c        0.1   \n",
       "2                  KNN, Standardized Data  0.812    n_neighbors          3   \n",
       "3                 Adaboost, Unscaled Data  0.819  learning_rate        1.0   \n",
       "4               ExtraTrees, Unscaled Data  0.874   n_estimators        125   \n",
       "\n",
       "         Param2 Param2_Val     Param3 Param3_Val  Param4 Param4_Val Param5  \\\n",
       "1  class_weight   balanced    penalty         l2  solver      lbfgs          \n",
       "2             p          1  algorithm       auto                             \n",
       "3  n_estimators         50                                                   \n",
       "4     max_depth          8                                                   \n",
       "\n",
       "  Param5_Val  \n",
       "1             \n",
       "2             \n",
       "3             \n",
       "4             "
      ]
     },
     "execution_count": 40,
     "metadata": {},
     "output_type": "execute_result"
    }
   ],
   "source": [
    "tuning_df"
   ]
  },
  {
   "cell_type": "markdown",
   "id": "4373a5bf",
   "metadata": {},
   "source": [
    "### Gradient Boosting Machine, Unscaled Data"
   ]
  },
  {
   "cell_type": "code",
   "execution_count": 41,
   "id": "9a85b292",
   "metadata": {},
   "outputs": [],
   "source": [
    "LRs = np.array([1,0.1,0.01,0.001])\n",
    "n_est = np.array([90,100,110,120])\n",
    "loss = np.array(['deviance', 'exponential'])\n",
    "min_samples_leaf = np.array([1,2,3])\n",
    "max_depth = np.array([2,3,4,5])\n",
    "\n",
    "param_grid = dict(learning_rate=LRs, n_estimators=n_est, loss=loss, min_samples_leaf=min_samples_leaf, max_depth=max_depth) \n",
    "model = GradientBoostingClassifier()\n",
    "grid = GridSearchCV(estimator=model, param_grid=param_grid, cv=5)"
   ]
  },
  {
   "cell_type": "code",
   "execution_count": 42,
   "id": "24d491cc",
   "metadata": {},
   "outputs": [],
   "source": [
    "grid.fit(X_train_std, y_train)\n",
    "\n",
    "model = \"GBM, Unscaled Data\"\n",
    "score = round(grid.best_score_,3)\n",
    "param1 = \"learning_rate\"\n",
    "param1_val = grid.best_estimator_.learning_rate\n",
    "param2 = \"n_estimators\"\n",
    "param2_val = grid.best_estimator_.n_estimators\n",
    "param3 = \"loss\"\n",
    "param3_val = grid.best_estimator_.loss\n",
    "param4 = \"min_samples_leaf\"\n",
    "param4_val = grid.best_estimator_.min_samples_leaf\n",
    "param5 = \"max_depth\"\n",
    "param5_val = grid.best_estimator_.max_depth\n",
    "\n",
    "append_results_df(model,score,param1,param1_val,param2,param2_val,param3,param3_val,param4,param4_val,param5,param5_val)"
   ]
  },
  {
   "cell_type": "code",
   "execution_count": 43,
   "id": "2aa2623b",
   "metadata": {},
   "outputs": [
    {
     "data": {
      "text/html": [
       "<div>\n",
       "<style scoped>\n",
       "    .dataframe tbody tr th:only-of-type {\n",
       "        vertical-align: middle;\n",
       "    }\n",
       "\n",
       "    .dataframe tbody tr th {\n",
       "        vertical-align: top;\n",
       "    }\n",
       "\n",
       "    .dataframe thead th {\n",
       "        text-align: right;\n",
       "    }\n",
       "</style>\n",
       "<table border=\"1\" class=\"dataframe\">\n",
       "  <thead>\n",
       "    <tr style=\"text-align: right;\">\n",
       "      <th></th>\n",
       "      <th>Model</th>\n",
       "      <th>Score</th>\n",
       "      <th>Param1</th>\n",
       "      <th>Param1_Val</th>\n",
       "      <th>Param2</th>\n",
       "      <th>Param2_Val</th>\n",
       "      <th>Param3</th>\n",
       "      <th>Param3_Val</th>\n",
       "      <th>Param4</th>\n",
       "      <th>Param4_Val</th>\n",
       "      <th>Param5</th>\n",
       "      <th>Param5_Val</th>\n",
       "    </tr>\n",
       "  </thead>\n",
       "  <tbody>\n",
       "    <tr>\n",
       "      <th>1</th>\n",
       "      <td>Logistic Regression, Standardized Data</td>\n",
       "      <td>0.792</td>\n",
       "      <td>c</td>\n",
       "      <td>0.1</td>\n",
       "      <td>class_weight</td>\n",
       "      <td>balanced</td>\n",
       "      <td>penalty</td>\n",
       "      <td>l2</td>\n",
       "      <td>solver</td>\n",
       "      <td>lbfgs</td>\n",
       "      <td></td>\n",
       "      <td></td>\n",
       "    </tr>\n",
       "    <tr>\n",
       "      <th>2</th>\n",
       "      <td>KNN, Standardized Data</td>\n",
       "      <td>0.812</td>\n",
       "      <td>n_neighbors</td>\n",
       "      <td>3</td>\n",
       "      <td>p</td>\n",
       "      <td>1</td>\n",
       "      <td>algorithm</td>\n",
       "      <td>auto</td>\n",
       "      <td></td>\n",
       "      <td></td>\n",
       "      <td></td>\n",
       "      <td></td>\n",
       "    </tr>\n",
       "    <tr>\n",
       "      <th>3</th>\n",
       "      <td>Adaboost, Unscaled Data</td>\n",
       "      <td>0.819</td>\n",
       "      <td>learning_rate</td>\n",
       "      <td>1.0</td>\n",
       "      <td>n_estimators</td>\n",
       "      <td>50</td>\n",
       "      <td></td>\n",
       "      <td></td>\n",
       "      <td></td>\n",
       "      <td></td>\n",
       "      <td></td>\n",
       "      <td></td>\n",
       "    </tr>\n",
       "    <tr>\n",
       "      <th>4</th>\n",
       "      <td>ExtraTrees, Unscaled Data</td>\n",
       "      <td>0.874</td>\n",
       "      <td>n_estimators</td>\n",
       "      <td>125</td>\n",
       "      <td>max_depth</td>\n",
       "      <td>8</td>\n",
       "      <td></td>\n",
       "      <td></td>\n",
       "      <td></td>\n",
       "      <td></td>\n",
       "      <td></td>\n",
       "      <td></td>\n",
       "    </tr>\n",
       "    <tr>\n",
       "      <th>5</th>\n",
       "      <td>GBM, Unscaled Data</td>\n",
       "      <td>0.861</td>\n",
       "      <td>learning_rate</td>\n",
       "      <td>1.0</td>\n",
       "      <td>n_estimators</td>\n",
       "      <td>110</td>\n",
       "      <td>loss</td>\n",
       "      <td>exponential</td>\n",
       "      <td>min_samples_leaf</td>\n",
       "      <td>1</td>\n",
       "      <td>max_depth</td>\n",
       "      <td>3</td>\n",
       "    </tr>\n",
       "  </tbody>\n",
       "</table>\n",
       "</div>"
      ],
      "text/plain": [
       "                                    Model  Score         Param1 Param1_Val  \\\n",
       "1  Logistic Regression, Standardized Data  0.792              c        0.1   \n",
       "2                  KNN, Standardized Data  0.812    n_neighbors          3   \n",
       "3                 Adaboost, Unscaled Data  0.819  learning_rate        1.0   \n",
       "4               ExtraTrees, Unscaled Data  0.874   n_estimators        125   \n",
       "5                      GBM, Unscaled Data  0.861  learning_rate        1.0   \n",
       "\n",
       "         Param2 Param2_Val     Param3   Param3_Val            Param4  \\\n",
       "1  class_weight   balanced    penalty           l2            solver   \n",
       "2             p          1  algorithm         auto                     \n",
       "3  n_estimators         50                                             \n",
       "4     max_depth          8                                             \n",
       "5  n_estimators        110       loss  exponential  min_samples_leaf   \n",
       "\n",
       "  Param4_Val     Param5 Param5_Val  \n",
       "1      lbfgs                        \n",
       "2                                   \n",
       "3                                   \n",
       "4                                   \n",
       "5          1  max_depth          3  "
      ]
     },
     "execution_count": 43,
     "metadata": {},
     "output_type": "execute_result"
    }
   ],
   "source": [
    "tuning_df"
   ]
  },
  {
   "cell_type": "markdown",
   "id": "21c6b187",
   "metadata": {},
   "source": [
    "### Random Forest, Unscaled Data"
   ]
  },
  {
   "cell_type": "code",
   "execution_count": 44,
   "id": "8c575d5d",
   "metadata": {},
   "outputs": [],
   "source": [
    "n_est = np.array([10,20,30,40,50,60])\n",
    "criterion = np.array(['gini', 'entropy'])\n",
    "max_depth = np.array([10,20,30,40,50,60,70])\n",
    "max_leaf_nodes = np.array([280,290,300,310,320])\n",
    "\n",
    "param_grid = dict(n_estimators=n_est, criterion=criterion, max_depth=max_depth, max_leaf_nodes=max_leaf_nodes)\n",
    "model = RandomForestClassifier()\n",
    "grid = GridSearchCV(estimator=model, param_grid=param_grid, cv=5)"
   ]
  },
  {
   "cell_type": "code",
   "execution_count": 45,
   "id": "9bbc3f49",
   "metadata": {},
   "outputs": [],
   "source": [
    "grid.fit(X_train, y_train)\n",
    "\n",
    "model = \"Random Forest, Unscaled Data\"\n",
    "score = round(grid.best_score_,3)\n",
    "param1 = \"n_estimators\"\n",
    "param1_val = grid.best_estimator_.n_estimators\n",
    "param2 = \"criterion\"\n",
    "param2_val = grid.best_estimator_.criterion\n",
    "param3 = \"max_depth\"\n",
    "param3_val = grid.best_estimator_.max_depth\n",
    "param4 = \"max_leaf_nodes\"\n",
    "param4_val = grid.best_estimator_.max_leaf_nodes\n",
    "param5 = \"\"\n",
    "param5_val = \"\"\n",
    "\n",
    "append_results_df(model,score,param1,param1_val,param2,param2_val,param3,param3_val,param4,param4_val,param5,param5_val)"
   ]
  },
  {
   "cell_type": "code",
   "execution_count": 46,
   "id": "4ad28f07",
   "metadata": {},
   "outputs": [
    {
     "data": {
      "text/html": [
       "<div>\n",
       "<style scoped>\n",
       "    .dataframe tbody tr th:only-of-type {\n",
       "        vertical-align: middle;\n",
       "    }\n",
       "\n",
       "    .dataframe tbody tr th {\n",
       "        vertical-align: top;\n",
       "    }\n",
       "\n",
       "    .dataframe thead th {\n",
       "        text-align: right;\n",
       "    }\n",
       "</style>\n",
       "<table border=\"1\" class=\"dataframe\">\n",
       "  <thead>\n",
       "    <tr style=\"text-align: right;\">\n",
       "      <th></th>\n",
       "      <th>Model</th>\n",
       "      <th>Score</th>\n",
       "      <th>Param1</th>\n",
       "      <th>Param1_Val</th>\n",
       "      <th>Param2</th>\n",
       "      <th>Param2_Val</th>\n",
       "      <th>Param3</th>\n",
       "      <th>Param3_Val</th>\n",
       "      <th>Param4</th>\n",
       "      <th>Param4_Val</th>\n",
       "      <th>Param5</th>\n",
       "      <th>Param5_Val</th>\n",
       "    </tr>\n",
       "  </thead>\n",
       "  <tbody>\n",
       "    <tr>\n",
       "      <th>1</th>\n",
       "      <td>Logistic Regression, Standardized Data</td>\n",
       "      <td>0.792</td>\n",
       "      <td>c</td>\n",
       "      <td>0.1</td>\n",
       "      <td>class_weight</td>\n",
       "      <td>balanced</td>\n",
       "      <td>penalty</td>\n",
       "      <td>l2</td>\n",
       "      <td>solver</td>\n",
       "      <td>lbfgs</td>\n",
       "      <td></td>\n",
       "      <td></td>\n",
       "    </tr>\n",
       "    <tr>\n",
       "      <th>2</th>\n",
       "      <td>KNN, Standardized Data</td>\n",
       "      <td>0.812</td>\n",
       "      <td>n_neighbors</td>\n",
       "      <td>3</td>\n",
       "      <td>p</td>\n",
       "      <td>1</td>\n",
       "      <td>algorithm</td>\n",
       "      <td>auto</td>\n",
       "      <td></td>\n",
       "      <td></td>\n",
       "      <td></td>\n",
       "      <td></td>\n",
       "    </tr>\n",
       "    <tr>\n",
       "      <th>3</th>\n",
       "      <td>Adaboost, Unscaled Data</td>\n",
       "      <td>0.819</td>\n",
       "      <td>learning_rate</td>\n",
       "      <td>1.0</td>\n",
       "      <td>n_estimators</td>\n",
       "      <td>50</td>\n",
       "      <td></td>\n",
       "      <td></td>\n",
       "      <td></td>\n",
       "      <td></td>\n",
       "      <td></td>\n",
       "      <td></td>\n",
       "    </tr>\n",
       "    <tr>\n",
       "      <th>4</th>\n",
       "      <td>ExtraTrees, Unscaled Data</td>\n",
       "      <td>0.874</td>\n",
       "      <td>n_estimators</td>\n",
       "      <td>125</td>\n",
       "      <td>max_depth</td>\n",
       "      <td>8</td>\n",
       "      <td></td>\n",
       "      <td></td>\n",
       "      <td></td>\n",
       "      <td></td>\n",
       "      <td></td>\n",
       "      <td></td>\n",
       "    </tr>\n",
       "    <tr>\n",
       "      <th>5</th>\n",
       "      <td>GBM, Unscaled Data</td>\n",
       "      <td>0.861</td>\n",
       "      <td>learning_rate</td>\n",
       "      <td>1.0</td>\n",
       "      <td>n_estimators</td>\n",
       "      <td>110</td>\n",
       "      <td>loss</td>\n",
       "      <td>exponential</td>\n",
       "      <td>min_samples_leaf</td>\n",
       "      <td>1</td>\n",
       "      <td>max_depth</td>\n",
       "      <td>3</td>\n",
       "    </tr>\n",
       "    <tr>\n",
       "      <th>6</th>\n",
       "      <td>Random Forest, Unscaled Data</td>\n",
       "      <td>0.85</td>\n",
       "      <td>n_estimators</td>\n",
       "      <td>30</td>\n",
       "      <td>criterion</td>\n",
       "      <td>entropy</td>\n",
       "      <td>max_depth</td>\n",
       "      <td>20</td>\n",
       "      <td>max_leaf_nodes</td>\n",
       "      <td>280</td>\n",
       "      <td></td>\n",
       "      <td></td>\n",
       "    </tr>\n",
       "  </tbody>\n",
       "</table>\n",
       "</div>"
      ],
      "text/plain": [
       "                                    Model  Score         Param1 Param1_Val  \\\n",
       "1  Logistic Regression, Standardized Data  0.792              c        0.1   \n",
       "2                  KNN, Standardized Data  0.812    n_neighbors          3   \n",
       "3                 Adaboost, Unscaled Data  0.819  learning_rate        1.0   \n",
       "4               ExtraTrees, Unscaled Data  0.874   n_estimators        125   \n",
       "5                      GBM, Unscaled Data  0.861  learning_rate        1.0   \n",
       "6            Random Forest, Unscaled Data   0.85   n_estimators         30   \n",
       "\n",
       "         Param2 Param2_Val     Param3   Param3_Val            Param4  \\\n",
       "1  class_weight   balanced    penalty           l2            solver   \n",
       "2             p          1  algorithm         auto                     \n",
       "3  n_estimators         50                                             \n",
       "4     max_depth          8                                             \n",
       "5  n_estimators        110       loss  exponential  min_samples_leaf   \n",
       "6     criterion    entropy  max_depth           20    max_leaf_nodes   \n",
       "\n",
       "  Param4_Val     Param5 Param5_Val  \n",
       "1      lbfgs                        \n",
       "2                                   \n",
       "3                                   \n",
       "4                                   \n",
       "5          1  max_depth          3  \n",
       "6        280                        "
      ]
     },
     "execution_count": 46,
     "metadata": {},
     "output_type": "execute_result"
    }
   ],
   "source": [
    "tuning_df"
   ]
  },
  {
   "cell_type": "markdown",
   "id": "a77b8d64",
   "metadata": {},
   "source": [
    "### XGBoost, Standardized Data"
   ]
  },
  {
   "cell_type": "code",
   "execution_count": 47,
   "id": "955c9717",
   "metadata": {},
   "outputs": [],
   "source": [
    "n_est = np.array([5,10,20,30,40,50,60])\n",
    "max_depth = np.array([1,2,3])\n",
    "reg_alpha = np.array([10,1,.1,.01,.001])\n",
    "reg_lambda = np.array([10,1,.1,.01,.001])\n",
    "\n",
    "param_grid = dict(n_estimators=n_est, max_depth=max_depth, reg_alpha=reg_alpha, reg_lambda=reg_lambda)\n",
    "model = XGBClassifier()\n",
    "grid = GridSearchCV(estimator=model, param_grid=param_grid, cv=5)"
   ]
  },
  {
   "cell_type": "code",
   "execution_count": 48,
   "id": "f03c517a",
   "metadata": {},
   "outputs": [],
   "source": [
    "grid.fit(X_train_std, y_train)\n",
    "\n",
    "model = \"XGBoost, Standardized Data\"\n",
    "score = round(grid.best_score_,3)\n",
    "param1 = \"n_estimators\"\n",
    "param1_val = grid.best_estimator_.n_estimators\n",
    "param2 = \"max_depth\"\n",
    "param2_val = grid.best_estimator_.max_depth\n",
    "param3 = \"reg_alpha\"\n",
    "param3_val = grid.best_estimator_.reg_alpha\n",
    "param4 = \"reg_lambda\"\n",
    "param4_val = grid.best_estimator_.reg_lambda\n",
    "param5 = \"\"\n",
    "param5_val = \"\"\n",
    "\n",
    "append_results_df(model,score,param1,param1_val,param2,param2_val,param3,param3_val,param4,param4_val,param5,param5_val)"
   ]
  },
  {
   "cell_type": "code",
   "execution_count": 49,
   "id": "b782bbc8",
   "metadata": {},
   "outputs": [
    {
     "data": {
      "text/html": [
       "<div>\n",
       "<style scoped>\n",
       "    .dataframe tbody tr th:only-of-type {\n",
       "        vertical-align: middle;\n",
       "    }\n",
       "\n",
       "    .dataframe tbody tr th {\n",
       "        vertical-align: top;\n",
       "    }\n",
       "\n",
       "    .dataframe thead th {\n",
       "        text-align: right;\n",
       "    }\n",
       "</style>\n",
       "<table border=\"1\" class=\"dataframe\">\n",
       "  <thead>\n",
       "    <tr style=\"text-align: right;\">\n",
       "      <th></th>\n",
       "      <th>Model</th>\n",
       "      <th>Score</th>\n",
       "      <th>Param1</th>\n",
       "      <th>Param1_Val</th>\n",
       "      <th>Param2</th>\n",
       "      <th>Param2_Val</th>\n",
       "      <th>Param3</th>\n",
       "      <th>Param3_Val</th>\n",
       "      <th>Param4</th>\n",
       "      <th>Param4_Val</th>\n",
       "      <th>Param5</th>\n",
       "      <th>Param5_Val</th>\n",
       "    </tr>\n",
       "  </thead>\n",
       "  <tbody>\n",
       "    <tr>\n",
       "      <th>1</th>\n",
       "      <td>Logistic Regression, Standardized Data</td>\n",
       "      <td>0.792</td>\n",
       "      <td>c</td>\n",
       "      <td>0.1</td>\n",
       "      <td>class_weight</td>\n",
       "      <td>balanced</td>\n",
       "      <td>penalty</td>\n",
       "      <td>l2</td>\n",
       "      <td>solver</td>\n",
       "      <td>lbfgs</td>\n",
       "      <td></td>\n",
       "      <td></td>\n",
       "    </tr>\n",
       "    <tr>\n",
       "      <th>2</th>\n",
       "      <td>KNN, Standardized Data</td>\n",
       "      <td>0.812</td>\n",
       "      <td>n_neighbors</td>\n",
       "      <td>3</td>\n",
       "      <td>p</td>\n",
       "      <td>1</td>\n",
       "      <td>algorithm</td>\n",
       "      <td>auto</td>\n",
       "      <td></td>\n",
       "      <td></td>\n",
       "      <td></td>\n",
       "      <td></td>\n",
       "    </tr>\n",
       "    <tr>\n",
       "      <th>3</th>\n",
       "      <td>Adaboost, Unscaled Data</td>\n",
       "      <td>0.819</td>\n",
       "      <td>learning_rate</td>\n",
       "      <td>1.0</td>\n",
       "      <td>n_estimators</td>\n",
       "      <td>50</td>\n",
       "      <td></td>\n",
       "      <td></td>\n",
       "      <td></td>\n",
       "      <td></td>\n",
       "      <td></td>\n",
       "      <td></td>\n",
       "    </tr>\n",
       "    <tr>\n",
       "      <th>4</th>\n",
       "      <td>ExtraTrees, Unscaled Data</td>\n",
       "      <td>0.874</td>\n",
       "      <td>n_estimators</td>\n",
       "      <td>125</td>\n",
       "      <td>max_depth</td>\n",
       "      <td>8</td>\n",
       "      <td></td>\n",
       "      <td></td>\n",
       "      <td></td>\n",
       "      <td></td>\n",
       "      <td></td>\n",
       "      <td></td>\n",
       "    </tr>\n",
       "    <tr>\n",
       "      <th>5</th>\n",
       "      <td>GBM, Unscaled Data</td>\n",
       "      <td>0.861</td>\n",
       "      <td>learning_rate</td>\n",
       "      <td>1.0</td>\n",
       "      <td>n_estimators</td>\n",
       "      <td>110</td>\n",
       "      <td>loss</td>\n",
       "      <td>exponential</td>\n",
       "      <td>min_samples_leaf</td>\n",
       "      <td>1</td>\n",
       "      <td>max_depth</td>\n",
       "      <td>3</td>\n",
       "    </tr>\n",
       "    <tr>\n",
       "      <th>6</th>\n",
       "      <td>Random Forest, Unscaled Data</td>\n",
       "      <td>0.85</td>\n",
       "      <td>n_estimators</td>\n",
       "      <td>30</td>\n",
       "      <td>criterion</td>\n",
       "      <td>entropy</td>\n",
       "      <td>max_depth</td>\n",
       "      <td>20</td>\n",
       "      <td>max_leaf_nodes</td>\n",
       "      <td>280</td>\n",
       "      <td></td>\n",
       "      <td></td>\n",
       "    </tr>\n",
       "    <tr>\n",
       "      <th>7</th>\n",
       "      <td>XGBoost, Standardized Data</td>\n",
       "      <td>0.85</td>\n",
       "      <td>n_estimators</td>\n",
       "      <td>50</td>\n",
       "      <td>max_depth</td>\n",
       "      <td>2</td>\n",
       "      <td>reg_alpha</td>\n",
       "      <td>0.01</td>\n",
       "      <td>reg_lambda</td>\n",
       "      <td>0.01</td>\n",
       "      <td></td>\n",
       "      <td></td>\n",
       "    </tr>\n",
       "  </tbody>\n",
       "</table>\n",
       "</div>"
      ],
      "text/plain": [
       "                                    Model  Score         Param1 Param1_Val  \\\n",
       "1  Logistic Regression, Standardized Data  0.792              c        0.1   \n",
       "2                  KNN, Standardized Data  0.812    n_neighbors          3   \n",
       "3                 Adaboost, Unscaled Data  0.819  learning_rate        1.0   \n",
       "4               ExtraTrees, Unscaled Data  0.874   n_estimators        125   \n",
       "5                      GBM, Unscaled Data  0.861  learning_rate        1.0   \n",
       "6            Random Forest, Unscaled Data   0.85   n_estimators         30   \n",
       "7              XGBoost, Standardized Data   0.85   n_estimators         50   \n",
       "\n",
       "         Param2 Param2_Val     Param3   Param3_Val            Param4  \\\n",
       "1  class_weight   balanced    penalty           l2            solver   \n",
       "2             p          1  algorithm         auto                     \n",
       "3  n_estimators         50                                             \n",
       "4     max_depth          8                                             \n",
       "5  n_estimators        110       loss  exponential  min_samples_leaf   \n",
       "6     criterion    entropy  max_depth           20    max_leaf_nodes   \n",
       "7     max_depth          2  reg_alpha         0.01        reg_lambda   \n",
       "\n",
       "  Param4_Val     Param5 Param5_Val  \n",
       "1      lbfgs                        \n",
       "2                                   \n",
       "3                                   \n",
       "4                                   \n",
       "5          1  max_depth          3  \n",
       "6        280                        \n",
       "7       0.01                        "
      ]
     },
     "execution_count": 49,
     "metadata": {},
     "output_type": "execute_result"
    }
   ],
   "source": [
    "tuning_df"
   ]
  },
  {
   "cell_type": "markdown",
   "id": "1fad5813",
   "metadata": {},
   "source": [
    "# Performance Upon Test Set"
   ]
  },
  {
   "cell_type": "code",
   "execution_count": 88,
   "id": "b29bcc6b",
   "metadata": {},
   "outputs": [],
   "source": [
    "from sklearn.metrics import confusion_matrix\n",
    "from sklearn.metrics import accuracy_score"
   ]
  },
  {
   "cell_type": "code",
   "execution_count": 89,
   "id": "8516de38",
   "metadata": {},
   "outputs": [],
   "source": [
    "testing_df = pd.DataFrame(columns = ('Model', 'Score'))\n",
    "\n",
    "def append_testing_df(model, score):\n",
    "    new_row = len(testing_df) + 1\n",
    "    testing_df.loc[new_row,'Model'] = model\n",
    "    testing_df.loc[new_row,'Score'] = score"
   ]
  },
  {
   "cell_type": "markdown",
   "id": "6322bd7e",
   "metadata": {},
   "source": [
    "### Logistic Regression, Standardized Data"
   ]
  },
  {
   "cell_type": "code",
   "execution_count": 90,
   "id": "4a51ecaa",
   "metadata": {
    "scrolled": true
   },
   "outputs": [
    {
     "data": {
      "text/html": [
       "<div>\n",
       "<style scoped>\n",
       "    .dataframe tbody tr th:only-of-type {\n",
       "        vertical-align: middle;\n",
       "    }\n",
       "\n",
       "    .dataframe tbody tr th {\n",
       "        vertical-align: top;\n",
       "    }\n",
       "\n",
       "    .dataframe thead th {\n",
       "        text-align: right;\n",
       "    }\n",
       "</style>\n",
       "<table border=\"1\" class=\"dataframe\">\n",
       "  <thead>\n",
       "    <tr style=\"text-align: right;\">\n",
       "      <th></th>\n",
       "      <th>Model</th>\n",
       "      <th>Score</th>\n",
       "      <th>Param1</th>\n",
       "      <th>Param1_Val</th>\n",
       "      <th>Param2</th>\n",
       "      <th>Param2_Val</th>\n",
       "      <th>Param3</th>\n",
       "      <th>Param3_Val</th>\n",
       "      <th>Param4</th>\n",
       "      <th>Param4_Val</th>\n",
       "      <th>Param5</th>\n",
       "      <th>Param5_Val</th>\n",
       "    </tr>\n",
       "  </thead>\n",
       "  <tbody>\n",
       "    <tr>\n",
       "      <th>1</th>\n",
       "      <td>Logistic Regression, Standardized Data</td>\n",
       "      <td>0.792</td>\n",
       "      <td>c</td>\n",
       "      <td>0.1</td>\n",
       "      <td>class_weight</td>\n",
       "      <td>balanced</td>\n",
       "      <td>penalty</td>\n",
       "      <td>l2</td>\n",
       "      <td>solver</td>\n",
       "      <td>lbfgs</td>\n",
       "      <td></td>\n",
       "      <td></td>\n",
       "    </tr>\n",
       "  </tbody>\n",
       "</table>\n",
       "</div>"
      ],
      "text/plain": [
       "                                    Model  Score Param1 Param1_Val  \\\n",
       "1  Logistic Regression, Standardized Data  0.792      c        0.1   \n",
       "\n",
       "         Param2 Param2_Val   Param3 Param3_Val  Param4 Param4_Val Param5  \\\n",
       "1  class_weight   balanced  penalty         l2  solver      lbfgs          \n",
       "\n",
       "  Param5_Val  \n",
       "1             "
      ]
     },
     "execution_count": 90,
     "metadata": {},
     "output_type": "execute_result"
    }
   ],
   "source": [
    "LR = tuning_df[tuning_df['Model'] == 'Logistic Regression, Standardized Data']\n",
    "LR"
   ]
  },
  {
   "cell_type": "code",
   "execution_count": 91,
   "id": "3b743005",
   "metadata": {},
   "outputs": [],
   "source": [
    "LR_c = LR['Param1_Val'][1]\n",
    "LR_class_weight = LR['Param2_Val'][1]\n",
    "LR_penalty = LR['Param3_Val'][1]\n",
    "LR_solver = LR['Param4_Val'][1]"
   ]
  },
  {
   "cell_type": "code",
   "execution_count": 92,
   "id": "1ca58489",
   "metadata": {},
   "outputs": [
    {
     "name": "stdout",
     "output_type": "stream",
     "text": [
      "Logistic Regression on the Test Set\n",
      "0.738\n",
      "\n",
      "Confusion Matrix\n",
      "[[17  4]\n",
      " [ 7 14]]\n"
     ]
    }
   ],
   "source": [
    "model = LogisticRegression(C=LR_c, class_weight=LR_class_weight, penalty=LR_penalty, solver=LR_solver)\n",
    "model.fit(X_train_std, y_train)\n",
    "predictions = model.predict(X_test_std)\n",
    "\n",
    "append_testing_df(\"Logistic Regression, Standardized Data\", round(accuracy_score(y_test, predictions),3))\n",
    "\n",
    "print(\"Logistic Regression on the Test Set\")\n",
    "print(round(accuracy_score(y_test, predictions),3))\n",
    "print(\"\")\n",
    "print(\"Confusion Matrix\")\n",
    "print(confusion_matrix(y_test, predictions)) "
   ]
  },
  {
   "cell_type": "markdown",
   "id": "6730d737",
   "metadata": {},
   "source": [
    "### KNN, Standardized Data"
   ]
  },
  {
   "cell_type": "code",
   "execution_count": 93,
   "id": "9f91bd3c",
   "metadata": {},
   "outputs": [
    {
     "data": {
      "text/html": [
       "<div>\n",
       "<style scoped>\n",
       "    .dataframe tbody tr th:only-of-type {\n",
       "        vertical-align: middle;\n",
       "    }\n",
       "\n",
       "    .dataframe tbody tr th {\n",
       "        vertical-align: top;\n",
       "    }\n",
       "\n",
       "    .dataframe thead th {\n",
       "        text-align: right;\n",
       "    }\n",
       "</style>\n",
       "<table border=\"1\" class=\"dataframe\">\n",
       "  <thead>\n",
       "    <tr style=\"text-align: right;\">\n",
       "      <th></th>\n",
       "      <th>Model</th>\n",
       "      <th>Score</th>\n",
       "      <th>Param1</th>\n",
       "      <th>Param1_Val</th>\n",
       "      <th>Param2</th>\n",
       "      <th>Param2_Val</th>\n",
       "      <th>Param3</th>\n",
       "      <th>Param3_Val</th>\n",
       "      <th>Param4</th>\n",
       "      <th>Param4_Val</th>\n",
       "      <th>Param5</th>\n",
       "      <th>Param5_Val</th>\n",
       "    </tr>\n",
       "  </thead>\n",
       "  <tbody>\n",
       "    <tr>\n",
       "      <th>2</th>\n",
       "      <td>KNN, Standardized Data</td>\n",
       "      <td>0.812</td>\n",
       "      <td>n_neighbors</td>\n",
       "      <td>3</td>\n",
       "      <td>p</td>\n",
       "      <td>1</td>\n",
       "      <td>algorithm</td>\n",
       "      <td>auto</td>\n",
       "      <td></td>\n",
       "      <td></td>\n",
       "      <td></td>\n",
       "      <td></td>\n",
       "    </tr>\n",
       "  </tbody>\n",
       "</table>\n",
       "</div>"
      ],
      "text/plain": [
       "                    Model  Score       Param1 Param1_Val Param2 Param2_Val  \\\n",
       "2  KNN, Standardized Data  0.812  n_neighbors          3      p          1   \n",
       "\n",
       "      Param3 Param3_Val Param4 Param4_Val Param5 Param5_Val  \n",
       "2  algorithm       auto                                      "
      ]
     },
     "execution_count": 93,
     "metadata": {},
     "output_type": "execute_result"
    }
   ],
   "source": [
    "KNN = tuning_df[tuning_df['Model'] == 'KNN, Standardized Data']\n",
    "KNN"
   ]
  },
  {
   "cell_type": "code",
   "execution_count": 94,
   "id": "63885e82",
   "metadata": {},
   "outputs": [],
   "source": [
    "KNN_n_neighbors = KNN['Param1_Val'][2]\n",
    "KNN_p = KNN['Param2_Val'][2]\n",
    "KNN_algorithm = KNN['Param3_Val'][2]"
   ]
  },
  {
   "cell_type": "code",
   "execution_count": 95,
   "id": "7760c49b",
   "metadata": {
    "scrolled": false
   },
   "outputs": [
    {
     "name": "stdout",
     "output_type": "stream",
     "text": [
      "KNN on the Test Set\n",
      "0.929\n",
      "\n",
      "Confusion Matrix\n",
      "[[21  0]\n",
      " [ 3 18]]\n"
     ]
    }
   ],
   "source": [
    "model = KNeighborsClassifier(n_neighbors = KNN_n_neighbors, \n",
    "                             p = KNN_p,\n",
    "                             algorithm = KNN_algorithm)\n",
    "model.fit(X_train_std, y_train)\n",
    "predictions = model.predict(X_test_std)\n",
    "\n",
    "append_testing_df(\"KNN, Standardized Data\", round(accuracy_score(y_test, predictions),3))\n",
    "\n",
    "print(\"KNN on the Test Set\")\n",
    "print(round(accuracy_score(y_test, predictions),3))\n",
    "print(\"\")\n",
    "print(\"Confusion Matrix\")\n",
    "print(confusion_matrix(y_test, predictions))"
   ]
  },
  {
   "cell_type": "markdown",
   "id": "0ada2fd9",
   "metadata": {},
   "source": [
    "### Adaboost, Unscaled Data"
   ]
  },
  {
   "cell_type": "code",
   "execution_count": 96,
   "id": "f18cb696",
   "metadata": {},
   "outputs": [
    {
     "data": {
      "text/html": [
       "<div>\n",
       "<style scoped>\n",
       "    .dataframe tbody tr th:only-of-type {\n",
       "        vertical-align: middle;\n",
       "    }\n",
       "\n",
       "    .dataframe tbody tr th {\n",
       "        vertical-align: top;\n",
       "    }\n",
       "\n",
       "    .dataframe thead th {\n",
       "        text-align: right;\n",
       "    }\n",
       "</style>\n",
       "<table border=\"1\" class=\"dataframe\">\n",
       "  <thead>\n",
       "    <tr style=\"text-align: right;\">\n",
       "      <th></th>\n",
       "      <th>Model</th>\n",
       "      <th>Score</th>\n",
       "      <th>Param1</th>\n",
       "      <th>Param1_Val</th>\n",
       "      <th>Param2</th>\n",
       "      <th>Param2_Val</th>\n",
       "      <th>Param3</th>\n",
       "      <th>Param3_Val</th>\n",
       "      <th>Param4</th>\n",
       "      <th>Param4_Val</th>\n",
       "      <th>Param5</th>\n",
       "      <th>Param5_Val</th>\n",
       "    </tr>\n",
       "  </thead>\n",
       "  <tbody>\n",
       "    <tr>\n",
       "      <th>3</th>\n",
       "      <td>Adaboost, Unscaled Data</td>\n",
       "      <td>0.819</td>\n",
       "      <td>learning_rate</td>\n",
       "      <td>1.0</td>\n",
       "      <td>n_estimators</td>\n",
       "      <td>50</td>\n",
       "      <td></td>\n",
       "      <td></td>\n",
       "      <td></td>\n",
       "      <td></td>\n",
       "      <td></td>\n",
       "      <td></td>\n",
       "    </tr>\n",
       "  </tbody>\n",
       "</table>\n",
       "</div>"
      ],
      "text/plain": [
       "                     Model  Score         Param1 Param1_Val        Param2  \\\n",
       "3  Adaboost, Unscaled Data  0.819  learning_rate        1.0  n_estimators   \n",
       "\n",
       "  Param2_Val Param3 Param3_Val Param4 Param4_Val Param5 Param5_Val  \n",
       "3         50                                                        "
      ]
     },
     "execution_count": 96,
     "metadata": {},
     "output_type": "execute_result"
    }
   ],
   "source": [
    "Ada = tuning_df[tuning_df['Model'] == 'Adaboost, Unscaled Data']\n",
    "Ada"
   ]
  },
  {
   "cell_type": "code",
   "execution_count": 97,
   "id": "4b8cf34e",
   "metadata": {},
   "outputs": [],
   "source": [
    "Ada_learning_rate = Ada['Param1_Val'][3]\n",
    "Ada_n_estimators = Ada['Param2_Val'][3]"
   ]
  },
  {
   "cell_type": "code",
   "execution_count": 98,
   "id": "756441bb",
   "metadata": {},
   "outputs": [
    {
     "name": "stdout",
     "output_type": "stream",
     "text": [
      "Adaboost on the Test Set\n",
      "0.8333333333333334\n",
      "\n",
      "Confusion Matrix\n",
      "[[20  1]\n",
      " [ 6 15]]\n"
     ]
    }
   ],
   "source": [
    "model = AdaBoostClassifier(learning_rate=Ada_learning_rate, n_estimators=Ada_n_estimators)\n",
    "model.fit(X_train, y_train)\n",
    "predictions = model.predict(X_test)\n",
    "\n",
    "append_testing_df(\"Adaboost, Unscaled Data\", round(accuracy_score(y_test, predictions),3))\n",
    "\n",
    "print(\"Adaboost on the Test Set\")\n",
    "print(accuracy_score(y_test, predictions))\n",
    "print(\"\")\n",
    "print(\"Confusion Matrix\")\n",
    "print(confusion_matrix(y_test, predictions)) "
   ]
  },
  {
   "cell_type": "markdown",
   "id": "1976958d",
   "metadata": {},
   "source": [
    "### Extra Trees, Unscaled Data"
   ]
  },
  {
   "cell_type": "code",
   "execution_count": 99,
   "id": "2851f8c3",
   "metadata": {},
   "outputs": [
    {
     "data": {
      "text/html": [
       "<div>\n",
       "<style scoped>\n",
       "    .dataframe tbody tr th:only-of-type {\n",
       "        vertical-align: middle;\n",
       "    }\n",
       "\n",
       "    .dataframe tbody tr th {\n",
       "        vertical-align: top;\n",
       "    }\n",
       "\n",
       "    .dataframe thead th {\n",
       "        text-align: right;\n",
       "    }\n",
       "</style>\n",
       "<table border=\"1\" class=\"dataframe\">\n",
       "  <thead>\n",
       "    <tr style=\"text-align: right;\">\n",
       "      <th></th>\n",
       "      <th>Model</th>\n",
       "      <th>Score</th>\n",
       "      <th>Param1</th>\n",
       "      <th>Param1_Val</th>\n",
       "      <th>Param2</th>\n",
       "      <th>Param2_Val</th>\n",
       "      <th>Param3</th>\n",
       "      <th>Param3_Val</th>\n",
       "      <th>Param4</th>\n",
       "      <th>Param4_Val</th>\n",
       "      <th>Param5</th>\n",
       "      <th>Param5_Val</th>\n",
       "    </tr>\n",
       "  </thead>\n",
       "  <tbody>\n",
       "    <tr>\n",
       "      <th>4</th>\n",
       "      <td>ExtraTrees, Unscaled Data</td>\n",
       "      <td>0.874</td>\n",
       "      <td>n_estimators</td>\n",
       "      <td>125</td>\n",
       "      <td>max_depth</td>\n",
       "      <td>8</td>\n",
       "      <td></td>\n",
       "      <td></td>\n",
       "      <td></td>\n",
       "      <td></td>\n",
       "      <td></td>\n",
       "      <td></td>\n",
       "    </tr>\n",
       "  </tbody>\n",
       "</table>\n",
       "</div>"
      ],
      "text/plain": [
       "                       Model  Score        Param1 Param1_Val     Param2  \\\n",
       "4  ExtraTrees, Unscaled Data  0.874  n_estimators        125  max_depth   \n",
       "\n",
       "  Param2_Val Param3 Param3_Val Param4 Param4_Val Param5 Param5_Val  \n",
       "4          8                                                        "
      ]
     },
     "execution_count": 99,
     "metadata": {},
     "output_type": "execute_result"
    }
   ],
   "source": [
    "ET = tuning_df[tuning_df['Model'] == 'ExtraTrees, Unscaled Data']\n",
    "ET"
   ]
  },
  {
   "cell_type": "code",
   "execution_count": 100,
   "id": "7b63d915",
   "metadata": {},
   "outputs": [],
   "source": [
    "ET_n_estimators = ET['Param1_Val'][4]\n",
    "ET_max_depth = ET['Param2_Val'][4]"
   ]
  },
  {
   "cell_type": "code",
   "execution_count": 101,
   "id": "38b1572e",
   "metadata": {},
   "outputs": [
    {
     "name": "stdout",
     "output_type": "stream",
     "text": [
      "ExtraTrees on the Test Set\n",
      "0.7857142857142857\n",
      "\n",
      "Confusion Matrix\n",
      "[[20  1]\n",
      " [ 8 13]]\n"
     ]
    }
   ],
   "source": [
    "model = ExtraTreesClassifier(n_estimators=ET_n_estimators, max_depth=ET_max_depth)\n",
    "model.fit(X_train, y_train)\n",
    "predictions = model.predict(X_test)\n",
    "\n",
    "append_testing_df(\"Extra Trees, Unscaled Data\", round(accuracy_score(y_test, predictions),3))\n",
    "\n",
    "print(\"ExtraTrees on the Test Set\")\n",
    "print(accuracy_score(y_test, predictions))\n",
    "print(\"\")\n",
    "print(\"Confusion Matrix\")\n",
    "print(confusion_matrix(y_test, predictions)) "
   ]
  },
  {
   "cell_type": "markdown",
   "id": "a540c3e6",
   "metadata": {},
   "source": [
    "### Gradient Boosted Machine, Unscaled Data"
   ]
  },
  {
   "cell_type": "code",
   "execution_count": 102,
   "id": "1ae2b6e6",
   "metadata": {},
   "outputs": [
    {
     "data": {
      "text/html": [
       "<div>\n",
       "<style scoped>\n",
       "    .dataframe tbody tr th:only-of-type {\n",
       "        vertical-align: middle;\n",
       "    }\n",
       "\n",
       "    .dataframe tbody tr th {\n",
       "        vertical-align: top;\n",
       "    }\n",
       "\n",
       "    .dataframe thead th {\n",
       "        text-align: right;\n",
       "    }\n",
       "</style>\n",
       "<table border=\"1\" class=\"dataframe\">\n",
       "  <thead>\n",
       "    <tr style=\"text-align: right;\">\n",
       "      <th></th>\n",
       "      <th>Model</th>\n",
       "      <th>Score</th>\n",
       "      <th>Param1</th>\n",
       "      <th>Param1_Val</th>\n",
       "      <th>Param2</th>\n",
       "      <th>Param2_Val</th>\n",
       "      <th>Param3</th>\n",
       "      <th>Param3_Val</th>\n",
       "      <th>Param4</th>\n",
       "      <th>Param4_Val</th>\n",
       "      <th>Param5</th>\n",
       "      <th>Param5_Val</th>\n",
       "    </tr>\n",
       "  </thead>\n",
       "  <tbody>\n",
       "    <tr>\n",
       "      <th>5</th>\n",
       "      <td>GBM, Unscaled Data</td>\n",
       "      <td>0.861</td>\n",
       "      <td>learning_rate</td>\n",
       "      <td>1.0</td>\n",
       "      <td>n_estimators</td>\n",
       "      <td>110</td>\n",
       "      <td>loss</td>\n",
       "      <td>exponential</td>\n",
       "      <td>min_samples_leaf</td>\n",
       "      <td>1</td>\n",
       "      <td>max_depth</td>\n",
       "      <td>3</td>\n",
       "    </tr>\n",
       "  </tbody>\n",
       "</table>\n",
       "</div>"
      ],
      "text/plain": [
       "                Model  Score         Param1 Param1_Val        Param2  \\\n",
       "5  GBM, Unscaled Data  0.861  learning_rate        1.0  n_estimators   \n",
       "\n",
       "  Param2_Val Param3   Param3_Val            Param4 Param4_Val     Param5  \\\n",
       "5        110   loss  exponential  min_samples_leaf          1  max_depth   \n",
       "\n",
       "  Param5_Val  \n",
       "5          3  "
      ]
     },
     "execution_count": 102,
     "metadata": {},
     "output_type": "execute_result"
    }
   ],
   "source": [
    "GBM = tuning_df[tuning_df['Model'] == 'GBM, Unscaled Data']\n",
    "GBM"
   ]
  },
  {
   "cell_type": "code",
   "execution_count": 103,
   "id": "1bf435a0",
   "metadata": {},
   "outputs": [],
   "source": [
    "GBM_learning_rate = GBM['Param1_Val'][5]\n",
    "GBM_n_estimators = GBM['Param2_Val'][5]\n",
    "GBM_loss = GBM['Param3_Val'][5]\n",
    "GBM_min_samples_leaf = GBM['Param4_Val'][5]\n",
    "GBM_max_depth = GBM['Param5_Val'][5]"
   ]
  },
  {
   "cell_type": "code",
   "execution_count": 104,
   "id": "a3cff76b",
   "metadata": {},
   "outputs": [
    {
     "name": "stdout",
     "output_type": "stream",
     "text": [
      "GBM on the Test Set\n",
      "0.8333333333333334\n",
      "\n",
      "Confusion Matrix\n",
      "[[20  1]\n",
      " [ 6 15]]\n"
     ]
    }
   ],
   "source": [
    "model = GradientBoostingClassifier(learning_rate=GBM_learning_rate,\n",
    "                                   n_estimators=GBM_n_estimators,\n",
    "                                   loss=GBM_loss,\n",
    "                                   min_samples_leaf=GBM_min_samples_leaf,\n",
    "                                   max_depth=GBM_max_depth)\n",
    "model.fit(X_train, y_train)\n",
    "predictions = model.predict(X_test)\n",
    "\n",
    "append_testing_df(\"GBM, Unscaled Data\", round(accuracy_score(y_test, predictions),3))\n",
    "\n",
    "print(\"GBM on the Test Set\")\n",
    "print(accuracy_score(y_test, predictions))\n",
    "print(\"\")\n",
    "print(\"Confusion Matrix\")\n",
    "print(confusion_matrix(y_test, predictions)) "
   ]
  },
  {
   "cell_type": "markdown",
   "id": "dae36b46",
   "metadata": {},
   "source": [
    "### Random Forest, Unscaled Data"
   ]
  },
  {
   "cell_type": "code",
   "execution_count": 105,
   "id": "72db7f9c",
   "metadata": {
    "scrolled": true
   },
   "outputs": [
    {
     "data": {
      "text/html": [
       "<div>\n",
       "<style scoped>\n",
       "    .dataframe tbody tr th:only-of-type {\n",
       "        vertical-align: middle;\n",
       "    }\n",
       "\n",
       "    .dataframe tbody tr th {\n",
       "        vertical-align: top;\n",
       "    }\n",
       "\n",
       "    .dataframe thead th {\n",
       "        text-align: right;\n",
       "    }\n",
       "</style>\n",
       "<table border=\"1\" class=\"dataframe\">\n",
       "  <thead>\n",
       "    <tr style=\"text-align: right;\">\n",
       "      <th></th>\n",
       "      <th>Model</th>\n",
       "      <th>Score</th>\n",
       "      <th>Param1</th>\n",
       "      <th>Param1_Val</th>\n",
       "      <th>Param2</th>\n",
       "      <th>Param2_Val</th>\n",
       "      <th>Param3</th>\n",
       "      <th>Param3_Val</th>\n",
       "      <th>Param4</th>\n",
       "      <th>Param4_Val</th>\n",
       "      <th>Param5</th>\n",
       "      <th>Param5_Val</th>\n",
       "    </tr>\n",
       "  </thead>\n",
       "  <tbody>\n",
       "    <tr>\n",
       "      <th>6</th>\n",
       "      <td>Random Forest, Unscaled Data</td>\n",
       "      <td>0.85</td>\n",
       "      <td>n_estimators</td>\n",
       "      <td>30</td>\n",
       "      <td>criterion</td>\n",
       "      <td>entropy</td>\n",
       "      <td>max_depth</td>\n",
       "      <td>20</td>\n",
       "      <td>max_leaf_nodes</td>\n",
       "      <td>280</td>\n",
       "      <td></td>\n",
       "      <td></td>\n",
       "    </tr>\n",
       "  </tbody>\n",
       "</table>\n",
       "</div>"
      ],
      "text/plain": [
       "                          Model Score        Param1 Param1_Val     Param2  \\\n",
       "6  Random Forest, Unscaled Data  0.85  n_estimators         30  criterion   \n",
       "\n",
       "  Param2_Val     Param3 Param3_Val          Param4 Param4_Val Param5  \\\n",
       "6    entropy  max_depth         20  max_leaf_nodes        280          \n",
       "\n",
       "  Param5_Val  \n",
       "6             "
      ]
     },
     "execution_count": 105,
     "metadata": {},
     "output_type": "execute_result"
    }
   ],
   "source": [
    "RF = tuning_df[tuning_df['Model'] == 'Random Forest, Unscaled Data']\n",
    "RF"
   ]
  },
  {
   "cell_type": "code",
   "execution_count": 106,
   "id": "48912d7f",
   "metadata": {},
   "outputs": [],
   "source": [
    "RF_n_estimators = RF['Param1_Val'][6]\n",
    "RF_criterion = RF['Param2_Val'][6]\n",
    "RF_max_depth = RF['Param3_Val'][6]\n",
    "RF_max_leaf_nodes = RF['Param4_Val'][6]"
   ]
  },
  {
   "cell_type": "code",
   "execution_count": 107,
   "id": "efa4f051",
   "metadata": {},
   "outputs": [
    {
     "name": "stdout",
     "output_type": "stream",
     "text": [
      "Random Forest on the Test Set\n",
      "0.7380952380952381\n",
      "\n",
      "Confusion Matrix\n",
      "[[19  2]\n",
      " [ 9 12]]\n"
     ]
    }
   ],
   "source": [
    "model = RandomForestClassifier(n_estimators=RF_n_estimators,\n",
    "                               criterion=RF_criterion,\n",
    "                               max_depth=RF_max_depth,\n",
    "                               max_leaf_nodes=RF_max_leaf_nodes)\n",
    "model.fit(X_train, y_train)\n",
    "predictions = model.predict(X_test)\n",
    "\n",
    "append_testing_df(\"Random Forest, Unscaled Data\", round(accuracy_score(y_test, predictions),3))\n",
    "\n",
    "print(\"Random Forest on the Test Set\")\n",
    "print(accuracy_score(y_test, predictions))\n",
    "print(\"\")\n",
    "print(\"Confusion Matrix\")\n",
    "print(confusion_matrix(y_test, predictions)) "
   ]
  },
  {
   "cell_type": "markdown",
   "id": "7b08ac6d",
   "metadata": {},
   "source": [
    "### XGBoost, Standardized Data"
   ]
  },
  {
   "cell_type": "code",
   "execution_count": 108,
   "id": "b51c39e2",
   "metadata": {},
   "outputs": [
    {
     "data": {
      "text/html": [
       "<div>\n",
       "<style scoped>\n",
       "    .dataframe tbody tr th:only-of-type {\n",
       "        vertical-align: middle;\n",
       "    }\n",
       "\n",
       "    .dataframe tbody tr th {\n",
       "        vertical-align: top;\n",
       "    }\n",
       "\n",
       "    .dataframe thead th {\n",
       "        text-align: right;\n",
       "    }\n",
       "</style>\n",
       "<table border=\"1\" class=\"dataframe\">\n",
       "  <thead>\n",
       "    <tr style=\"text-align: right;\">\n",
       "      <th></th>\n",
       "      <th>Model</th>\n",
       "      <th>Score</th>\n",
       "      <th>Param1</th>\n",
       "      <th>Param1_Val</th>\n",
       "      <th>Param2</th>\n",
       "      <th>Param2_Val</th>\n",
       "      <th>Param3</th>\n",
       "      <th>Param3_Val</th>\n",
       "      <th>Param4</th>\n",
       "      <th>Param4_Val</th>\n",
       "      <th>Param5</th>\n",
       "      <th>Param5_Val</th>\n",
       "    </tr>\n",
       "  </thead>\n",
       "  <tbody>\n",
       "    <tr>\n",
       "      <th>7</th>\n",
       "      <td>XGBoost, Standardized Data</td>\n",
       "      <td>0.85</td>\n",
       "      <td>n_estimators</td>\n",
       "      <td>50</td>\n",
       "      <td>max_depth</td>\n",
       "      <td>2</td>\n",
       "      <td>reg_alpha</td>\n",
       "      <td>0.01</td>\n",
       "      <td>reg_lambda</td>\n",
       "      <td>0.01</td>\n",
       "      <td></td>\n",
       "      <td></td>\n",
       "    </tr>\n",
       "  </tbody>\n",
       "</table>\n",
       "</div>"
      ],
      "text/plain": [
       "                        Model Score        Param1 Param1_Val     Param2  \\\n",
       "7  XGBoost, Standardized Data  0.85  n_estimators         50  max_depth   \n",
       "\n",
       "  Param2_Val     Param3 Param3_Val      Param4 Param4_Val Param5 Param5_Val  \n",
       "7          2  reg_alpha       0.01  reg_lambda       0.01                    "
      ]
     },
     "execution_count": 108,
     "metadata": {},
     "output_type": "execute_result"
    }
   ],
   "source": [
    "XGB = tuning_df[tuning_df['Model'] == 'XGBoost, Standardized Data']\n",
    "XGB"
   ]
  },
  {
   "cell_type": "code",
   "execution_count": 109,
   "id": "9bd536c6",
   "metadata": {},
   "outputs": [],
   "source": [
    "XGB_n_estimators = XGB['Param1_Val'][7]\n",
    "XGB_max_depth = XGB['Param2_Val'][7]\n",
    "XGB_reg_alpha = XGB['Param3_Val'][7]\n",
    "XGB_reg_lambda = XGB['Param4_Val'][7]"
   ]
  },
  {
   "cell_type": "code",
   "execution_count": 110,
   "id": "8d9a1d31",
   "metadata": {
    "scrolled": true
   },
   "outputs": [
    {
     "name": "stdout",
     "output_type": "stream",
     "text": [
      "XGBoost on the Test Set\n",
      "0.5714285714285714\n",
      "\n",
      "Confusion Matrix\n",
      "[[21  0]\n",
      " [18  3]]\n"
     ]
    }
   ],
   "source": [
    "model = XGBClassifier(n_estimators=XGB_n_estimators,\n",
    "                      max_depth=XGB_max_depth,\n",
    "                      reg_alpha=XGB_reg_alpha,\n",
    "                      reg_lambda=XGB_reg_lambda)\n",
    "model.fit(X_train_std, y_train)\n",
    "predictions = model.predict(X_test)\n",
    "\n",
    "append_testing_df(\"XGBoost, Standardized Data\", round(accuracy_score(y_test, predictions),3))\n",
    "\n",
    "print(\"XGBoost on the Test Set\")\n",
    "print(accuracy_score(y_test, predictions))\n",
    "print(\"\")\n",
    "print(\"Confusion Matrix\")\n",
    "print(confusion_matrix(y_test, predictions)) "
   ]
  },
  {
   "cell_type": "code",
   "execution_count": 113,
   "id": "6e6fd57e",
   "metadata": {},
   "outputs": [
    {
     "data": {
      "text/html": [
       "<div>\n",
       "<style scoped>\n",
       "    .dataframe tbody tr th:only-of-type {\n",
       "        vertical-align: middle;\n",
       "    }\n",
       "\n",
       "    .dataframe tbody tr th {\n",
       "        vertical-align: top;\n",
       "    }\n",
       "\n",
       "    .dataframe thead th {\n",
       "        text-align: right;\n",
       "    }\n",
       "</style>\n",
       "<table border=\"1\" class=\"dataframe\">\n",
       "  <thead>\n",
       "    <tr style=\"text-align: right;\">\n",
       "      <th></th>\n",
       "      <th>Model</th>\n",
       "      <th>Score</th>\n",
       "    </tr>\n",
       "  </thead>\n",
       "  <tbody>\n",
       "    <tr>\n",
       "      <th>2</th>\n",
       "      <td>KNN, Standardized Data</td>\n",
       "      <td>0.929</td>\n",
       "    </tr>\n",
       "    <tr>\n",
       "      <th>3</th>\n",
       "      <td>Adaboost, Unscaled Data</td>\n",
       "      <td>0.833</td>\n",
       "    </tr>\n",
       "    <tr>\n",
       "      <th>5</th>\n",
       "      <td>GBM, Unscaled Data</td>\n",
       "      <td>0.833</td>\n",
       "    </tr>\n",
       "    <tr>\n",
       "      <th>4</th>\n",
       "      <td>Extra Trees, Unscaled Data</td>\n",
       "      <td>0.786</td>\n",
       "    </tr>\n",
       "    <tr>\n",
       "      <th>1</th>\n",
       "      <td>Logistic Regression, Standardized Data</td>\n",
       "      <td>0.738</td>\n",
       "    </tr>\n",
       "    <tr>\n",
       "      <th>6</th>\n",
       "      <td>Random Forest, Unscaled Data</td>\n",
       "      <td>0.738</td>\n",
       "    </tr>\n",
       "    <tr>\n",
       "      <th>7</th>\n",
       "      <td>XGBoost, Standardized Data</td>\n",
       "      <td>0.571</td>\n",
       "    </tr>\n",
       "  </tbody>\n",
       "</table>\n",
       "</div>"
      ],
      "text/plain": [
       "                                    Model  Score\n",
       "2                  KNN, Standardized Data  0.929\n",
       "3                 Adaboost, Unscaled Data  0.833\n",
       "5                      GBM, Unscaled Data  0.833\n",
       "4              Extra Trees, Unscaled Data  0.786\n",
       "1  Logistic Regression, Standardized Data  0.738\n",
       "6            Random Forest, Unscaled Data  0.738\n",
       "7              XGBoost, Standardized Data  0.571"
      ]
     },
     "execution_count": 113,
     "metadata": {},
     "output_type": "execute_result"
    }
   ],
   "source": [
    "testing_df.sort_values(by='Score', ascending=False)"
   ]
  }
 ],
 "metadata": {
  "kernelspec": {
   "display_name": "Python 3 (ipykernel)",
   "language": "python",
   "name": "python3"
  },
  "language_info": {
   "codemirror_mode": {
    "name": "ipython",
    "version": 3
   },
   "file_extension": ".py",
   "mimetype": "text/x-python",
   "name": "python",
   "nbconvert_exporter": "python",
   "pygments_lexer": "ipython3",
   "version": "3.9.13"
  }
 },
 "nbformat": 4,
 "nbformat_minor": 5
}
